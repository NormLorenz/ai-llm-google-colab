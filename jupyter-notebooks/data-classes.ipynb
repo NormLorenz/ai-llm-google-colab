{
  "nbformat": 4,
  "nbformat_minor": 0,
  "metadata": {
    "colab": {
      "provenance": [],
      "authorship_tag": "ABX9TyMLoSb/0HFagzq9az30yjYZ",
      "include_colab_link": true
    },
    "kernelspec": {
      "name": "python3",
      "display_name": "Python 3"
    },
    "language_info": {
      "name": "python"
    }
  },
  "cells": [
    {
      "cell_type": "markdown",
      "metadata": {
        "id": "view-in-github",
        "colab_type": "text"
      },
      "source": [
        "<a href=\"https://colab.research.google.com/github/NormLorenz/ai-llm-google-colab/blob/main/jupyter-notebooks/data-classes.ipynb\" target=\"_parent\"><img src=\"https://colab.research.google.com/assets/colab-badge.svg\" alt=\"Open In Colab\"/></a>"
      ]
    },
    {
      "cell_type": "code",
      "execution_count": null,
      "metadata": {
        "id": "jQSnvTB1zFgD"
      },
      "outputs": [],
      "source": [
        "import dataclasses\n",
        "\n",
        "@dataclasses.dataclass\n",
        "class Point:\n",
        "    x: float\n",
        "    y: float\n",
        "\n",
        "p = Point(1.0, 2.0)\n",
        "print(p)\n",
        "\n",
        "@dataclasses.dataclass(eq=True, order=True)\n",
        "class Rectangle:\n",
        "    width: float\n",
        "    height: float = 0.0\n",
        "\n",
        "r1 = Rectangle(10.0)\n",
        "r2 = Rectangle(5.0, 5.0)\n",
        "print(r1 == r2)\n",
        "print(r1 > r2)\n",
        "\n"
      ]
    },
    {
      "cell_type": "code",
      "metadata": {
        "id": "9cda1963"
      },
      "source": [
        "import json\n",
        "import dataclasses\n",
        "\n",
        "@dataclasses.dataclass\n",
        "class Contact:\n",
        "  name : str\n",
        "  email : str\n",
        "  phone : str\n",
        "\n",
        "@dataclasses.dataclass\n",
        "class Address:\n",
        "  street : str\n",
        "  city: str\n",
        "  state: str\n",
        "  zip: str\n",
        "\n",
        "@dataclasses.dataclass\n",
        "class Person:\n",
        "  name : str\n",
        "  age: int\n",
        "  address : Address\n",
        "  contacts: list[Contact]\n",
        "\n",
        "# Create sample data for Address\n",
        "sample_address = Address(\n",
        "    street=\"123 Main St\",\n",
        "    city=\"Anytown\",\n",
        "    state=\"CA\",\n",
        "    zip=\"91234\"\n",
        ")\n",
        "\n",
        "# Create sample data for Contact\n",
        "sample_contact1 = Contact(\n",
        "    name=\"Jane Doe\",\n",
        "    email=\"jane.doe@example.com\",\n",
        "    phone=\"555-123-4567\"\n",
        ")\n",
        "\n",
        "sample_contact2 = Contact(\n",
        "    name=\"John Smith\",\n",
        "    email=\"john.smith@example.com\",\n",
        "    phone=\"555-987-6543\"\n",
        ")\n",
        "\n",
        "# Create sample data for Person\n",
        "sample_person = Person(\n",
        "    name=\"Alice Brown\",\n",
        "    age=30,\n",
        "    address=sample_address,\n",
        "    contacts=[sample_contact1, sample_contact2]\n",
        ")\n",
        "\n"
      ],
      "execution_count": null,
      "outputs": []
    },
    {
      "cell_type": "code",
      "source": [
        "# Print the sample data\n",
        "# print(sample_person)\n",
        "\n",
        "# Convert the dataclass object to a dictionary\n",
        "sample_person_dict = dataclasses.asdict(sample_person)\n",
        "\n",
        "# Output the dictionary as a JSON string\n",
        "print(json.dumps(sample_person_dict, indent=4))"
      ],
      "metadata": {
        "id": "Qih-_zOo6eyD"
      },
      "execution_count": null,
      "outputs": []
    },
    {
      "cell_type": "code",
      "metadata": {
        "id": "019c725b"
      },
      "source": [
        "# Convert the JSON dictionary back to a Person object\n",
        "# This requires reconstructing the nested dataclasses\n",
        "person_from_json = Person(\n",
        "    name=sample_person_dict['name'],\n",
        "    age=sample_person_dict['age'],\n",
        "    address=Address(**sample_person_dict['address']),\n",
        "    contacts=[Contact(**contact_dict) for contact_dict in sample_person_dict['contacts']]\n",
        ")\n",
        "\n",
        "# Print the reconstructed Person object to verify\n",
        "print(person_from_json)\n",
        "\n",
        "# You can also verify the type\n",
        "print(type(person_from_json))"
      ],
      "execution_count": null,
      "outputs": []
    },
    {
      "cell_type": "code",
      "source": [],
      "metadata": {
        "id": "BAM9_W5U60g4"
      },
      "execution_count": null,
      "outputs": []
    },
    {
      "cell_type": "markdown",
      "source": [
        "# Demonstrate the use of DataClasses loaded from JSON"
      ],
      "metadata": {
        "id": "mHalIclpAnn_"
      }
    },
    {
      "cell_type": "code",
      "metadata": {
        "id": "9193d69e"
      },
      "source": [
        "import json\n",
        "\n",
        "cat_data = {\n",
        "    \"name\": \"Whiskers\",\n",
        "    \"species\": \"cat\",\n",
        "    \"breed\": \"Siamese\",\n",
        "    \"age\": 3,\n",
        "    \"color\": \"cream\",\n",
        "    \"is_friendly\": True,\n",
        "    \"toys\": [\"mouse\", \"ball of yarn\"]\n",
        "}\n",
        "\n",
        "print(json.dumps(cat_data, indent=4))"
      ],
      "execution_count": null,
      "outputs": []
    },
    {
      "cell_type": "code",
      "metadata": {
        "id": "846beddc"
      },
      "source": [
        "import dataclasses\n",
        "\n",
        "@dataclasses.dataclass\n",
        "class Cat:\n",
        "    name: str\n",
        "    species: str\n",
        "    breed: str\n",
        "    age: int\n",
        "    color: str\n",
        "    is_friendly: bool\n",
        "    toys: list[str]\n",
        "\n",
        "# Assuming cat_data dictionary is available from the previous cell\n",
        "cat_instance = Cat(**cat_data)\n",
        "\n",
        "# Print the dataclass instance to verify\n",
        "print(cat_instance)\n",
        "print(type(cat_instance))\n",
        "\n",
        "print(cat_instance.age)\n",
        "print(cat_instance.toys[1])"
      ],
      "execution_count": null,
      "outputs": []
    }
  ]
}
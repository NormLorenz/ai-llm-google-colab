{
 "cells": [
  {
   "cell_type": "markdown",
   "metadata": {
    "id": "8sIRXwC8zgyt"
   },
   "source": [
    "# Hello Norm"
   ]
  },
  {
   "cell_type": "code",
   "execution_count": null,
   "metadata": {
    "id": "HP6eVZpyws6q"
   },
   "outputs": [],
   "source": [
    "a: int = 1\n",
    "b: int = 2\n",
    "print(a + b)"
   ]
  },
  {
   "cell_type": "code",
   "execution_count": null,
   "metadata": {
    "id": "lNH_7Hyjzk6c"
   },
   "outputs": [],
   "source": [
    "print(a + b + a)"
   ]
  },
  {
   "cell_type": "markdown",
   "metadata": {
    "id": "0Os-vrBJFx1U"
   },
   "source": [
    "# Our first LLM call"
   ]
  },
  {
   "cell_type": "code",
   "execution_count": null,
   "metadata": {
    "colab": {
     "base_uri": "https://localhost:8080/"
    },
    "executionInfo": {
     "elapsed": 4578,
     "status": "ok",
     "timestamp": 1759422907236,
     "user": {
      "displayName": "Norm Lorenz",
      "userId": "02583923399523510256"
     },
     "user_tz": 420
    },
    "id": "728bkcFd_2yI",
    "outputId": "ffda038e-5357-4f7c-dd60-c2147387b230"
   },
   "outputs": [],
   "source": [
    "from google.colab import userdata\n",
    "from openai import OpenAI\n",
    "\n",
    "# Get the OpenAI secret\n",
    "open_ai_secret = userdata.get('OPENAI_API_KEY')\n",
    "\n",
    "# Initialize the OpenAI client\n",
    "openai = OpenAI(api_key=open_ai_secret)\n",
    "\n",
    "# A generic system message\n",
    "system_message = \"You are a helpful assistant\"\n",
    "\n",
    "# A user message\n",
    "user_message = \"How far is it from Spokane to Post Falls?\"\n",
    "\n",
    "# Default model\n",
    "MODEL = \"gpt-4o-mini\"\n",
    "\n",
    "# Define messages dict\n",
    "messages = [\n",
    "    {\"role\": \"system\", \"content\": system_message},\n",
    "    {\"role\": \"user\", \"content\": user_message}\n",
    "    ]\n",
    "\n",
    "# Print something for the user to see\n",
    "response = openai.chat.completions.create(model=MODEL, messages=messages)\n",
    "print(response.choices[0].message.content)\n"
   ]
  },
  {
   "cell_type": "markdown",
   "metadata": {
    "id": "42wKJvnYxqsJ"
   },
   "source": [
    "# Our next LLM call"
   ]
  },
  {
   "cell_type": "code",
   "execution_count": null,
   "metadata": {
    "colab": {
     "base_uri": "https://localhost:8080/"
    },
    "executionInfo": {
     "elapsed": 24268,
     "status": "ok",
     "timestamp": 1759422992828,
     "user": {
      "displayName": "Norm Lorenz",
      "userId": "02583923399523510256"
     },
     "user_tz": 420
    },
    "id": "hu-wKuDWx1ih",
    "outputId": "e85b730f-c6c4-44d6-fd0c-5c56ee06c838"
   },
   "outputs": [],
   "source": [
    "# A user message for image generation\n",
    "\n",
    "image_prompt = \"Coeur d' Alene at sunset\"\n",
    "\n",
    "# Generate the image\n",
    "response = openai.images.generate(\n",
    "  model=\"dall-e-3\",\n",
    "  prompt=image_prompt,\n",
    "  size=\"1792x1024\",\n",
    "  quality=\"standard\",\n",
    "  n=1,\n",
    ")\n",
    "\n",
    "# Return something to the caller\n",
    "image_url = response.data[0].url\n",
    "print(image_url)"
   ]
  },
  {
   "cell_type": "markdown",
   "metadata": {
    "id": "0e96HHK_0pNG"
   },
   "source": [
    "# Try some more code"
   ]
  },
  {
   "cell_type": "code",
   "execution_count": null,
   "metadata": {
    "colab": {
     "base_uri": "https://localhost:8080/"
    },
    "executionInfo": {
     "elapsed": 18134,
     "status": "ok",
     "timestamp": 1759423026656,
     "user": {
      "displayName": "Norm Lorenz",
      "userId": "02583923399523510256"
     },
     "user_tz": 420
    },
    "id": "ZdIiZOL106em",
    "outputId": "596d4037-ba75-4928-f87b-2e1a42ce6418"
   },
   "outputs": [],
   "source": [
    "from google.colab import userdata\n",
    "from openai import OpenAI\n",
    "\n",
    "# Get the OpenAI secret\n",
    "open_ai_secret = userdata.get('OPENAI_API_KEY')\n",
    "\n",
    "# Initialize the OpenAI client\n",
    "openai = OpenAI(api_key=open_ai_secret)\n",
    "\n",
    "# A user message for image generation\n",
    "image_prompt = \"An exquisite art deco artwork that portrays the charm of a 1920s New York shiny street bathed in the warm glow of night, showing a classic vintage car and fashionable pedestrians traverse the bustling sidewalks, adding a touch of elegance to the cityscape.\"\n",
    "\n",
    "# Generate the image\n",
    "response = openai.images.generate(\n",
    "  model=\"dall-e-3\",\n",
    "  prompt=image_prompt,\n",
    "  size=\"1792x1024\",\n",
    "  quality=\"standard\",\n",
    "  n=1,\n",
    ")\n",
    "\n",
    "# Return something to the caller\n",
    "image_url = response.data[0].url\n",
    "print(image_url)\n"
   ]
  }
 ],
 "metadata": {
  "colab": {
   "authorship_tag": "ABX9TyPFphlKz8JMChWKLj/NmqWw",
   "provenance": [],
   "toc_visible": true
  },
  "kernelspec": {
   "display_name": "Python 3",
   "name": "python3"
  },
  "language_info": {
   "name": "python"
  }
 },
 "nbformat": 4,
 "nbformat_minor": 0
}

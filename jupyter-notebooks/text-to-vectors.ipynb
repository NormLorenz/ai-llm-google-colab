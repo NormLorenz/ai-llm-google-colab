{
  "cells": [
    {
      "cell_type": "markdown",
      "metadata": {
        "id": "view-in-github",
        "colab_type": "text"
      },
      "source": [
        "<a href=\"https://colab.research.google.com/github/NormLorenz/ai-llm-google-colab/blob/main/jupyter-notebooks/text-to-vectors.ipynb\" target=\"_parent\"><img src=\"https://colab.research.google.com/assets/colab-badge.svg\" alt=\"Open In Colab\"/></a>"
      ]
    },
    {
      "cell_type": "markdown",
      "id": "dfe37963-1af6-44fc-a841-8e462443f5e6",
      "metadata": {
        "id": "dfe37963-1af6-44fc-a841-8e462443f5e6"
      },
      "source": [
        "## Expert Knowledge Worker\n",
        "\n",
        "### A question answering agent that is an expert knowledge worker\n",
        "### To be used by employees of Insurellm, an Insurance Tech company\n",
        "### The agent needs to be accurate and the solution should be low cost.\n",
        "\n",
        "This project will use RAG (Retrieval Augmented Generation) to ensure our question/answering assistant has high accuracy."
      ]
    },
    {
      "cell_type": "code",
      "execution_count": 1,
      "id": "ba2779af-84ef-4227-9e9e-6eaf0df87e77",
      "metadata": {
        "id": "ba2779af-84ef-4227-9e9e-6eaf0df87e77"
      },
      "outputs": [],
      "source": [
        "# imports\n",
        "\n",
        "import os\n",
        "import glob\n",
        "# from dotenv import load_dotenv\n",
        "import gradio as gr\n",
        "from google.colab import userdata\n",
        "from openai import OpenAI"
      ]
    },
    {
      "cell_type": "code",
      "source": [
        "!pip install langchain-core langchain-text-splitters langchain-openai langchain-chroma langchain-community"
      ],
      "metadata": {
        "id": "wZWhE9vXVO_h"
      },
      "id": "wZWhE9vXVO_h",
      "execution_count": null,
      "outputs": []
    },
    {
      "cell_type": "code",
      "execution_count": 4,
      "id": "802137aa-8a74-45e0-a487-d1974927d7ca",
      "metadata": {
        "id": "802137aa-8a74-45e0-a487-d1974927d7ca"
      },
      "outputs": [],
      "source": [
        "# imports for langchain\n",
        "\n",
        "from langchain.document_loaders import DirectoryLoader, TextLoader\n",
        "from langchain.text_splitter import CharacterTextSplitter"
      ]
    },
    {
      "cell_type": "code",
      "execution_count": 5,
      "id": "58c85082-e417-4708-9efe-81a5d55d1424",
      "metadata": {
        "id": "58c85082-e417-4708-9efe-81a5d55d1424"
      },
      "outputs": [],
      "source": [
        "# price is a factor for our company, so we're going to use a low cost model\n",
        "\n",
        "MODEL = \"gpt-4o-mini\"\n",
        "db_name = \"vector_db\""
      ]
    },
    {
      "cell_type": "code",
      "source": [
        "# load static files\n",
        "\n",
        "from google.colab import drive\n",
        "drive.mount('/content/drive')"
      ],
      "metadata": {
        "id": "Cbhr3ARfskRH",
        "outputId": "405fbc12-ef82-4c58-fac9-0f9620dfc11a",
        "colab": {
          "base_uri": "https://localhost:8080/"
        }
      },
      "id": "Cbhr3ARfskRH",
      "execution_count": 6,
      "outputs": [
        {
          "output_type": "stream",
          "name": "stdout",
          "text": [
            "Drive already mounted at /content/drive; to attempt to forcibly remount, call drive.mount(\"/content/drive\", force_remount=True).\n"
          ]
        }
      ]
    },
    {
      "cell_type": "code",
      "execution_count": 7,
      "id": "ee78efcb-60fe-449e-a944-40bab26261af",
      "metadata": {
        "id": "ee78efcb-60fe-449e-a944-40bab26261af"
      },
      "outputs": [],
      "source": [
        "# keys\n",
        "\n",
        "openai_api_key = userdata.get(\"OPENAI_API_KEY\")\n",
        "# claude_api_key = userdata.get(\"ANTHROPIC_API_KEY\")\n",
        "# google_api_key = userdata.get(\"GOOGLE_API_KEY\")\n",
        "# hugging_face_token = userdata.get(\"HF_TOKEN\")\n",
        "\n",
        "# load_dotenv(override=True)\n",
        "# os.environ['OPENAI_API_KEY'] = os.getenv('OPENAI_API_KEY', 'your-key-if-not-using-env')"
      ]
    },
    {
      "cell_type": "code",
      "source": [
        "# initialize\n",
        "\n",
        "openai = OpenAI(api_key=openai_api_key)"
      ],
      "metadata": {
        "id": "tSIx2jvRW_eV"
      },
      "id": "tSIx2jvRW_eV",
      "execution_count": 8,
      "outputs": []
    },
    {
      "cell_type": "code",
      "execution_count": 9,
      "id": "730711a9-6ffe-4eee-8f48-d6cfb7314905",
      "metadata": {
        "id": "730711a9-6ffe-4eee-8f48-d6cfb7314905"
      },
      "outputs": [],
      "source": [
        "# Read in documents using LangChain's loaders\n",
        "# Take everything in all the sub-folders of our knowledgebase\n",
        "# Thank you Mark D. and Zoya H. for fixing a bug here..\n",
        "\n",
        "folders = glob.glob(\"/content/drive/MyDrive/knowledge-base/*\")\n",
        "\n",
        "# With thanks to CG and Jon R, students on the course, for this fix needed for some users\n",
        "text_loader_kwargs = {'encoding': 'utf-8'}\n",
        "# If that doesn't work, some Windows users might need to uncomment the next line instead\n",
        "# text_loader_kwargs={'autodetect_encoding': True}\n",
        "\n",
        "documents = []\n",
        "for folder in folders:\n",
        "    doc_type = os.path.basename(folder)\n",
        "    loader = DirectoryLoader(folder, glob=\"**/*.md\", loader_cls=TextLoader, loader_kwargs=text_loader_kwargs)\n",
        "    folder_docs = loader.load()\n",
        "    for doc in folder_docs:\n",
        "        doc.metadata[\"doc_type\"] = doc_type\n",
        "        documents.append(doc)"
      ]
    },
    {
      "cell_type": "code",
      "execution_count": 10,
      "id": "252f17e9-3529-4e81-996c-cfa9f08e75a8",
      "metadata": {
        "colab": {
          "base_uri": "https://localhost:8080/"
        },
        "id": "252f17e9-3529-4e81-996c-cfa9f08e75a8",
        "outputId": "c9db6425-b737-40aa-cf39-b18fee9d5025"
      },
      "outputs": [
        {
          "output_type": "execute_result",
          "data": {
            "text/plain": [
              "31"
            ]
          },
          "metadata": {},
          "execution_count": 10
        }
      ],
      "source": [
        "len(documents)"
      ]
    },
    {
      "cell_type": "code",
      "execution_count": 12,
      "id": "7e8decb0-d9b0-4d51-8402-7a6174d22159",
      "metadata": {
        "id": "7e8decb0-d9b0-4d51-8402-7a6174d22159",
        "outputId": "c4300f5c-f0e9-4c0f-a113-850349d7546d",
        "colab": {
          "base_uri": "https://localhost:8080/"
        }
      },
      "outputs": [
        {
          "output_type": "execute_result",
          "data": {
            "text/plain": [
              "Document(metadata={'source': '/content/drive/MyDrive/knowledge-base/employees/Oliver Spencer.md', 'doc_type': 'employees'}, page_content='# HR Record\\n\\n# Oliver Spencer\\n\\n## Summary\\n- **Date of Birth**: May 14, 1990  \\n- **Job Title**: Backend Software Engineer  \\n- **Location**: Austin, Texas  \\n\\n## Insurellm Career Progression\\n- **March 2018**: Joined Insurellm as a Backend Developer I, focusing on API development for customer management systems.\\n- **July 2019**: Promoted to Backend Developer II after successfully leading a team project to revamp the claims processing system, reducing response time by 30%.\\n- **June 2021**: Transitioned to Backend Software Engineer with a broader role in architecture and system design, collaborating closely with the DevOps team.\\n- **September 2022**: Assigned as the lead engineer for the new \"Innovate\" initiative, aimed at integrating AI-driven solutions into existing products.\\n- **January 2023**: Awarded a mentorship role to guide new hires in backend technology and best practices within Insurellm.\\n\\n## Annual Performance History\\n- **2018**: **3/5** - Adaptable team player but still learning to take initiative.\\n- **2019**: **4/5** - Demonstrated strong problem-solving skills, outstanding contribution on the claims project.\\n- **2020**: **2/5** - Struggled with time management; fell behind on deadlines during a high-traffic release period.\\n- **2021**: **4/5** - Made a significant turnaround with organized work habits and successful project management.\\n- **2022**: **5/5** - Exceptional performance during the \"Innovate\" initiative, showcasing leadership and creativity.\\n- **2023**: **3/5** - Maintaining steady work; expectations for innovation not fully met, leading to discussions about goals.\\n\\n## Compensation History\\n- **March 2018**: Initial salary of $80,000.\\n- **July 2019**: Salary increased to $90,000 post-promotion.\\n- **June 2021**: Salary raised to $105,000 after role transition.\\n- **September 2022**: Salary adjustment to $120,000 due to increased responsibilities and performance.\\n- **January 2023**: Revised salary of $125,000 in recognition of mentorship role.\\n\\n## Other HR Notes\\n- Oliver enjoys a strong rapport with team members and is known for organizing regular team-building activities.\\n- Participated in Insurellm’s Hackathon in 2022, where he led a project that won “Best Overall Solution.” \\n- Pursuing AWS Certified Solutions Architect certification to enhance cloud skillset.\\n- Has expressed interest in further leadership opportunities within Insurellm and may consider project management roles in the future.')"
            ]
          },
          "metadata": {},
          "execution_count": 12
        }
      ],
      "source": [
        "documents[24]"
      ]
    },
    {
      "cell_type": "code",
      "execution_count": 13,
      "id": "7310c9c8-03c1-4efc-a104-5e89aec6db1a",
      "metadata": {
        "id": "7310c9c8-03c1-4efc-a104-5e89aec6db1a",
        "outputId": "13c2ceac-9dd8-4930-d23d-e11ccb057bd8",
        "colab": {
          "base_uri": "https://localhost:8080/"
        }
      },
      "outputs": [
        {
          "output_type": "stream",
          "name": "stderr",
          "text": [
            "WARNING:langchain_text_splitters.base:Created a chunk of size 1088, which is longer than the specified 1000\n"
          ]
        }
      ],
      "source": [
        "text_splitter = CharacterTextSplitter(chunk_size=1000, chunk_overlap=200)\n",
        "chunks = text_splitter.split_documents(documents)"
      ]
    },
    {
      "cell_type": "code",
      "execution_count": 14,
      "id": "cd06e02f-6d9b-44cc-a43d-e1faa8acc7bb",
      "metadata": {
        "id": "cd06e02f-6d9b-44cc-a43d-e1faa8acc7bb",
        "outputId": "49fad098-9f0d-440f-ec9e-969a8f75bf1f",
        "colab": {
          "base_uri": "https://localhost:8080/"
        }
      },
      "outputs": [
        {
          "output_type": "execute_result",
          "data": {
            "text/plain": [
              "123"
            ]
          },
          "metadata": {},
          "execution_count": 14
        }
      ],
      "source": [
        "len(chunks)"
      ]
    },
    {
      "cell_type": "code",
      "execution_count": 16,
      "id": "d2562754-9052-4aae-92c1-37236435ea06",
      "metadata": {
        "id": "d2562754-9052-4aae-92c1-37236435ea06",
        "outputId": "086ee173-4e43-4dd5-97d2-b1b83e2f571a",
        "colab": {
          "base_uri": "https://localhost:8080/"
        }
      },
      "outputs": [
        {
          "output_type": "execute_result",
          "data": {
            "text/plain": [
              "Document(metadata={'source': '/content/drive/MyDrive/knowledge-base/contracts/Contract with Roadway Insurance Inc. for Carllm.md', 'doc_type': 'contracts'}, page_content='---\\n\\n## Support\\n\\n1. **Technical Support**: Roadway Insurance Inc. will receive priority technical support from Insurellm for any issues arising from the Carllm product.\\n2. **Training**: Insurellm will provide up to 5 training sessions for Roadway Insurance Inc. staff on the effective use of the Carllm platform, scheduled at mutual convenience.\\n3. **Updates and Maintenance**: Regular updates to the Carllm platform will be conducted quarterly, and any maintenance outages will be communicated at least 48 hours in advance.\\n\\n---\\n\\n*This contract outlines the terms of the relationship between Insurellm and Roadway Insurance Inc. for the Carllm product, emphasizing the collaborative spirit aimed at transforming the auto insurance landscape.*')"
            ]
          },
          "metadata": {},
          "execution_count": 16
        }
      ],
      "source": [
        "chunks[6]"
      ]
    },
    {
      "cell_type": "code",
      "execution_count": 17,
      "id": "2c54b4b6-06da-463d-bee7-4dd456c2b887",
      "metadata": {
        "id": "2c54b4b6-06da-463d-bee7-4dd456c2b887",
        "outputId": "a64efb32-0217-4c19-89b8-008d89bba89d",
        "colab": {
          "base_uri": "https://localhost:8080/"
        }
      },
      "outputs": [
        {
          "output_type": "stream",
          "name": "stdout",
          "text": [
            "Document types found: contracts, products, employees, company\n"
          ]
        }
      ],
      "source": [
        "doc_types = set(chunk.metadata['doc_type'] for chunk in chunks)\n",
        "print(f\"Document types found: {', '.join(doc_types)}\")"
      ]
    },
    {
      "cell_type": "code",
      "execution_count": 18,
      "id": "128c73f7-f149-4904-a554-8140941fce0c",
      "metadata": {
        "id": "128c73f7-f149-4904-a554-8140941fce0c",
        "outputId": "77f27f01-eb52-4a20-bf81-47457f5da643",
        "colab": {
          "base_uri": "https://localhost:8080/"
        }
      },
      "outputs": [
        {
          "output_type": "stream",
          "name": "stdout",
          "text": [
            "page_content='# About Insurellm\n",
            "\n",
            "Insurellm was founded by Avery Lancaster in 2015 as an insurance tech startup designed to disrupt an industry in need of innovative products. It's first product was Markellm, the marketplace connecting consumers with insurance providers.\n",
            "It rapidly expanded, adding new products and clients, reaching 200 emmployees by 2024 with 12 offices across the US.' metadata={'source': '/content/drive/MyDrive/knowledge-base/company/about.md', 'doc_type': 'company'}\n",
            "_________\n",
            "page_content='# Avery Lancaster\n",
            "\n",
            "## Summary\n",
            "- **Date of Birth**: March 15, 1985  \n",
            "- **Job Title**: Co-Founder & Chief Executive Officer (CEO)  \n",
            "- **Location**: San Francisco, California  \n",
            "\n",
            "## Insurellm Career Progression\n",
            "- **2015 - Present**: Co-Founder & CEO  \n",
            "  Avery Lancaster co-founded Insurellm in 2015 and has since guided the company to its current position as a leading Insurance Tech provider. Avery is known for her innovative leadership strategies and risk management expertise that have catapulted the company into the mainstream insurance market.  \n",
            "\n",
            "- **2013 - 2015**: Senior Product Manager at Innovate Insurance Solutions  \n",
            "  Before launching Insurellm, Avery was a leading Senior Product Manager at Innovate Insurance Solutions, where she developed groundbreaking insurance products aimed at the tech sector.' metadata={'source': '/content/drive/MyDrive/knowledge-base/employees/Avery Lancaster.md', 'doc_type': 'employees'}\n",
            "_________\n",
            "page_content='## Other HR Notes\n",
            "- **Professional Development**: Avery has actively participated in leadership training programs and industry conferences, representing Insurellm and fostering partnerships.  \n",
            "- **Diversity & Inclusion Initiatives**: Avery has championed a commitment to diversity in hiring practices, seeing visible improvements in team representation since 2021.  \n",
            "- **Work-Life Balance**: Feedback revealed concerns regarding work-life balance, which Avery has approached by implementing flexible working conditions and ensuring regular check-ins with the team.\n",
            "- **Community Engagement**: Avery led community outreach efforts, focusing on financial literacy programs, particularly aimed at underserved populations, improving Insurellm's corporate social responsibility image.  \n",
            "\n",
            "Avery Lancaster has demonstrated resilience and adaptability throughout her career at Insurellm, positioning the company as a key player in the insurance technology landscape.' metadata={'source': '/content/drive/MyDrive/knowledge-base/employees/Avery Lancaster.md', 'doc_type': 'employees'}\n",
            "_________\n"
          ]
        }
      ],
      "source": [
        "for chunk in chunks:\n",
        "    if 'Lancaster' in chunk.page_content:\n",
        "        print(chunk)\n",
        "        print(\"_________\")"
      ]
    }
  ],
  "metadata": {
    "kernelspec": {
      "display_name": "Python 3 (ipykernel)",
      "language": "python",
      "name": "python3"
    },
    "language_info": {
      "codemirror_mode": {
        "name": "ipython",
        "version": 3
      },
      "file_extension": ".py",
      "mimetype": "text/x-python",
      "name": "python",
      "nbconvert_exporter": "python",
      "pygments_lexer": "ipython3",
      "version": "3.11.12"
    },
    "colab": {
      "provenance": [],
      "include_colab_link": true
    }
  },
  "nbformat": 4,
  "nbformat_minor": 5
}
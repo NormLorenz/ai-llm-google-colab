{
  "cells": [
    {
      "cell_type": "markdown",
      "metadata": {
        "id": "view-in-github",
        "colab_type": "text"
      },
      "source": [
        "<a href=\"https://colab.research.google.com/github/NormLorenz/ai-llm-google-colab/blob/main/jupyter-notebooks/text-to-vectors.ipynb\" target=\"_parent\"><img src=\"https://colab.research.google.com/assets/colab-badge.svg\" alt=\"Open In Colab\"/></a>"
      ]
    },
    {
      "cell_type": "markdown",
      "id": "dfe37963-1af6-44fc-a841-8e462443f5e6",
      "metadata": {
        "id": "dfe37963-1af6-44fc-a841-8e462443f5e6"
      },
      "source": [
        "## Expert Knowledge Worker\n",
        "\n",
        "### A question answering agent that is an expert knowledge worker\n",
        "### To be used by employees of Insurellm, an Insurance Tech company\n",
        "### The agent needs to be accurate and the solution should be low cost.\n",
        "\n",
        "This project will use RAG (Retrieval Augmented Generation) to ensure our question/answering assistant has high accuracy."
      ]
    },
    {
      "cell_type": "code",
      "source": [
        "# load static files\n",
        "\n",
        "from google.colab import drive\n",
        "drive.mount('/content/drive')"
      ],
      "metadata": {
        "id": "GkrDklcU90TI",
        "colab": {
          "base_uri": "https://localhost:8080/"
        },
        "outputId": "14800102-f129-48a9-f6e2-47ed9434b287"
      },
      "id": "GkrDklcU90TI",
      "execution_count": 127,
      "outputs": [
        {
          "output_type": "stream",
          "name": "stdout",
          "text": [
            "Drive already mounted at /content/drive; to attempt to forcibly remount, call drive.mount(\"/content/drive\", force_remount=True).\n"
          ]
        }
      ]
    },
    {
      "cell_type": "code",
      "execution_count": 128,
      "id": "ba2779af-84ef-4227-9e9e-6eaf0df87e77",
      "metadata": {
        "id": "ba2779af-84ef-4227-9e9e-6eaf0df87e77"
      },
      "outputs": [],
      "source": [
        "# imports\n",
        "\n",
        "import os\n",
        "import glob\n",
        "# from dotenv import load_dotenv\n",
        "import gradio as gr\n",
        "from google.colab import userdata\n",
        "from openai import OpenAI"
      ]
    },
    {
      "cell_type": "code",
      "source": [
        "!pip install langchain-core langchain-text-splitters langchain-openai langchain-chroma langchain-community"
      ],
      "metadata": {
        "id": "wZWhE9vXVO_h",
        "colab": {
          "base_uri": "https://localhost:8080/"
        },
        "outputId": "b5102de8-7b02-4671-a1a8-34e148da447f"
      },
      "id": "wZWhE9vXVO_h",
      "execution_count": 129,
      "outputs": [
        {
          "output_type": "stream",
          "name": "stdout",
          "text": [
            "Requirement already satisfied: langchain-core in /usr/local/lib/python3.12/dist-packages (0.3.78)\n",
            "Requirement already satisfied: langchain-text-splitters in /usr/local/lib/python3.12/dist-packages (0.3.11)\n",
            "Requirement already satisfied: langchain-openai in /usr/local/lib/python3.12/dist-packages (0.3.35)\n",
            "Requirement already satisfied: langchain-chroma in /usr/local/lib/python3.12/dist-packages (0.2.6)\n",
            "Requirement already satisfied: langchain-community in /usr/local/lib/python3.12/dist-packages (0.3.31)\n",
            "Requirement already satisfied: langsmith<1.0.0,>=0.3.45 in /usr/local/lib/python3.12/dist-packages (from langchain-core) (0.4.33)\n",
            "Requirement already satisfied: tenacity!=8.4.0,<10.0.0,>=8.1.0 in /usr/local/lib/python3.12/dist-packages (from langchain-core) (8.5.0)\n",
            "Requirement already satisfied: jsonpatch<2.0.0,>=1.33.0 in /usr/local/lib/python3.12/dist-packages (from langchain-core) (1.33)\n",
            "Requirement already satisfied: PyYAML<7.0.0,>=5.3.0 in /usr/local/lib/python3.12/dist-packages (from langchain-core) (6.0.3)\n",
            "Requirement already satisfied: typing-extensions<5.0.0,>=4.7.0 in /usr/local/lib/python3.12/dist-packages (from langchain-core) (4.15.0)\n",
            "Requirement already satisfied: packaging<26.0.0,>=23.2.0 in /usr/local/lib/python3.12/dist-packages (from langchain-core) (25.0)\n",
            "Requirement already satisfied: pydantic<3.0.0,>=2.7.4 in /usr/local/lib/python3.12/dist-packages (from langchain-core) (2.11.10)\n",
            "Requirement already satisfied: openai<3.0.0,>=1.104.2 in /usr/local/lib/python3.12/dist-packages (from langchain-openai) (1.109.1)\n",
            "Requirement already satisfied: tiktoken<1.0.0,>=0.7.0 in /usr/local/lib/python3.12/dist-packages (from langchain-openai) (0.12.0)\n",
            "Requirement already satisfied: numpy>=1.26.0 in /usr/local/lib/python3.12/dist-packages (from langchain-chroma) (2.0.2)\n",
            "Requirement already satisfied: chromadb>=1.0.20 in /usr/local/lib/python3.12/dist-packages (from langchain-chroma) (1.1.1)\n",
            "Requirement already satisfied: langchain<2.0.0,>=0.3.27 in /usr/local/lib/python3.12/dist-packages (from langchain-community) (0.3.27)\n",
            "Requirement already satisfied: SQLAlchemy<3.0.0,>=1.4.0 in /usr/local/lib/python3.12/dist-packages (from langchain-community) (2.0.43)\n",
            "Requirement already satisfied: requests<3.0.0,>=2.32.5 in /usr/local/lib/python3.12/dist-packages (from langchain-community) (2.32.5)\n",
            "Requirement already satisfied: aiohttp<4.0.0,>=3.8.3 in /usr/local/lib/python3.12/dist-packages (from langchain-community) (3.13.0)\n",
            "Requirement already satisfied: dataclasses-json<0.7.0,>=0.6.7 in /usr/local/lib/python3.12/dist-packages (from langchain-community) (0.6.7)\n",
            "Requirement already satisfied: pydantic-settings<3.0.0,>=2.10.1 in /usr/local/lib/python3.12/dist-packages (from langchain-community) (2.11.0)\n",
            "Requirement already satisfied: httpx-sse<1.0.0,>=0.4.0 in /usr/local/lib/python3.12/dist-packages (from langchain-community) (0.4.2)\n",
            "Requirement already satisfied: aiohappyeyeballs>=2.5.0 in /usr/local/lib/python3.12/dist-packages (from aiohttp<4.0.0,>=3.8.3->langchain-community) (2.6.1)\n",
            "Requirement already satisfied: aiosignal>=1.4.0 in /usr/local/lib/python3.12/dist-packages (from aiohttp<4.0.0,>=3.8.3->langchain-community) (1.4.0)\n",
            "Requirement already satisfied: attrs>=17.3.0 in /usr/local/lib/python3.12/dist-packages (from aiohttp<4.0.0,>=3.8.3->langchain-community) (25.4.0)\n",
            "Requirement already satisfied: frozenlist>=1.1.1 in /usr/local/lib/python3.12/dist-packages (from aiohttp<4.0.0,>=3.8.3->langchain-community) (1.8.0)\n",
            "Requirement already satisfied: multidict<7.0,>=4.5 in /usr/local/lib/python3.12/dist-packages (from aiohttp<4.0.0,>=3.8.3->langchain-community) (6.7.0)\n",
            "Requirement already satisfied: propcache>=0.2.0 in /usr/local/lib/python3.12/dist-packages (from aiohttp<4.0.0,>=3.8.3->langchain-community) (0.3.2)\n",
            "Requirement already satisfied: yarl<2.0,>=1.17.0 in /usr/local/lib/python3.12/dist-packages (from aiohttp<4.0.0,>=3.8.3->langchain-community) (1.22.0)\n",
            "Requirement already satisfied: build>=1.0.3 in /usr/local/lib/python3.12/dist-packages (from chromadb>=1.0.20->langchain-chroma) (1.3.0)\n",
            "Requirement already satisfied: pybase64>=1.4.1 in /usr/local/lib/python3.12/dist-packages (from chromadb>=1.0.20->langchain-chroma) (1.4.2)\n",
            "Requirement already satisfied: uvicorn>=0.18.3 in /usr/local/lib/python3.12/dist-packages (from uvicorn[standard]>=0.18.3->chromadb>=1.0.20->langchain-chroma) (0.37.0)\n",
            "Requirement already satisfied: posthog<6.0.0,>=2.4.0 in /usr/local/lib/python3.12/dist-packages (from chromadb>=1.0.20->langchain-chroma) (5.4.0)\n",
            "Requirement already satisfied: onnxruntime>=1.14.1 in /usr/local/lib/python3.12/dist-packages (from chromadb>=1.0.20->langchain-chroma) (1.23.1)\n",
            "Requirement already satisfied: opentelemetry-api>=1.2.0 in /usr/local/lib/python3.12/dist-packages (from chromadb>=1.0.20->langchain-chroma) (1.37.0)\n",
            "Requirement already satisfied: opentelemetry-exporter-otlp-proto-grpc>=1.2.0 in /usr/local/lib/python3.12/dist-packages (from chromadb>=1.0.20->langchain-chroma) (1.37.0)\n",
            "Requirement already satisfied: opentelemetry-sdk>=1.2.0 in /usr/local/lib/python3.12/dist-packages (from chromadb>=1.0.20->langchain-chroma) (1.37.0)\n",
            "Requirement already satisfied: tokenizers>=0.13.2 in /usr/local/lib/python3.12/dist-packages (from chromadb>=1.0.20->langchain-chroma) (0.22.1)\n",
            "Requirement already satisfied: pypika>=0.48.9 in /usr/local/lib/python3.12/dist-packages (from chromadb>=1.0.20->langchain-chroma) (0.48.9)\n",
            "Requirement already satisfied: tqdm>=4.65.0 in /usr/local/lib/python3.12/dist-packages (from chromadb>=1.0.20->langchain-chroma) (4.67.1)\n",
            "Requirement already satisfied: overrides>=7.3.1 in /usr/local/lib/python3.12/dist-packages (from chromadb>=1.0.20->langchain-chroma) (7.7.0)\n",
            "Requirement already satisfied: importlib-resources in /usr/local/lib/python3.12/dist-packages (from chromadb>=1.0.20->langchain-chroma) (6.5.2)\n",
            "Requirement already satisfied: grpcio>=1.58.0 in /usr/local/lib/python3.12/dist-packages (from chromadb>=1.0.20->langchain-chroma) (1.75.1)\n",
            "Requirement already satisfied: bcrypt>=4.0.1 in /usr/local/lib/python3.12/dist-packages (from chromadb>=1.0.20->langchain-chroma) (5.0.0)\n",
            "Requirement already satisfied: typer>=0.9.0 in /usr/local/lib/python3.12/dist-packages (from chromadb>=1.0.20->langchain-chroma) (0.19.2)\n",
            "Requirement already satisfied: kubernetes>=28.1.0 in /usr/local/lib/python3.12/dist-packages (from chromadb>=1.0.20->langchain-chroma) (34.1.0)\n",
            "Requirement already satisfied: mmh3>=4.0.1 in /usr/local/lib/python3.12/dist-packages (from chromadb>=1.0.20->langchain-chroma) (5.2.0)\n",
            "Requirement already satisfied: orjson>=3.9.12 in /usr/local/lib/python3.12/dist-packages (from chromadb>=1.0.20->langchain-chroma) (3.11.3)\n",
            "Requirement already satisfied: httpx>=0.27.0 in /usr/local/lib/python3.12/dist-packages (from chromadb>=1.0.20->langchain-chroma) (0.28.1)\n",
            "Requirement already satisfied: rich>=10.11.0 in /usr/local/lib/python3.12/dist-packages (from chromadb>=1.0.20->langchain-chroma) (13.9.4)\n",
            "Requirement already satisfied: jsonschema>=4.19.0 in /usr/local/lib/python3.12/dist-packages (from chromadb>=1.0.20->langchain-chroma) (4.25.1)\n",
            "Requirement already satisfied: marshmallow<4.0.0,>=3.18.0 in /usr/local/lib/python3.12/dist-packages (from dataclasses-json<0.7.0,>=0.6.7->langchain-community) (3.26.1)\n",
            "Requirement already satisfied: typing-inspect<1,>=0.4.0 in /usr/local/lib/python3.12/dist-packages (from dataclasses-json<0.7.0,>=0.6.7->langchain-community) (0.9.0)\n",
            "Requirement already satisfied: jsonpointer>=1.9 in /usr/local/lib/python3.12/dist-packages (from jsonpatch<2.0.0,>=1.33.0->langchain-core) (3.0.0)\n",
            "Requirement already satisfied: requests-toolbelt>=1.0.0 in /usr/local/lib/python3.12/dist-packages (from langsmith<1.0.0,>=0.3.45->langchain-core) (1.0.0)\n",
            "Requirement already satisfied: zstandard>=0.23.0 in /usr/local/lib/python3.12/dist-packages (from langsmith<1.0.0,>=0.3.45->langchain-core) (0.25.0)\n",
            "Requirement already satisfied: anyio<5,>=3.5.0 in /usr/local/lib/python3.12/dist-packages (from openai<3.0.0,>=1.104.2->langchain-openai) (4.11.0)\n",
            "Requirement already satisfied: distro<2,>=1.7.0 in /usr/local/lib/python3.12/dist-packages (from openai<3.0.0,>=1.104.2->langchain-openai) (1.9.0)\n",
            "Requirement already satisfied: jiter<1,>=0.4.0 in /usr/local/lib/python3.12/dist-packages (from openai<3.0.0,>=1.104.2->langchain-openai) (0.11.0)\n",
            "Requirement already satisfied: sniffio in /usr/local/lib/python3.12/dist-packages (from openai<3.0.0,>=1.104.2->langchain-openai) (1.3.1)\n",
            "Requirement already satisfied: annotated-types>=0.6.0 in /usr/local/lib/python3.12/dist-packages (from pydantic<3.0.0,>=2.7.4->langchain-core) (0.7.0)\n",
            "Requirement already satisfied: pydantic-core==2.33.2 in /usr/local/lib/python3.12/dist-packages (from pydantic<3.0.0,>=2.7.4->langchain-core) (2.33.2)\n",
            "Requirement already satisfied: typing-inspection>=0.4.0 in /usr/local/lib/python3.12/dist-packages (from pydantic<3.0.0,>=2.7.4->langchain-core) (0.4.2)\n",
            "Requirement already satisfied: python-dotenv>=0.21.0 in /usr/local/lib/python3.12/dist-packages (from pydantic-settings<3.0.0,>=2.10.1->langchain-community) (1.1.1)\n",
            "Requirement already satisfied: charset_normalizer<4,>=2 in /usr/local/lib/python3.12/dist-packages (from requests<3.0.0,>=2.32.5->langchain-community) (3.4.3)\n",
            "Requirement already satisfied: idna<4,>=2.5 in /usr/local/lib/python3.12/dist-packages (from requests<3.0.0,>=2.32.5->langchain-community) (3.10)\n",
            "Requirement already satisfied: urllib3<3,>=1.21.1 in /usr/local/lib/python3.12/dist-packages (from requests<3.0.0,>=2.32.5->langchain-community) (2.3.0)\n",
            "Requirement already satisfied: certifi>=2017.4.17 in /usr/local/lib/python3.12/dist-packages (from requests<3.0.0,>=2.32.5->langchain-community) (2025.10.5)\n",
            "Requirement already satisfied: greenlet>=1 in /usr/local/lib/python3.12/dist-packages (from SQLAlchemy<3.0.0,>=1.4.0->langchain-community) (3.2.4)\n",
            "Requirement already satisfied: regex>=2022.1.18 in /usr/local/lib/python3.12/dist-packages (from tiktoken<1.0.0,>=0.7.0->langchain-openai) (2024.11.6)\n",
            "Requirement already satisfied: pyproject_hooks in /usr/local/lib/python3.12/dist-packages (from build>=1.0.3->chromadb>=1.0.20->langchain-chroma) (1.2.0)\n",
            "Requirement already satisfied: httpcore==1.* in /usr/local/lib/python3.12/dist-packages (from httpx>=0.27.0->chromadb>=1.0.20->langchain-chroma) (1.0.9)\n",
            "Requirement already satisfied: h11>=0.16 in /usr/local/lib/python3.12/dist-packages (from httpcore==1.*->httpx>=0.27.0->chromadb>=1.0.20->langchain-chroma) (0.16.0)\n",
            "Requirement already satisfied: jsonschema-specifications>=2023.03.6 in /usr/local/lib/python3.12/dist-packages (from jsonschema>=4.19.0->chromadb>=1.0.20->langchain-chroma) (2025.9.1)\n",
            "Requirement already satisfied: referencing>=0.28.4 in /usr/local/lib/python3.12/dist-packages (from jsonschema>=4.19.0->chromadb>=1.0.20->langchain-chroma) (0.36.2)\n",
            "Requirement already satisfied: rpds-py>=0.7.1 in /usr/local/lib/python3.12/dist-packages (from jsonschema>=4.19.0->chromadb>=1.0.20->langchain-chroma) (0.27.1)\n",
            "Requirement already satisfied: six>=1.9.0 in /usr/local/lib/python3.12/dist-packages (from kubernetes>=28.1.0->chromadb>=1.0.20->langchain-chroma) (1.17.0)\n",
            "Requirement already satisfied: python-dateutil>=2.5.3 in /usr/local/lib/python3.12/dist-packages (from kubernetes>=28.1.0->chromadb>=1.0.20->langchain-chroma) (2.9.0.post0)\n",
            "Requirement already satisfied: google-auth>=1.0.1 in /usr/local/lib/python3.12/dist-packages (from kubernetes>=28.1.0->chromadb>=1.0.20->langchain-chroma) (2.38.0)\n",
            "Requirement already satisfied: websocket-client!=0.40.0,!=0.41.*,!=0.42.*,>=0.32.0 in /usr/local/lib/python3.12/dist-packages (from kubernetes>=28.1.0->chromadb>=1.0.20->langchain-chroma) (1.9.0)\n",
            "Requirement already satisfied: requests-oauthlib in /usr/local/lib/python3.12/dist-packages (from kubernetes>=28.1.0->chromadb>=1.0.20->langchain-chroma) (2.0.0)\n",
            "Requirement already satisfied: durationpy>=0.7 in /usr/local/lib/python3.12/dist-packages (from kubernetes>=28.1.0->chromadb>=1.0.20->langchain-chroma) (0.10)\n",
            "Requirement already satisfied: coloredlogs in /usr/local/lib/python3.12/dist-packages (from onnxruntime>=1.14.1->chromadb>=1.0.20->langchain-chroma) (15.0.1)\n",
            "Requirement already satisfied: flatbuffers in /usr/local/lib/python3.12/dist-packages (from onnxruntime>=1.14.1->chromadb>=1.0.20->langchain-chroma) (25.9.23)\n",
            "Requirement already satisfied: protobuf in /usr/local/lib/python3.12/dist-packages (from onnxruntime>=1.14.1->chromadb>=1.0.20->langchain-chroma) (5.29.5)\n",
            "Requirement already satisfied: sympy in /usr/local/lib/python3.12/dist-packages (from onnxruntime>=1.14.1->chromadb>=1.0.20->langchain-chroma) (1.13.3)\n",
            "Requirement already satisfied: importlib-metadata<8.8.0,>=6.0 in /usr/local/lib/python3.12/dist-packages (from opentelemetry-api>=1.2.0->chromadb>=1.0.20->langchain-chroma) (8.7.0)\n",
            "Requirement already satisfied: googleapis-common-protos~=1.57 in /usr/local/lib/python3.12/dist-packages (from opentelemetry-exporter-otlp-proto-grpc>=1.2.0->chromadb>=1.0.20->langchain-chroma) (1.70.0)\n",
            "Requirement already satisfied: opentelemetry-exporter-otlp-proto-common==1.37.0 in /usr/local/lib/python3.12/dist-packages (from opentelemetry-exporter-otlp-proto-grpc>=1.2.0->chromadb>=1.0.20->langchain-chroma) (1.37.0)\n",
            "Requirement already satisfied: opentelemetry-proto==1.37.0 in /usr/local/lib/python3.12/dist-packages (from opentelemetry-exporter-otlp-proto-grpc>=1.2.0->chromadb>=1.0.20->langchain-chroma) (1.37.0)\n",
            "Requirement already satisfied: opentelemetry-semantic-conventions==0.58b0 in /usr/local/lib/python3.12/dist-packages (from opentelemetry-sdk>=1.2.0->chromadb>=1.0.20->langchain-chroma) (0.58b0)\n",
            "Requirement already satisfied: backoff>=1.10.0 in /usr/local/lib/python3.12/dist-packages (from posthog<6.0.0,>=2.4.0->chromadb>=1.0.20->langchain-chroma) (2.2.1)\n",
            "Requirement already satisfied: markdown-it-py>=2.2.0 in /usr/local/lib/python3.12/dist-packages (from rich>=10.11.0->chromadb>=1.0.20->langchain-chroma) (4.0.0)\n",
            "Requirement already satisfied: pygments<3.0.0,>=2.13.0 in /usr/local/lib/python3.12/dist-packages (from rich>=10.11.0->chromadb>=1.0.20->langchain-chroma) (2.19.2)\n",
            "Requirement already satisfied: huggingface-hub<2.0,>=0.16.4 in /usr/local/lib/python3.12/dist-packages (from tokenizers>=0.13.2->chromadb>=1.0.20->langchain-chroma) (0.35.3)\n",
            "Requirement already satisfied: click>=8.0.0 in /usr/local/lib/python3.12/dist-packages (from typer>=0.9.0->chromadb>=1.0.20->langchain-chroma) (8.3.0)\n",
            "Requirement already satisfied: shellingham>=1.3.0 in /usr/local/lib/python3.12/dist-packages (from typer>=0.9.0->chromadb>=1.0.20->langchain-chroma) (1.5.4)\n",
            "Requirement already satisfied: mypy-extensions>=0.3.0 in /usr/local/lib/python3.12/dist-packages (from typing-inspect<1,>=0.4.0->dataclasses-json<0.7.0,>=0.6.7->langchain-community) (1.1.0)\n",
            "Requirement already satisfied: httptools>=0.6.3 in /usr/local/lib/python3.12/dist-packages (from uvicorn[standard]>=0.18.3->chromadb>=1.0.20->langchain-chroma) (0.7.1)\n",
            "Requirement already satisfied: uvloop>=0.15.1 in /usr/local/lib/python3.12/dist-packages (from uvicorn[standard]>=0.18.3->chromadb>=1.0.20->langchain-chroma) (0.21.0)\n",
            "Requirement already satisfied: watchfiles>=0.13 in /usr/local/lib/python3.12/dist-packages (from uvicorn[standard]>=0.18.3->chromadb>=1.0.20->langchain-chroma) (1.1.1)\n",
            "Requirement already satisfied: websockets>=10.4 in /usr/local/lib/python3.12/dist-packages (from uvicorn[standard]>=0.18.3->chromadb>=1.0.20->langchain-chroma) (15.0.1)\n",
            "Requirement already satisfied: cachetools<6.0,>=2.0.0 in /usr/local/lib/python3.12/dist-packages (from google-auth>=1.0.1->kubernetes>=28.1.0->chromadb>=1.0.20->langchain-chroma) (5.5.2)\n",
            "Requirement already satisfied: pyasn1-modules>=0.2.1 in /usr/local/lib/python3.12/dist-packages (from google-auth>=1.0.1->kubernetes>=28.1.0->chromadb>=1.0.20->langchain-chroma) (0.4.2)\n",
            "Requirement already satisfied: rsa<5,>=3.1.4 in /usr/local/lib/python3.12/dist-packages (from google-auth>=1.0.1->kubernetes>=28.1.0->chromadb>=1.0.20->langchain-chroma) (4.9.1)\n",
            "Requirement already satisfied: filelock in /usr/local/lib/python3.12/dist-packages (from huggingface-hub<2.0,>=0.16.4->tokenizers>=0.13.2->chromadb>=1.0.20->langchain-chroma) (3.20.0)\n",
            "Requirement already satisfied: fsspec>=2023.5.0 in /usr/local/lib/python3.12/dist-packages (from huggingface-hub<2.0,>=0.16.4->tokenizers>=0.13.2->chromadb>=1.0.20->langchain-chroma) (2025.3.0)\n",
            "Requirement already satisfied: hf-xet<2.0.0,>=1.1.3 in /usr/local/lib/python3.12/dist-packages (from huggingface-hub<2.0,>=0.16.4->tokenizers>=0.13.2->chromadb>=1.0.20->langchain-chroma) (1.1.10)\n",
            "Requirement already satisfied: zipp>=3.20 in /usr/local/lib/python3.12/dist-packages (from importlib-metadata<8.8.0,>=6.0->opentelemetry-api>=1.2.0->chromadb>=1.0.20->langchain-chroma) (3.23.0)\n",
            "Requirement already satisfied: mdurl~=0.1 in /usr/local/lib/python3.12/dist-packages (from markdown-it-py>=2.2.0->rich>=10.11.0->chromadb>=1.0.20->langchain-chroma) (0.1.2)\n",
            "Requirement already satisfied: humanfriendly>=9.1 in /usr/local/lib/python3.12/dist-packages (from coloredlogs->onnxruntime>=1.14.1->chromadb>=1.0.20->langchain-chroma) (10.0)\n",
            "Requirement already satisfied: oauthlib>=3.0.0 in /usr/local/lib/python3.12/dist-packages (from requests-oauthlib->kubernetes>=28.1.0->chromadb>=1.0.20->langchain-chroma) (3.3.1)\n",
            "Requirement already satisfied: mpmath<1.4,>=1.1.0 in /usr/local/lib/python3.12/dist-packages (from sympy->onnxruntime>=1.14.1->chromadb>=1.0.20->langchain-chroma) (1.3.0)\n",
            "Requirement already satisfied: pyasn1<0.7.0,>=0.6.1 in /usr/local/lib/python3.12/dist-packages (from pyasn1-modules>=0.2.1->google-auth>=1.0.1->kubernetes>=28.1.0->chromadb>=1.0.20->langchain-chroma) (0.6.1)\n"
          ]
        }
      ]
    },
    {
      "cell_type": "code",
      "execution_count": 130,
      "id": "802137aa-8a74-45e0-a487-d1974927d7ca",
      "metadata": {
        "id": "802137aa-8a74-45e0-a487-d1974927d7ca"
      },
      "outputs": [],
      "source": [
        "# imports for langchain and Chroma and plotly\n",
        "\n",
        "from langchain.document_loaders import DirectoryLoader, TextLoader\n",
        "from langchain.text_splitter import CharacterTextSplitter\n",
        "from langchain.schema import Document\n",
        "from langchain_openai import OpenAIEmbeddings, ChatOpenAI\n",
        "from langchain_chroma import Chroma\n",
        "import numpy as np\n",
        "from sklearn.manifold import TSNE\n",
        "import plotly.graph_objects as go"
      ]
    },
    {
      "cell_type": "code",
      "execution_count": 131,
      "id": "58c85082-e417-4708-9efe-81a5d55d1424",
      "metadata": {
        "id": "58c85082-e417-4708-9efe-81a5d55d1424"
      },
      "outputs": [],
      "source": [
        "# price is a factor for our company, so we're going to use a low cost model\n",
        "\n",
        "MODEL = \"gpt-4o-mini\"\n",
        "db_name = \"vector_db\""
      ]
    },
    {
      "cell_type": "code",
      "execution_count": 132,
      "id": "ee78efcb-60fe-449e-a944-40bab26261af",
      "metadata": {
        "id": "ee78efcb-60fe-449e-a944-40bab26261af"
      },
      "outputs": [],
      "source": [
        "# keys\n",
        "\n",
        "openai_api_key = userdata.get(\"OPENAI_API_KEY\")\n",
        "# claude_api_key = userdata.get(\"ANTHROPIC_API_KEY\")\n",
        "# google_api_key = userdata.get(\"GOOGLE_API_KEY\")\n",
        "# hugging_face_token = userdata.get(\"HF_TOKEN\")\n",
        "\n",
        "# load_dotenv(override=True)\n",
        "# os.environ['OPENAI_API_KEY'] = os.getenv('OPENAI_API_KEY', 'your-key-if-not-using-env')"
      ]
    },
    {
      "cell_type": "code",
      "source": [
        "# initialize\n",
        "\n",
        "# openai = OpenAI(api_key=openai_api_key)\n",
        "# api_key = openai_api_key\n",
        "os.environ['OPENAI_API_KEY']  = openai_api_key"
      ],
      "metadata": {
        "id": "tSIx2jvRW_eV"
      },
      "id": "tSIx2jvRW_eV",
      "execution_count": 133,
      "outputs": []
    },
    {
      "cell_type": "code",
      "execution_count": 134,
      "id": "730711a9-6ffe-4eee-8f48-d6cfb7314905",
      "metadata": {
        "id": "730711a9-6ffe-4eee-8f48-d6cfb7314905"
      },
      "outputs": [],
      "source": [
        "# Read in documents using LangChain's loaders\n",
        "# Take everything in all the sub-folders of our knowledgebase\n",
        "# Thank you Mark D. and Zoya H. for fixing a bug here..\n",
        "\n",
        "folders = glob.glob(\"/content/drive/MyDrive/Colab Notebooks/knowledge-base/*\")\n",
        "folders = glob.glob(\"/content/drive/MyDrive/Colab Notebooks/knowledge-base-languages/*\")\n",
        "\n",
        "# With thanks to CG and Jon R, students on the course, for this fix needed for some users\n",
        "text_loader_kwargs = {'encoding': 'utf-8'}\n",
        "# If that doesn't work, some Windows users might need to uncomment the next line instead\n",
        "# text_loader_kwargs={'autodetect_encoding': True}\n",
        "\n",
        "documents = []\n",
        "for folder in folders:\n",
        "    doc_type = os.path.basename(folder)\n",
        "    loader = DirectoryLoader(folder, glob=\"**/*.md\", loader_cls=TextLoader, loader_kwargs=text_loader_kwargs)\n",
        "    folder_docs = loader.load()\n",
        "    for doc in folder_docs:\n",
        "        doc.metadata[\"doc_type\"] = doc_type\n",
        "        documents.append(doc)"
      ]
    },
    {
      "cell_type": "code",
      "execution_count": 135,
      "id": "252f17e9-3529-4e81-996c-cfa9f08e75a8",
      "metadata": {
        "id": "252f17e9-3529-4e81-996c-cfa9f08e75a8",
        "colab": {
          "base_uri": "https://localhost:8080/"
        },
        "outputId": "43fd982c-81d1-4108-c6cb-ec699882482e"
      },
      "outputs": [
        {
          "output_type": "execute_result",
          "data": {
            "text/plain": [
              "26"
            ]
          },
          "metadata": {},
          "execution_count": 135
        }
      ],
      "source": [
        "len(documents)"
      ]
    },
    {
      "cell_type": "code",
      "execution_count": 136,
      "id": "7e8decb0-d9b0-4d51-8402-7a6174d22159",
      "metadata": {
        "id": "7e8decb0-d9b0-4d51-8402-7a6174d22159",
        "colab": {
          "base_uri": "https://localhost:8080/"
        },
        "outputId": "d0317518-d8cb-45a6-a033-4075e814c1a5"
      },
      "outputs": [
        {
          "output_type": "execute_result",
          "data": {
            "text/plain": [
              "Document(metadata={'source': '/content/drive/MyDrive/Colab Notebooks/knowledge-base-languages/languages/gascon.md', 'doc_type': 'languages'}, page_content=\"# Overview of the Gascon Language\\n\\n## General Information\\n- **Language Family**: Occitan branch of the Romance languages.\\n- **Region**: Primarily spoken in the Gascony region of southwestern France, which includes parts of the departments of Gers, Landes, and Pyrénées-Atlantiques.\\n  \\n## Historical Context\\n- **Origins**: Gascon evolved from Vulgar Latin and has influences from the Visigoths and various other historical invaders.\\n- **Status**: Once a widely spoken language, Gascon has seen a decline in the number of speakers, particularly in urban areas, due to the rise of French as the dominant language.\\n\\n## Dialects\\n- **Varieties**: Gascon includes several dialects, most notably:\\n  - **Bigourdan**: Spoken in the region of Bigorre.\\n  - **Armanac**: Found in Armagnac.\\n  - **Languedocien**: This influences some Gascon speakers, particularly those in mixed-language areas.\\n\\n## Linguistic Features\\n- **Phonetics**: Gascon has unique phonetic characteristics, such as the preservation of the Latin 'u' sound and certain nasal vowels.\\n- **Vocabulary**: Contains a wealth of regional vocabulary, along with borrowings from French, Occitan, and Basque.\\n\\n## Cultural Significance\\n- **Literature**: Historically, Gascon has been used in regional literature and songs, contributing richly to the cultural heritage of the area.\\n- **Folklore and Traditions**: Gascon is an important vehicle for local folklore, traditions, and customs in Gascony.\\n\\n## Current Status\\n- **Revitalization Efforts**: There are ongoing efforts to promote and teach Gascon in schools, cultural organizations, and through local media.\\n- **Number of Speakers**: As of recent estimates, the number of fluent speakers is declining, with efforts being made to preserve the language among younger generations.\\n\\n## Related Languages\\n- **Occitan**: Gascon is one of the major dialects of the Occitan language, which also includes Provençal and Languedocien.\\n- **Comparison to French**: While Gascon shares some similarities with French, it retains distinct grammatical structures and vocabulary.\\n\\n## Conclusion\\nGascon is not only a language but a crucial component of the cultural identity of the Gascon people, reflecting their history, traditions, and regional pride. Efforts for revitalization continue to be important in preserving this unique linguistic heritage.\")"
            ]
          },
          "metadata": {},
          "execution_count": 136
        }
      ],
      "source": [
        "documents[24]"
      ]
    },
    {
      "cell_type": "code",
      "execution_count": 137,
      "id": "7310c9c8-03c1-4efc-a104-5e89aec6db1a",
      "metadata": {
        "id": "7310c9c8-03c1-4efc-a104-5e89aec6db1a",
        "colab": {
          "base_uri": "https://localhost:8080/"
        },
        "outputId": "8c9435f5-7335-4f6c-edba-5132a77813d8"
      },
      "outputs": [
        {
          "output_type": "stream",
          "name": "stderr",
          "text": [
            "WARNING:langchain_text_splitters.base:Created a chunk of size 1333, which is longer than the specified 1000\n",
            "WARNING:langchain_text_splitters.base:Created a chunk of size 1016, which is longer than the specified 1000\n",
            "WARNING:langchain_text_splitters.base:Created a chunk of size 1030, which is longer than the specified 1000\n",
            "WARNING:langchain_text_splitters.base:Created a chunk of size 1022, which is longer than the specified 1000\n",
            "WARNING:langchain_text_splitters.base:Created a chunk of size 1163, which is longer than the specified 1000\n",
            "WARNING:langchain_text_splitters.base:Created a chunk of size 1068, which is longer than the specified 1000\n"
          ]
        }
      ],
      "source": [
        "text_splitter = CharacterTextSplitter(chunk_size=1000, chunk_overlap=200)\n",
        "chunks = text_splitter.split_documents(documents)"
      ]
    },
    {
      "cell_type": "code",
      "execution_count": 138,
      "id": "cd06e02f-6d9b-44cc-a43d-e1faa8acc7bb",
      "metadata": {
        "id": "cd06e02f-6d9b-44cc-a43d-e1faa8acc7bb",
        "colab": {
          "base_uri": "https://localhost:8080/"
        },
        "outputId": "07297dc1-3e91-4620-9f08-b14aeb29784e"
      },
      "outputs": [
        {
          "output_type": "execute_result",
          "data": {
            "text/plain": [
              "116"
            ]
          },
          "metadata": {},
          "execution_count": 138
        }
      ],
      "source": [
        "len(chunks)"
      ]
    },
    {
      "cell_type": "code",
      "execution_count": 139,
      "id": "d2562754-9052-4aae-92c1-37236435ea06",
      "metadata": {
        "id": "d2562754-9052-4aae-92c1-37236435ea06",
        "colab": {
          "base_uri": "https://localhost:8080/"
        },
        "outputId": "831aa23c-543d-48ad-dd04-b5c0b9a03285"
      },
      "outputs": [
        {
          "output_type": "execute_result",
          "data": {
            "text/plain": [
              "Document(metadata={'source': '/content/drive/MyDrive/Colab Notebooks/knowledge-base-languages/regions/gascogne.md', 'doc_type': 'regions'}, page_content='## Conclusion\\nGascogne is a region that offers a unique blend of history, culture, and natural beauty. From its medieval villages and legendary connections to the Musketeers, to its rich culinary traditions and scenic landscapes, Gascogne provides a true taste of southwestern France. Whether exploring its vineyards, tasting Armagnac, or immersing yourself in its rural charm, Gascogne is a region full of life and tradition.')"
            ]
          },
          "metadata": {},
          "execution_count": 139
        }
      ],
      "source": [
        "chunks[6]"
      ]
    },
    {
      "cell_type": "code",
      "execution_count": 140,
      "id": "2c54b4b6-06da-463d-bee7-4dd456c2b887",
      "metadata": {
        "id": "2c54b4b6-06da-463d-bee7-4dd456c2b887",
        "colab": {
          "base_uri": "https://localhost:8080/"
        },
        "outputId": "8d5cec91-58e9-4f7b-a46c-7be37f20ab1d"
      },
      "outputs": [
        {
          "output_type": "stream",
          "name": "stdout",
          "text": [
            "Document types found: regions, mountains, languages\n"
          ]
        }
      ],
      "source": [
        "doc_types = set(chunk.metadata['doc_type'] for chunk in chunks)\n",
        "print(f\"Document types found: {', '.join(doc_types)}\")"
      ]
    },
    {
      "cell_type": "code",
      "execution_count": 141,
      "id": "128c73f7-f149-4904-a554-8140941fce0c",
      "metadata": {
        "id": "128c73f7-f149-4904-a554-8140941fce0c"
      },
      "outputs": [],
      "source": [
        "for chunk in chunks:\n",
        "    if 'Lancaster' in chunk.page_content:\n",
        "        print(chunk)\n",
        "        print(\"_________\")"
      ]
    },
    {
      "cell_type": "markdown",
      "source": [
        "## A sidenote on Embeddings, and \"Auto-Encoding LLMs\"\n",
        "\n",
        "We will be mapping each chunk of text into a Vector that represents the meaning of the text, known as an embedding.\n",
        "\n",
        "OpenAI offers a model to do this, which we will use by calling their API with some LangChain code.\n",
        "\n",
        "This model is an example of an \"Auto-Encoding LLM\" which generates an output given a complete input.\n",
        "It's different to all the other LLMs we've discussed today, which are known as \"Auto-Regressive LLMs\", and generate future tokens based only on past context.\n",
        "\n",
        "Another example of an Auto-Encoding LLMs is BERT from Google. In addition to embedding, Auto-encoding LLMs are often used for classification.\n",
        "\n",
        "### Sidenote\n",
        "\n",
        "In week 8 we will return to RAG and vector embeddings, and we will use an open-source vector encoder so that the data never leaves our computer - that's an important consideration when building enterprise systems and the data needs to remain internal."
      ],
      "metadata": {
        "id": "Kysz1jrwxeGG"
      },
      "id": "Kysz1jrwxeGG"
    },
    {
      "cell_type": "code",
      "source": [
        "# Put the chunks of data into a Vector Store that associates a Vector Embedding with each chunk\n",
        "\n",
        "embeddings = OpenAIEmbeddings()\n",
        "\n",
        "# If you would rather use the free Vector Embeddings from HuggingFace sentence-transformers\n",
        "# Then replace embeddings = OpenAIEmbeddings()\n",
        "# with:\n",
        "# from langchain.embeddings import HuggingFaceEmbeddings\n",
        "# embeddings = HuggingFaceEmbeddings(model_name=\"sentence-transformers/all-MiniLM-L6-v2\")"
      ],
      "metadata": {
        "id": "FlpLpwW0xK9P"
      },
      "id": "FlpLpwW0xK9P",
      "execution_count": 142,
      "outputs": []
    },
    {
      "cell_type": "code",
      "source": [
        "# Check if a Chroma Datastore already exists - if so, delete the collection to start from scratch\n",
        "\n",
        "if os.path.exists(db_name):\n",
        "    Chroma(persist_directory=db_name, embedding_function=embeddings).delete_collection()"
      ],
      "metadata": {
        "id": "GSSBUaCCxwks"
      },
      "id": "GSSBUaCCxwks",
      "execution_count": 143,
      "outputs": []
    },
    {
      "cell_type": "code",
      "source": [
        "# Create our Chroma vectorstore!\n",
        "\n",
        "vectorstore = Chroma.from_documents(documents=chunks, embedding=embeddings, persist_directory=db_name)\n",
        "print(f\"Vectorstore created with {vectorstore._collection.count()} documents\")"
      ],
      "metadata": {
        "id": "rnga9GPGzjGC",
        "colab": {
          "base_uri": "https://localhost:8080/"
        },
        "outputId": "2c0b16ea-53a9-4e79-b016-4e446616a8de"
      },
      "id": "rnga9GPGzjGC",
      "execution_count": 144,
      "outputs": [
        {
          "output_type": "stream",
          "name": "stdout",
          "text": [
            "Vectorstore created with 116 documents\n"
          ]
        }
      ]
    },
    {
      "cell_type": "code",
      "source": [
        "# Get one vector and find how many dimensions it has\n",
        "\n",
        "collection = vectorstore._collection\n",
        "sample_embedding = collection.get(limit=1, include=[\"embeddings\"])[\"embeddings\"][0]\n",
        "dimensions = len(sample_embedding)\n",
        "print(f\"The vectors have {dimensions:,} dimensions\")"
      ],
      "metadata": {
        "id": "qNuA7Xmnzncu",
        "colab": {
          "base_uri": "https://localhost:8080/"
        },
        "outputId": "90144657-1ebf-4f7a-abfe-d99f1e3a4aeb"
      },
      "id": "qNuA7Xmnzncu",
      "execution_count": 145,
      "outputs": [
        {
          "output_type": "stream",
          "name": "stdout",
          "text": [
            "The vectors have 1,536 dimensions\n"
          ]
        }
      ]
    },
    {
      "cell_type": "markdown",
      "source": [
        "## Visualizing the Vector Store\n",
        "\n",
        "Let's take a minute to look at the documents and their embedding vectors to see what's going on."
      ],
      "metadata": {
        "id": "QKgptl671O_G"
      },
      "id": "QKgptl671O_G"
    },
    {
      "cell_type": "code",
      "source": [
        "# Prework\n",
        "\n",
        "result = collection.get(include=['embeddings', 'documents', 'metadatas'])\n",
        "vectors = np.array(result['embeddings'])\n",
        "documents = result['documents']\n",
        "doc_types = [metadata['doc_type'] for metadata in result['metadatas']]\n",
        "# colors = [['blue', 'green', 'red', 'orange'][['products', 'employees', 'contracts', 'company'].index(t)] for t in doc_types]\n",
        "colors = [['blue', 'green', 'red'][['languages', 'regions', 'mountains'].index(t)] for t in doc_types]"
      ],
      "metadata": {
        "id": "9-xVBe5q1Y0Q"
      },
      "id": "9-xVBe5q1Y0Q",
      "execution_count": 147,
      "outputs": []
    },
    {
      "cell_type": "code",
      "source": [
        "# We humans find it easier to visalize things in 2D!\n",
        "# Reduce the dimensionality of the vectors to 2D using t-SNE\n",
        "# (t-distributed stochastic neighbor embedding)\n",
        "\n",
        "tsne = TSNE(n_components=2, random_state=42)\n",
        "reduced_vectors = tsne.fit_transform(vectors)\n",
        "\n",
        "# Create the 2D scatter plot\n",
        "fig = go.Figure(data=[go.Scatter(\n",
        "    x=reduced_vectors[:, 0],\n",
        "    y=reduced_vectors[:, 1],\n",
        "    mode='markers',\n",
        "    marker=dict(size=5, color=colors, opacity=0.8),\n",
        "    text=[f\"Type: {t}<br>Text: {d[:100]}...\" for t, d in zip(doc_types, documents)],\n",
        "    hoverinfo='text'\n",
        ")])\n",
        "\n",
        "fig.update_layout(\n",
        "    title='2D Chroma Vector Store Visualization',\n",
        "    scene=dict(xaxis_title='x',yaxis_title='y'),\n",
        "    width=800,\n",
        "    height=600,\n",
        "    margin=dict(r=20, b=10, l=10, t=40)\n",
        ")\n",
        "\n",
        "fig.show()"
      ],
      "metadata": {
        "id": "m2Ww91eQ1l5U",
        "colab": {
          "base_uri": "https://localhost:8080/",
          "height": 617
        },
        "outputId": "b3d2dd98-6cb8-4426-c579-2bd439a79c02"
      },
      "id": "m2Ww91eQ1l5U",
      "execution_count": 148,
      "outputs": [
        {
          "output_type": "display_data",
          "data": {
            "text/html": [
              "<html>\n",
              "<head><meta charset=\"utf-8\" /></head>\n",
              "<body>\n",
              "    <div>            <script src=\"https://cdnjs.cloudflare.com/ajax/libs/mathjax/2.7.5/MathJax.js?config=TeX-AMS-MML_SVG\"></script><script type=\"text/javascript\">if (window.MathJax && window.MathJax.Hub && window.MathJax.Hub.Config) {window.MathJax.Hub.Config({SVG: {font: \"STIX-Web\"}});}</script>                <script type=\"text/javascript\">window.PlotlyConfig = {MathJaxConfig: 'local'};</script>\n",
              "        <script charset=\"utf-8\" src=\"https://cdn.plot.ly/plotly-2.35.2.min.js\"></script>                <div id=\"392c71f3-cd4e-4670-9a4d-ec6d55cdb0fa\" class=\"plotly-graph-div\" style=\"height:600px; width:800px;\"></div>            <script type=\"text/javascript\">                                    window.PLOTLYENV=window.PLOTLYENV || {};                                    if (document.getElementById(\"392c71f3-cd4e-4670-9a4d-ec6d55cdb0fa\")) {                    Plotly.newPlot(                        \"392c71f3-cd4e-4670-9a4d-ec6d55cdb0fa\",                        [{\"hoverinfo\":\"text\",\"marker\":{\"color\":[\"green\",\"green\",\"green\",\"green\",\"green\",\"green\",\"green\",\"green\",\"green\",\"green\",\"green\",\"green\",\"green\",\"green\",\"green\",\"green\",\"green\",\"green\",\"green\",\"green\",\"green\",\"green\",\"green\",\"green\",\"green\",\"green\",\"green\",\"green\",\"green\",\"green\",\"green\",\"green\",\"green\",\"green\",\"green\",\"green\",\"green\",\"green\",\"green\",\"green\",\"green\",\"green\",\"green\",\"green\",\"green\",\"green\",\"green\",\"green\",\"green\",\"green\",\"green\",\"green\",\"green\",\"green\",\"green\",\"green\",\"green\",\"green\",\"green\",\"green\",\"green\",\"green\",\"green\",\"green\",\"green\",\"green\",\"green\",\"green\",\"red\",\"red\",\"red\",\"red\",\"red\",\"red\",\"red\",\"red\",\"red\",\"red\",\"red\",\"red\",\"red\",\"red\",\"red\",\"red\",\"red\",\"red\",\"red\",\"red\",\"red\",\"red\",\"blue\",\"blue\",\"blue\",\"blue\",\"blue\",\"blue\",\"blue\",\"blue\",\"blue\",\"blue\",\"blue\",\"blue\",\"blue\",\"blue\",\"blue\",\"blue\",\"blue\",\"blue\",\"blue\",\"blue\",\"blue\",\"blue\",\"blue\",\"blue\",\"blue\",\"blue\"],\"opacity\":0.8,\"size\":5},\"mode\":\"markers\",\"text\":[\"Type: regions\\u003cbr\\u003eText: # Overview of Gascogne Region in France\\n\\nGascogne is a historical and cultural region in southwester...\",\"Type: regions\\u003cbr\\u003eText: ## History\\n- **Roman Influence**: Gascogne was known as part of the ancient Roman province of Novemp...\",\"Type: regions\\u003cbr\\u003eText: ## Culture\\n- **Gascon Language**: The Gascon language, a variety of Occitan, was historically spoken...\",\"Type: regions\\u003cbr\\u003eText: ## Landmarks and Attractions\\n- **Auch Cathedral**: A UNESCO World Heritage site, the Cathedral of Sa...\",\"Type: regions\\u003cbr\\u003eText: ## Economy\\n- **Agriculture**: Gascogne is an important agricultural region, known for its production...\",\"Type: regions\\u003cbr\\u003eText: ## Climate\\n- **Mediterranean Climate**: Gascogne enjoys a temperate climate, with warm summers and m...\",\"Type: regions\\u003cbr\\u003eText: ## Conclusion\\nGascogne is a region that offers a unique blend of history, culture, and natural beaut...\",\"Type: regions\\u003cbr\\u003eText: # Overview of Alsace-Lorraine Region in France\\n\\nAlsace-Lorraine is a historically significant and cu...\",\"Type: regions\\u003cbr\\u003eText: ## History\\n- **German and French Control**: The region has alternated between French and German cont...\",\"Type: regions\\u003cbr\\u003eText: ## Culture\\n- **Bilingualism**: The region has strong Germanic roots, and many people speak both Fren...\",\"Type: regions\\u003cbr\\u003eText: ## Natural Beauty\\n- **Vosges Mountains**: Located in Lorraine, the Vosges Mountains offer scenic lan...\",\"Type: regions\\u003cbr\\u003eText: ## Landmarks and Attractions\\n- **Strasbourg Cathedral**: The Cathedral of Notre-Dame in Strasbourg i...\",\"Type: regions\\u003cbr\\u003eText: ## Economy\\n- **Industry**: Alsace-Lorraine has a diverse economy that includes manufacturing, automo...\",\"Type: regions\\u003cbr\\u003eText: ## Notable People\\n- **Jean-Jacques Rousseau**: The famous philosopher and writer was born in Geneva ...\",\"Type: regions\\u003cbr\\u003eText: # Overview of Poitou Region in France\\n\\nPoitou is a historic region located in the western part of Fr...\",\"Type: regions\\u003cbr\\u003eText: ## History\\n- **Medieval Influence**: Poitou was an important region during the medieval period, espe...\",\"Type: regions\\u003cbr\\u003eText: ## Culture\\n- **Language**: The traditional language of Poitou is Poitevin, a variety of the Occitan ...\",\"Type: regions\\u003cbr\\u003eText: ## Natural Beauty\\n- **Atlantic Coast**: Poitou has a beautiful coastline along the Atlantic Ocean, w...\",\"Type: regions\\u003cbr\\u003eText: ## Landmarks and Attractions\\n- **Poitiers**: The historic city of Poitiers is famous for its medieva...\",\"Type: regions\\u003cbr\\u003eText: ## Economy\\n- **Agriculture**: Poitou is traditionally an agricultural region, known for its livestoc...\",\"Type: regions\\u003cbr\\u003eText: ## Climate\\n- **Oceanic Climate**: Poitou enjoys an oceanic climate with mild winters and warm summer...\",\"Type: regions\\u003cbr\\u003eText: ## Notable People\\n- **Eleanor of Aquitaine**: Born in Poitou, Eleanor was one of the most powerful a...\",\"Type: regions\\u003cbr\\u003eText: ## Conclusion\\nPoitou is a region rich in history, culture, and natural beauty. From its medieval tow...\",\"Type: regions\\u003cbr\\u003eText: # Overview of Normandie Region in France\\n\\nNormandie (Normandy) is a historic and picturesque region ...\",\"Type: regions\\u003cbr\\u003eText: ## History\\n- **Viking Heritage**: Normandy gets its name from the Norsemen (Vikings), who settled in...\",\"Type: regions\\u003cbr\\u003eText: ## Culture\\n- **Language**: The regional language of Normandy is Norman, a variety of the Old French ...\",\"Type: regions\\u003cbr\\u003eText: ## Natural Beauty\\n- **Dramatic Coastline**: Normandy is known for its stunning coastline, including ...\",\"Type: regions\\u003cbr\\u003eText: ## Landmarks and Attractions\\n- **Mont Saint-Michel**: A UNESCO World Heritage site, Mont Saint-Miche...\",\"Type: regions\\u003cbr\\u003eText: ## Economy\\n- **Agriculture**: Normandy is a major agricultural region, known for dairy farming, part...\",\"Type: regions\\u003cbr\\u003eText: ## Climate\\n- **Oceanic Climate**: Normandy enjoys an oceanic climate, with mild winters and cool sum...\",\"Type: regions\\u003cbr\\u003eText: ## Conclusion\\nNormandy is a region rich in history, culture, and natural beauty. From the stunning M...\",\"Type: regions\\u003cbr\\u003eText: # Overview of Bretagne (Brittany) Region in France\\n\\nBretagne, or Brittany, is a culturally distinct ...\",\"Type: regions\\u003cbr\\u003eText: ## History\\n- **Celtic Origins**: Originally inhabited by the Celts, who brought their language, trad...\",\"Type: regions\\u003cbr\\u003eText: ## Culture\\n- **Music**: Bretagne is known for its traditional Celtic music, including bagpipes, fidd...\",\"Type: regions\\u003cbr\\u003eText: ## Landmarks and Attractions\\n- **Carnac Stones**: Prehistoric standing stones dating back to the Neo...\",\"Type: regions\\u003cbr\\u003eText: ## Climate\\n- **Mild Climate**: Brittany experiences a temperate maritime climate, characterized by m...\",\"Type: regions\\u003cbr\\u003eText: # Overview of Île-de-France Region in France\\n\\nÎle-de-France is the central region of France, encompa...\",\"Type: regions\\u003cbr\\u003eText: ## History\\n- **Royal Legacy**: Île-de-France has historically been the core of the French monarchy. ...\",\"Type: regions\\u003cbr\\u003eText: ## Culture\\n- **Capital of Culture**: Paris is widely recognized as one of the world’s greatest cultu...\",\"Type: regions\\u003cbr\\u003eText: ## Natural Beauty\\n- **Seine River**: The Seine River flows through Paris and the Île-de-France regio...\",\"Type: regions\\u003cbr\\u003eText: ## Landmarks and Attractions\\n- **Eiffel Tower**: The most iconic landmark in Paris, the Eiffel Tower...\",\"Type: regions\\u003cbr\\u003eText: ## Economy\\n- **Economic Powerhouse**: Île-de-France is the economic center of France, contributing a...\",\"Type: regions\\u003cbr\\u003eText: ## Climate\\n- **Oceanic Climate**: Île-de-France experiences a temperate oceanic climate with mild wi...\",\"Type: regions\\u003cbr\\u003eText: ## Conclusion\\nÎle-de-France is the heart of France, blending rich history, cultural innovation, and ...\",\"Type: regions\\u003cbr\\u003eText: # Overview of Languedoc Region in France\\n\\nLanguedoc is a historic and culturally rich region located...\",\"Type: regions\\u003cbr\\u003eText: ## History\\n- **Roman Influence**: Languedoc has a strong Roman heritage, with many ancient ruins, in...\",\"Type: regions\\u003cbr\\u003eText: ## Culture\\n- **Language**: The Occitan language, historically spoken in the region, was once widely ...\",\"Type: regions\\u003cbr\\u003eText: ## Natural Beauty\\n- **Mediterranean Coast**: The region boasts a stunning coastline along the Medite...\",\"Type: regions\\u003cbr\\u003eText: ## Landmarks and Attractions\\n- **Carcassonne**: A UNESCO World Heritage site, the medieval fortress ...\",\"Type: regions\\u003cbr\\u003eText: ## Economy\\n- **Wine Production**: Languedoc is one of the largest wine-producing regions in France, ...\",\"Type: regions\\u003cbr\\u003eText: ## Climate\\n- **Mediterranean Climate**: Languedoc enjoys a Mediterranean climate, characterized by h...\",\"Type: regions\\u003cbr\\u003eText: ## Conclusion\\nLanguedoc is a region rich in history, culture, and natural beauty. From its Roman her...\",\"Type: regions\\u003cbr\\u003eText: # Overview of Provence Region in France\\n\\nProvence is a stunning region in the southeastern part of F...\",\"Type: regions\\u003cbr\\u003eText: ## History\\n- **Roman Heritage**: Provence has a rich Roman history, with the city of Arles serving a...\",\"Type: regions\\u003cbr\\u003eText: ## Culture\\n- **Language**: The traditional language of Provence is Provençal, a variety of the Occit...\",\"Type: regions\\u003cbr\\u003eText: ## Natural Beauty\\n- **Mediterranean Coast**: Provence boasts a beautiful coastline along the Mediter...\",\"Type: regions\\u003cbr\\u003eText: ## Landmarks and Attractions\\n- **Palace of the Popes (Palais des Papes)**: Located in Avignon, this ...\",\"Type: regions\\u003cbr\\u003eText: ## Economy\\n- **Agriculture**: Provence is known for its agricultural production, including the culti...\",\"Type: regions\\u003cbr\\u003eText: ## Climate\\n- **Mediterranean Climate**: Provence enjoys a Mediterranean climate, characterized by ho...\",\"Type: regions\\u003cbr\\u003eText: ## Notable People\\n- **Paul Cézanne**: A famous Post-Impressionist painter, Cézanne was born in Aix-e...\",\"Type: regions\\u003cbr\\u003eText: ## Conclusion\\nProvence is a region that captivates with its stunning landscapes, rich history, and v...\",\"Type: regions\\u003cbr\\u003eText: # Overview of Bourgogne (Burgundy) Region in France\\n\\nBourgogne, or Burgundy, is a historic and pictu...\",\"Type: regions\\u003cbr\\u003eText: ## History\\n- **Duchy of Burgundy**: Burgundy was once an independent duchy, and during the Middle Ag...\",\"Type: regions\\u003cbr\\u003eText: ## Culture\\n- **Wine Culture**: Burgundy is one of the world’s most famous wine-producing regions, re...\",\"Type: regions\\u003cbr\\u003eText: ## Natural Beauty\\n- **Burgundy Canal**: The Burgundy Canal offers scenic views and is a popular spot...\",\"Type: regions\\u003cbr\\u003eText: ## Landmarks and Attractions\\n- **Dijon**: The capital of Burgundy, known for its well-preserved medi...\",\"Type: regions\\u003cbr\\u003eText: ## Economy\\n- **Wine Industry**: Burgundy’s wine industry is the cornerstone of the region’s economy....\",\"Type: regions\\u003cbr\\u003eText: ## Notable People\\n- **Gustave Eiffel**: Born in Dijon, Eiffel is famous for designing the Eiffel Tow...\",\"Type: mountains\\u003cbr\\u003eText: # Overview of the Ardennes Mountain Range\\n\\n## Location\\n- The Ardennes is a region located in the nor...\",\"Type: mountains\\u003cbr\\u003eText: ## Climate\\n- The Ardennes has a temperate maritime climate, with cool summers and mild winters.\\n- Pr...\",\"Type: mountains\\u003cbr\\u003eText: ## Tourism\\n- Key attractions include the Semois River, the fortress of Bouillon, and the expansive f...\",\"Type: mountains\\u003cbr\\u003eText: # Overview of the Morvan Mountain Range\\n\\n## Location\\n- **Country**: France\\n- **Region**: Burgundy (B...\",\"Type: mountains\\u003cbr\\u003eText: ## Culture and Economy\\n- The Morvan is known for its traditional rural lifestyle and local crafts.\\n-...\",\"Type: mountains\\u003cbr\\u003eText: # Vosges Mountains Overview\\n\\n## Geography\\n- **Location**: Northeastern France, bordering Germany to ...\",\"Type: mountains\\u003cbr\\u003eText: ## Culture and History\\n- **Human Settlement**: Historically inhabited by Celtic tribes, later signif...\",\"Type: mountains\\u003cbr\\u003eText: ## Accessibility\\n- **Transport**: Well-connected by road and rail, making it accessible from major F...\",\"Type: mountains\\u003cbr\\u003eText: # Overview of the Pyrenees Mountain Range\\n\\n## Geographic Location\\n- The Pyrenees mountain range form...\",\"Type: mountains\\u003cbr\\u003eText: ## Climate\\n- The climate varies from oceanic in the west to Mediterranean in the east.\\n- Snowfall is...\",\"Type: mountains\\u003cbr\\u003eText: ## Outdoor Activities\\n- The Pyrenees are a popular destination for various activities including:\\n  -...\",\"Type: mountains\\u003cbr\\u003eText: # Overview of the Jura Mountain Range in France\\n\\n## Location\\n- The Jura Mountains are located along ...\",\"Type: mountains\\u003cbr\\u003eText: ## Climate\\n- The climate in the Jura varies from humid in the west to drier conditions in the east.\\n...\",\"Type: mountains\\u003cbr\\u003eText: ## History\\n- The Jura Mountains have historical significance, having served as a natural barrier and...\",\"Type: mountains\\u003cbr\\u003eText: # Overview of Massif Central\\n\\n## General Information\\n- **Location**: South-central France\\n- **Area**...\",\"Type: mountains\\u003cbr\\u003eText: ## Cultural Significance\\n- **History**: Affected by various historical events and populations, inclu...\",\"Type: mountains\\u003cbr\\u003eText: # Overview of the French Alps\\n\\n## General Information\\n- **Location:** Southeastern France, extending...\",\"Type: mountains\\u003cbr\\u003eText: ## Flora and Fauna\\n- **Biodiversity:** Rich diversity of species; includes both alpine and Mediterra...\",\"Type: mountains\\u003cbr\\u003eText: ## Historical Aspects\\n- **Cultural Heritage:** Influenced by Roman and medieval settlements, with si...\",\"Type: mountains\\u003cbr\\u003eText: # Overview of the Massif Armorican\\n\\n## Location\\n- **Region**: Brittany, France\\n- **Coordinates**: Ap...\",\"Type: mountains\\u003cbr\\u003eText: ## Culture and History\\n- **Historical Significance**: The area is rich in megalithic structures and ...\",\"Type: mountains\\u003cbr\\u003eText: ## Transportation\\n- **Accessibility**: Well-connected by road and rail, making it easily accessible ...\",\"Type: languages\\u003cbr\\u003eText: # Overview of Provençal Language\\n\\n## Definition\\nProvençal is a Romance language that belongs to the ...\",\"Type: languages\\u003cbr\\u003eText: ## Current Status\\n- **Recognition**: Provençal is recognized as a cultural language in France but ha...\",\"Type: languages\\u003cbr\\u003eText: ## Cultural Significance\\n- **Folklore and Traditions**: Provençal is an important part of the cultur...\",\"Type: languages\\u003cbr\\u003eText: # Overview of the Picard Language\\n\\n## General Information\\n- **Language Family**: Romance, specifical...\",\"Type: languages\\u003cbr\\u003eText: ## Current Status\\n- **Speakers**: The number of speakers has declined significantly over the 20th ce...\",\"Type: languages\\u003cbr\\u003eText: ## Legal Status\\n- **Recognition**: Picard has no official status in France, but it is recognized as ...\",\"Type: languages\\u003cbr\\u003eText: # Overview of Alsacien Language\\n\\n## Definition\\nAlsacien, also known as Alsatian or Alsatian German, ...\",\"Type: languages\\u003cbr\\u003eText: ## Characteristics\\n- Strongly influenced by both French and standard German, leading to unique vocab...\",\"Type: languages\\u003cbr\\u003eText: # Overview of the Normand Language\\n\\n## What is Normand?\\nNormand is a regional language of France, pa...\",\"Type: languages\\u003cbr\\u003eText: ## Linguistic Features\\n- Normand retains many archaic French features that have evolved in Standard ...\",\"Type: languages\\u003cbr\\u003eText: ## Cultural Aspects\\n- Normand has a rich oral tradition, with folk tales, songs, and proverbs integr...\",\"Type: languages\\u003cbr\\u003eText: # Overview of the Breton Language\\n\\n## General Information\\n- **Name**: Breton (Brezhoneg)\\n- **Languag...\",\"Type: languages\\u003cbr\\u003eText: ## Current Status\\n- **Speakers**: Approximately 200,000 to 300,000 speakers as of recent estimates.\\n...\",\"Type: languages\\u003cbr\\u003eText: ## Conclusion\\nBreton is a vibrant Celtic language with a rich history and cultural heritage, facing ...\",\"Type: languages\\u003cbr\\u003eText: # Overview of Languedocien Language\\n\\n## General Information\\n- **Language Family**: Occitan\\n- **Regio...\",\"Type: languages\\u003cbr\\u003eText: ## Cultural Context\\n- **Recognition**: While part of the Occitan language family, Languedocien does ...\",\"Type: languages\\u003cbr\\u003eText: ## Conclusion\\nLanguedocien remains an essential part of the cultural heritage of southern France, re...\",\"Type: languages\\u003cbr\\u003eText: # Overview of the Lorrain Language\\n\\n## General Information\\n- **Language Family**: Lorrain is part of...\",\"Type: languages\\u003cbr\\u003eText: ## Linguistic Features\\n- **Phonology**: Lorrain phonetics include distinct sounds that differentiate...\",\"Type: languages\\u003cbr\\u003eText: ## Current Status\\n- **Speaker Population**: The number of active speakers has significantly decrease...\",\"Type: languages\\u003cbr\\u003eText: # Overview of the Gascon Language\\n\\n## General Information\\n- **Language Family**: Occitan branch of t...\",\"Type: languages\\u003cbr\\u003eText: ## Linguistic Features\\n- **Phonetics**: Gascon has unique phonetic characteristics, such as the pres...\",\"Type: languages\\u003cbr\\u003eText: ## Related Languages\\n- **Occitan**: Gascon is one of the major dialects of the Occitan language, whi...\",\"Type: languages\\u003cbr\\u003eText: # Overview of the Bourguignon Language\\n\\n## General Information\\n- **Name**: Bourguignon\\n- **Region**:...\",\"Type: languages\\u003cbr\\u003eText: ## Current Status\\n- **Speaker Population**: The number of speakers has declined over the years, with...\",\"Type: languages\\u003cbr\\u003eText: ## Conclusion\\nBourguignon remains an important part of the cultural identity of the Burgundy region,...\"],\"x\":[5.1409435,6.1298857,5.108088,-8.471715,4.610592,5.7565084,5.3458815,1.2827995,2.0103974,0.9240155,-0.91207755,-7.826375,1.6178014,0.5380666,-2.6653576,-1.8062065,-1.9060224,-3.5381918,-7.550071,-2.5346966,6.1479797,-1.6127759,-3.1155925,-4.9707713,-5.3853464,-3.0786023,-5.4424925,-7.940682,-4.161757,5.4361234,-5.1501026,-5.591006,-2.5070083,-6.3503976,-6.786364,4.792667,-4.433636,-4.188409,-5.4191523,-4.7241244,-7.027951,-5.0826664,5.811476,-4.799363,0.38637748,0.15144572,0.8291304,0.07503351,-8.688548,0.9827007,5.3614783,0.18116991,1.3933351,2.5164824,2.399631,0.7702979,-9.046958,2.224556,5.304979,1.8029002,1.5114603,-1.6154417,-2.1427293,-1.6778305,-3.5578609,-7.258414,-1.7290609,-0.56760275,0.73068357,1.5392246,1.6909071,-3.0673528,-2.9813762,-1.9472836,-0.6058541,-6.1113935,-2.615951,-1.2242187,-2.2140098,-1.1074579,-0.3456788,-0.49672636,-3.409427,-1.8055198,-2.4036162,-0.64540625,0.8206127,-4.4402237,-6.7304344,-5.627517,2.841306,2.985698,2.715538,3.1728697,3.360602,3.5161936,5.584229,5.531152,-1.8007388,-1.8597201,-2.5263193,-1.9245175,-0.9877667,-1.5411463,2.6325898,2.091599,0.79687804,1.32271,1.0956692,0.79679376,4.704234,4.8425717,5.203459,1.3868184,0.61171305,0.39777303],\"y\":[-0.4068299,-0.52748597,-1.6234244,4.4178677,-0.91044074,1.7190943,-0.4885358,5.111701,4.6808896,5.4411063,7.121086,4.8527017,5.937469,4.366738,-0.24411523,0.17699105,-1.7857697,-0.09644878,2.6322665,-1.1148055,4.424787,0.58479285,-0.44793856,-1.9258999,-4.259514,-4.532622,-2.870613,3.5592256,-3.0348291,5.193637,-3.2295444,-0.9383343,-8.137939,-0.75936913,-0.041402906,5.086275,1.9589369,2.7006922,3.564304,4.917028,4.537276,2.444295,4.8417287,2.517293,-1.0295336,-2.2760353,-2.9540029,1.4128231,3.365042,-1.702659,2.8382502,-1.6139512,0.5191832,1.0167787,-1.3103651,1.2668316,3.2716756,-0.31677547,3.1772823,2.4003694,0.8063675,2.9328141,2.3441396,3.7611055,5.3148603,3.705218,4.056994,3.459755,8.716449,8.637993,8.346226,7.5318832,6.418293,8.531962,6.7750893,8.367186,10.818372,11.694267,11.80038,9.510913,10.007118,9.732234,9.365538,5.900682,9.580033,11.594929,11.715144,8.924282,0.8034268,8.520322,-4.4289002,-4.377528,-3.5983815,-7.6830525,-8.670816,-8.667073,-7.107626,-7.104394,-5.15179,-5.859786,-5.7287107,-8.044448,-8.257447,-8.779186,-5.960383,-5.721451,-5.3346877,-8.654703,-8.8571,-9.41508,-5.106174,-4.380224,-4.6031313,-7.1592264,-6.916414,-6.306773],\"type\":\"scatter\"}],                        {\"template\":{\"data\":{\"histogram2dcontour\":[{\"type\":\"histogram2dcontour\",\"colorbar\":{\"outlinewidth\":0,\"ticks\":\"\"},\"colorscale\":[[0.0,\"#0d0887\"],[0.1111111111111111,\"#46039f\"],[0.2222222222222222,\"#7201a8\"],[0.3333333333333333,\"#9c179e\"],[0.4444444444444444,\"#bd3786\"],[0.5555555555555556,\"#d8576b\"],[0.6666666666666666,\"#ed7953\"],[0.7777777777777778,\"#fb9f3a\"],[0.8888888888888888,\"#fdca26\"],[1.0,\"#f0f921\"]]}],\"choropleth\":[{\"type\":\"choropleth\",\"colorbar\":{\"outlinewidth\":0,\"ticks\":\"\"}}],\"histogram2d\":[{\"type\":\"histogram2d\",\"colorbar\":{\"outlinewidth\":0,\"ticks\":\"\"},\"colorscale\":[[0.0,\"#0d0887\"],[0.1111111111111111,\"#46039f\"],[0.2222222222222222,\"#7201a8\"],[0.3333333333333333,\"#9c179e\"],[0.4444444444444444,\"#bd3786\"],[0.5555555555555556,\"#d8576b\"],[0.6666666666666666,\"#ed7953\"],[0.7777777777777778,\"#fb9f3a\"],[0.8888888888888888,\"#fdca26\"],[1.0,\"#f0f921\"]]}],\"heatmap\":[{\"type\":\"heatmap\",\"colorbar\":{\"outlinewidth\":0,\"ticks\":\"\"},\"colorscale\":[[0.0,\"#0d0887\"],[0.1111111111111111,\"#46039f\"],[0.2222222222222222,\"#7201a8\"],[0.3333333333333333,\"#9c179e\"],[0.4444444444444444,\"#bd3786\"],[0.5555555555555556,\"#d8576b\"],[0.6666666666666666,\"#ed7953\"],[0.7777777777777778,\"#fb9f3a\"],[0.8888888888888888,\"#fdca26\"],[1.0,\"#f0f921\"]]}],\"heatmapgl\":[{\"type\":\"heatmapgl\",\"colorbar\":{\"outlinewidth\":0,\"ticks\":\"\"},\"colorscale\":[[0.0,\"#0d0887\"],[0.1111111111111111,\"#46039f\"],[0.2222222222222222,\"#7201a8\"],[0.3333333333333333,\"#9c179e\"],[0.4444444444444444,\"#bd3786\"],[0.5555555555555556,\"#d8576b\"],[0.6666666666666666,\"#ed7953\"],[0.7777777777777778,\"#fb9f3a\"],[0.8888888888888888,\"#fdca26\"],[1.0,\"#f0f921\"]]}],\"contourcarpet\":[{\"type\":\"contourcarpet\",\"colorbar\":{\"outlinewidth\":0,\"ticks\":\"\"}}],\"contour\":[{\"type\":\"contour\",\"colorbar\":{\"outlinewidth\":0,\"ticks\":\"\"},\"colorscale\":[[0.0,\"#0d0887\"],[0.1111111111111111,\"#46039f\"],[0.2222222222222222,\"#7201a8\"],[0.3333333333333333,\"#9c179e\"],[0.4444444444444444,\"#bd3786\"],[0.5555555555555556,\"#d8576b\"],[0.6666666666666666,\"#ed7953\"],[0.7777777777777778,\"#fb9f3a\"],[0.8888888888888888,\"#fdca26\"],[1.0,\"#f0f921\"]]}],\"surface\":[{\"type\":\"surface\",\"colorbar\":{\"outlinewidth\":0,\"ticks\":\"\"},\"colorscale\":[[0.0,\"#0d0887\"],[0.1111111111111111,\"#46039f\"],[0.2222222222222222,\"#7201a8\"],[0.3333333333333333,\"#9c179e\"],[0.4444444444444444,\"#bd3786\"],[0.5555555555555556,\"#d8576b\"],[0.6666666666666666,\"#ed7953\"],[0.7777777777777778,\"#fb9f3a\"],[0.8888888888888888,\"#fdca26\"],[1.0,\"#f0f921\"]]}],\"mesh3d\":[{\"type\":\"mesh3d\",\"colorbar\":{\"outlinewidth\":0,\"ticks\":\"\"}}],\"scatter\":[{\"fillpattern\":{\"fillmode\":\"overlay\",\"size\":10,\"solidity\":0.2},\"type\":\"scatter\"}],\"parcoords\":[{\"type\":\"parcoords\",\"line\":{\"colorbar\":{\"outlinewidth\":0,\"ticks\":\"\"}}}],\"scatterpolargl\":[{\"type\":\"scatterpolargl\",\"marker\":{\"colorbar\":{\"outlinewidth\":0,\"ticks\":\"\"}}}],\"bar\":[{\"error_x\":{\"color\":\"#2a3f5f\"},\"error_y\":{\"color\":\"#2a3f5f\"},\"marker\":{\"line\":{\"color\":\"#E5ECF6\",\"width\":0.5},\"pattern\":{\"fillmode\":\"overlay\",\"size\":10,\"solidity\":0.2}},\"type\":\"bar\"}],\"scattergeo\":[{\"type\":\"scattergeo\",\"marker\":{\"colorbar\":{\"outlinewidth\":0,\"ticks\":\"\"}}}],\"scatterpolar\":[{\"type\":\"scatterpolar\",\"marker\":{\"colorbar\":{\"outlinewidth\":0,\"ticks\":\"\"}}}],\"histogram\":[{\"marker\":{\"pattern\":{\"fillmode\":\"overlay\",\"size\":10,\"solidity\":0.2}},\"type\":\"histogram\"}],\"scattergl\":[{\"type\":\"scattergl\",\"marker\":{\"colorbar\":{\"outlinewidth\":0,\"ticks\":\"\"}}}],\"scatter3d\":[{\"type\":\"scatter3d\",\"line\":{\"colorbar\":{\"outlinewidth\":0,\"ticks\":\"\"}},\"marker\":{\"colorbar\":{\"outlinewidth\":0,\"ticks\":\"\"}}}],\"scattermapbox\":[{\"type\":\"scattermapbox\",\"marker\":{\"colorbar\":{\"outlinewidth\":0,\"ticks\":\"\"}}}],\"scatterternary\":[{\"type\":\"scatterternary\",\"marker\":{\"colorbar\":{\"outlinewidth\":0,\"ticks\":\"\"}}}],\"scattercarpet\":[{\"type\":\"scattercarpet\",\"marker\":{\"colorbar\":{\"outlinewidth\":0,\"ticks\":\"\"}}}],\"carpet\":[{\"aaxis\":{\"endlinecolor\":\"#2a3f5f\",\"gridcolor\":\"white\",\"linecolor\":\"white\",\"minorgridcolor\":\"white\",\"startlinecolor\":\"#2a3f5f\"},\"baxis\":{\"endlinecolor\":\"#2a3f5f\",\"gridcolor\":\"white\",\"linecolor\":\"white\",\"minorgridcolor\":\"white\",\"startlinecolor\":\"#2a3f5f\"},\"type\":\"carpet\"}],\"table\":[{\"cells\":{\"fill\":{\"color\":\"#EBF0F8\"},\"line\":{\"color\":\"white\"}},\"header\":{\"fill\":{\"color\":\"#C8D4E3\"},\"line\":{\"color\":\"white\"}},\"type\":\"table\"}],\"barpolar\":[{\"marker\":{\"line\":{\"color\":\"#E5ECF6\",\"width\":0.5},\"pattern\":{\"fillmode\":\"overlay\",\"size\":10,\"solidity\":0.2}},\"type\":\"barpolar\"}],\"pie\":[{\"automargin\":true,\"type\":\"pie\"}]},\"layout\":{\"autotypenumbers\":\"strict\",\"colorway\":[\"#636efa\",\"#EF553B\",\"#00cc96\",\"#ab63fa\",\"#FFA15A\",\"#19d3f3\",\"#FF6692\",\"#B6E880\",\"#FF97FF\",\"#FECB52\"],\"font\":{\"color\":\"#2a3f5f\"},\"hovermode\":\"closest\",\"hoverlabel\":{\"align\":\"left\"},\"paper_bgcolor\":\"white\",\"plot_bgcolor\":\"#E5ECF6\",\"polar\":{\"bgcolor\":\"#E5ECF6\",\"angularaxis\":{\"gridcolor\":\"white\",\"linecolor\":\"white\",\"ticks\":\"\"},\"radialaxis\":{\"gridcolor\":\"white\",\"linecolor\":\"white\",\"ticks\":\"\"}},\"ternary\":{\"bgcolor\":\"#E5ECF6\",\"aaxis\":{\"gridcolor\":\"white\",\"linecolor\":\"white\",\"ticks\":\"\"},\"baxis\":{\"gridcolor\":\"white\",\"linecolor\":\"white\",\"ticks\":\"\"},\"caxis\":{\"gridcolor\":\"white\",\"linecolor\":\"white\",\"ticks\":\"\"}},\"coloraxis\":{\"colorbar\":{\"outlinewidth\":0,\"ticks\":\"\"}},\"colorscale\":{\"sequential\":[[0.0,\"#0d0887\"],[0.1111111111111111,\"#46039f\"],[0.2222222222222222,\"#7201a8\"],[0.3333333333333333,\"#9c179e\"],[0.4444444444444444,\"#bd3786\"],[0.5555555555555556,\"#d8576b\"],[0.6666666666666666,\"#ed7953\"],[0.7777777777777778,\"#fb9f3a\"],[0.8888888888888888,\"#fdca26\"],[1.0,\"#f0f921\"]],\"sequentialminus\":[[0.0,\"#0d0887\"],[0.1111111111111111,\"#46039f\"],[0.2222222222222222,\"#7201a8\"],[0.3333333333333333,\"#9c179e\"],[0.4444444444444444,\"#bd3786\"],[0.5555555555555556,\"#d8576b\"],[0.6666666666666666,\"#ed7953\"],[0.7777777777777778,\"#fb9f3a\"],[0.8888888888888888,\"#fdca26\"],[1.0,\"#f0f921\"]],\"diverging\":[[0,\"#8e0152\"],[0.1,\"#c51b7d\"],[0.2,\"#de77ae\"],[0.3,\"#f1b6da\"],[0.4,\"#fde0ef\"],[0.5,\"#f7f7f7\"],[0.6,\"#e6f5d0\"],[0.7,\"#b8e186\"],[0.8,\"#7fbc41\"],[0.9,\"#4d9221\"],[1,\"#276419\"]]},\"xaxis\":{\"gridcolor\":\"white\",\"linecolor\":\"white\",\"ticks\":\"\",\"title\":{\"standoff\":15},\"zerolinecolor\":\"white\",\"automargin\":true,\"zerolinewidth\":2},\"yaxis\":{\"gridcolor\":\"white\",\"linecolor\":\"white\",\"ticks\":\"\",\"title\":{\"standoff\":15},\"zerolinecolor\":\"white\",\"automargin\":true,\"zerolinewidth\":2},\"scene\":{\"xaxis\":{\"backgroundcolor\":\"#E5ECF6\",\"gridcolor\":\"white\",\"linecolor\":\"white\",\"showbackground\":true,\"ticks\":\"\",\"zerolinecolor\":\"white\",\"gridwidth\":2},\"yaxis\":{\"backgroundcolor\":\"#E5ECF6\",\"gridcolor\":\"white\",\"linecolor\":\"white\",\"showbackground\":true,\"ticks\":\"\",\"zerolinecolor\":\"white\",\"gridwidth\":2},\"zaxis\":{\"backgroundcolor\":\"#E5ECF6\",\"gridcolor\":\"white\",\"linecolor\":\"white\",\"showbackground\":true,\"ticks\":\"\",\"zerolinecolor\":\"white\",\"gridwidth\":2}},\"shapedefaults\":{\"line\":{\"color\":\"#2a3f5f\"}},\"annotationdefaults\":{\"arrowcolor\":\"#2a3f5f\",\"arrowhead\":0,\"arrowwidth\":1},\"geo\":{\"bgcolor\":\"white\",\"landcolor\":\"#E5ECF6\",\"subunitcolor\":\"white\",\"showland\":true,\"showlakes\":true,\"lakecolor\":\"white\"},\"title\":{\"x\":0.05},\"mapbox\":{\"style\":\"light\"}}},\"margin\":{\"r\":20,\"b\":10,\"l\":10,\"t\":40},\"title\":{\"text\":\"2D Chroma Vector Store Visualization\"},\"scene\":{\"xaxis\":{\"title\":{\"text\":\"x\"}},\"yaxis\":{\"title\":{\"text\":\"y\"}}},\"width\":800,\"height\":600},                        {\"responsive\": true}                    ).then(function(){\n",
              "                            \n",
              "var gd = document.getElementById('392c71f3-cd4e-4670-9a4d-ec6d55cdb0fa');\n",
              "var x = new MutationObserver(function (mutations, observer) {{\n",
              "        var display = window.getComputedStyle(gd).display;\n",
              "        if (!display || display === 'none') {{\n",
              "            console.log([gd, 'removed!']);\n",
              "            Plotly.purge(gd);\n",
              "            observer.disconnect();\n",
              "        }}\n",
              "}});\n",
              "\n",
              "// Listen for the removal of the full notebook cells\n",
              "var notebookContainer = gd.closest('#notebook-container');\n",
              "if (notebookContainer) {{\n",
              "    x.observe(notebookContainer, {childList: true});\n",
              "}}\n",
              "\n",
              "// Listen for the clearing of the current output cell\n",
              "var outputEl = gd.closest('.output');\n",
              "if (outputEl) {{\n",
              "    x.observe(outputEl, {childList: true});\n",
              "}}\n",
              "\n",
              "                        })                };                            </script>        </div>\n",
              "</body>\n",
              "</html>"
            ]
          },
          "metadata": {}
        }
      ]
    },
    {
      "cell_type": "code",
      "source": [
        "# Let's try 3D!\n",
        "\n",
        "tsne = TSNE(n_components=3, random_state=42)\n",
        "reduced_vectors = tsne.fit_transform(vectors)\n",
        "\n",
        "# Create the 3D scatter plot\n",
        "fig = go.Figure(data=[go.Scatter3d(\n",
        "    x=reduced_vectors[:, 0],\n",
        "    y=reduced_vectors[:, 1],\n",
        "    z=reduced_vectors[:, 2],\n",
        "    mode='markers',\n",
        "    marker=dict(size=5, color=colors, opacity=0.8),\n",
        "    text=[f\"Type: {t}<br>Text: {d[:100]}...\" for t, d in zip(doc_types, documents)],\n",
        "    hoverinfo='text'\n",
        ")])\n",
        "\n",
        "fig.update_layout(\n",
        "    title='3D Chroma Vector Store Visualization',\n",
        "    scene=dict(xaxis_title='x', yaxis_title='y', zaxis_title='z'),\n",
        "    width=900,\n",
        "    height=700,\n",
        "    margin=dict(r=20, b=10, l=10, t=40)\n",
        ")\n",
        "\n",
        "fig.show()"
      ],
      "metadata": {
        "colab": {
          "base_uri": "https://localhost:8080/",
          "height": 717
        },
        "id": "Cn7MQW2TQwdp",
        "outputId": "efe09733-67de-4a30-af9c-a31af7a6b874"
      },
      "id": "Cn7MQW2TQwdp",
      "execution_count": 149,
      "outputs": [
        {
          "output_type": "display_data",
          "data": {
            "text/html": [
              "<html>\n",
              "<head><meta charset=\"utf-8\" /></head>\n",
              "<body>\n",
              "    <div>            <script src=\"https://cdnjs.cloudflare.com/ajax/libs/mathjax/2.7.5/MathJax.js?config=TeX-AMS-MML_SVG\"></script><script type=\"text/javascript\">if (window.MathJax && window.MathJax.Hub && window.MathJax.Hub.Config) {window.MathJax.Hub.Config({SVG: {font: \"STIX-Web\"}});}</script>                <script type=\"text/javascript\">window.PlotlyConfig = {MathJaxConfig: 'local'};</script>\n",
              "        <script charset=\"utf-8\" src=\"https://cdn.plot.ly/plotly-2.35.2.min.js\"></script>                <div id=\"ca792fa2-1da8-4828-ab53-5b3b61f589a3\" class=\"plotly-graph-div\" style=\"height:700px; width:900px;\"></div>            <script type=\"text/javascript\">                                    window.PLOTLYENV=window.PLOTLYENV || {};                                    if (document.getElementById(\"ca792fa2-1da8-4828-ab53-5b3b61f589a3\")) {                    Plotly.newPlot(                        \"ca792fa2-1da8-4828-ab53-5b3b61f589a3\",                        [{\"hoverinfo\":\"text\",\"marker\":{\"color\":[\"green\",\"green\",\"green\",\"green\",\"green\",\"green\",\"green\",\"green\",\"green\",\"green\",\"green\",\"green\",\"green\",\"green\",\"green\",\"green\",\"green\",\"green\",\"green\",\"green\",\"green\",\"green\",\"green\",\"green\",\"green\",\"green\",\"green\",\"green\",\"green\",\"green\",\"green\",\"green\",\"green\",\"green\",\"green\",\"green\",\"green\",\"green\",\"green\",\"green\",\"green\",\"green\",\"green\",\"green\",\"green\",\"green\",\"green\",\"green\",\"green\",\"green\",\"green\",\"green\",\"green\",\"green\",\"green\",\"green\",\"green\",\"green\",\"green\",\"green\",\"green\",\"green\",\"green\",\"green\",\"green\",\"green\",\"green\",\"green\",\"red\",\"red\",\"red\",\"red\",\"red\",\"red\",\"red\",\"red\",\"red\",\"red\",\"red\",\"red\",\"red\",\"red\",\"red\",\"red\",\"red\",\"red\",\"red\",\"red\",\"red\",\"red\",\"blue\",\"blue\",\"blue\",\"blue\",\"blue\",\"blue\",\"blue\",\"blue\",\"blue\",\"blue\",\"blue\",\"blue\",\"blue\",\"blue\",\"blue\",\"blue\",\"blue\",\"blue\",\"blue\",\"blue\",\"blue\",\"blue\",\"blue\",\"blue\",\"blue\",\"blue\"],\"opacity\":0.8,\"size\":5},\"mode\":\"markers\",\"text\":[\"Type: regions\\u003cbr\\u003eText: # Overview of Gascogne Region in France\\n\\nGascogne is a historical and cultural region in southwester...\",\"Type: regions\\u003cbr\\u003eText: ## History\\n- **Roman Influence**: Gascogne was known as part of the ancient Roman province of Novemp...\",\"Type: regions\\u003cbr\\u003eText: ## Culture\\n- **Gascon Language**: The Gascon language, a variety of Occitan, was historically spoken...\",\"Type: regions\\u003cbr\\u003eText: ## Landmarks and Attractions\\n- **Auch Cathedral**: A UNESCO World Heritage site, the Cathedral of Sa...\",\"Type: regions\\u003cbr\\u003eText: ## Economy\\n- **Agriculture**: Gascogne is an important agricultural region, known for its production...\",\"Type: regions\\u003cbr\\u003eText: ## Climate\\n- **Mediterranean Climate**: Gascogne enjoys a temperate climate, with warm summers and m...\",\"Type: regions\\u003cbr\\u003eText: ## Conclusion\\nGascogne is a region that offers a unique blend of history, culture, and natural beaut...\",\"Type: regions\\u003cbr\\u003eText: # Overview of Alsace-Lorraine Region in France\\n\\nAlsace-Lorraine is a historically significant and cu...\",\"Type: regions\\u003cbr\\u003eText: ## History\\n- **German and French Control**: The region has alternated between French and German cont...\",\"Type: regions\\u003cbr\\u003eText: ## Culture\\n- **Bilingualism**: The region has strong Germanic roots, and many people speak both Fren...\",\"Type: regions\\u003cbr\\u003eText: ## Natural Beauty\\n- **Vosges Mountains**: Located in Lorraine, the Vosges Mountains offer scenic lan...\",\"Type: regions\\u003cbr\\u003eText: ## Landmarks and Attractions\\n- **Strasbourg Cathedral**: The Cathedral of Notre-Dame in Strasbourg i...\",\"Type: regions\\u003cbr\\u003eText: ## Economy\\n- **Industry**: Alsace-Lorraine has a diverse economy that includes manufacturing, automo...\",\"Type: regions\\u003cbr\\u003eText: ## Notable People\\n- **Jean-Jacques Rousseau**: The famous philosopher and writer was born in Geneva ...\",\"Type: regions\\u003cbr\\u003eText: # Overview of Poitou Region in France\\n\\nPoitou is a historic region located in the western part of Fr...\",\"Type: regions\\u003cbr\\u003eText: ## History\\n- **Medieval Influence**: Poitou was an important region during the medieval period, espe...\",\"Type: regions\\u003cbr\\u003eText: ## Culture\\n- **Language**: The traditional language of Poitou is Poitevin, a variety of the Occitan ...\",\"Type: regions\\u003cbr\\u003eText: ## Natural Beauty\\n- **Atlantic Coast**: Poitou has a beautiful coastline along the Atlantic Ocean, w...\",\"Type: regions\\u003cbr\\u003eText: ## Landmarks and Attractions\\n- **Poitiers**: The historic city of Poitiers is famous for its medieva...\",\"Type: regions\\u003cbr\\u003eText: ## Economy\\n- **Agriculture**: Poitou is traditionally an agricultural region, known for its livestoc...\",\"Type: regions\\u003cbr\\u003eText: ## Climate\\n- **Oceanic Climate**: Poitou enjoys an oceanic climate with mild winters and warm summer...\",\"Type: regions\\u003cbr\\u003eText: ## Notable People\\n- **Eleanor of Aquitaine**: Born in Poitou, Eleanor was one of the most powerful a...\",\"Type: regions\\u003cbr\\u003eText: ## Conclusion\\nPoitou is a region rich in history, culture, and natural beauty. From its medieval tow...\",\"Type: regions\\u003cbr\\u003eText: # Overview of Normandie Region in France\\n\\nNormandie (Normandy) is a historic and picturesque region ...\",\"Type: regions\\u003cbr\\u003eText: ## History\\n- **Viking Heritage**: Normandy gets its name from the Norsemen (Vikings), who settled in...\",\"Type: regions\\u003cbr\\u003eText: ## Culture\\n- **Language**: The regional language of Normandy is Norman, a variety of the Old French ...\",\"Type: regions\\u003cbr\\u003eText: ## Natural Beauty\\n- **Dramatic Coastline**: Normandy is known for its stunning coastline, including ...\",\"Type: regions\\u003cbr\\u003eText: ## Landmarks and Attractions\\n- **Mont Saint-Michel**: A UNESCO World Heritage site, Mont Saint-Miche...\",\"Type: regions\\u003cbr\\u003eText: ## Economy\\n- **Agriculture**: Normandy is a major agricultural region, known for dairy farming, part...\",\"Type: regions\\u003cbr\\u003eText: ## Climate\\n- **Oceanic Climate**: Normandy enjoys an oceanic climate, with mild winters and cool sum...\",\"Type: regions\\u003cbr\\u003eText: ## Conclusion\\nNormandy is a region rich in history, culture, and natural beauty. From the stunning M...\",\"Type: regions\\u003cbr\\u003eText: # Overview of Bretagne (Brittany) Region in France\\n\\nBretagne, or Brittany, is a culturally distinct ...\",\"Type: regions\\u003cbr\\u003eText: ## History\\n- **Celtic Origins**: Originally inhabited by the Celts, who brought their language, trad...\",\"Type: regions\\u003cbr\\u003eText: ## Culture\\n- **Music**: Bretagne is known for its traditional Celtic music, including bagpipes, fidd...\",\"Type: regions\\u003cbr\\u003eText: ## Landmarks and Attractions\\n- **Carnac Stones**: Prehistoric standing stones dating back to the Neo...\",\"Type: regions\\u003cbr\\u003eText: ## Climate\\n- **Mild Climate**: Brittany experiences a temperate maritime climate, characterized by m...\",\"Type: regions\\u003cbr\\u003eText: # Overview of Île-de-France Region in France\\n\\nÎle-de-France is the central region of France, encompa...\",\"Type: regions\\u003cbr\\u003eText: ## History\\n- **Royal Legacy**: Île-de-France has historically been the core of the French monarchy. ...\",\"Type: regions\\u003cbr\\u003eText: ## Culture\\n- **Capital of Culture**: Paris is widely recognized as one of the world’s greatest cultu...\",\"Type: regions\\u003cbr\\u003eText: ## Natural Beauty\\n- **Seine River**: The Seine River flows through Paris and the Île-de-France regio...\",\"Type: regions\\u003cbr\\u003eText: ## Landmarks and Attractions\\n- **Eiffel Tower**: The most iconic landmark in Paris, the Eiffel Tower...\",\"Type: regions\\u003cbr\\u003eText: ## Economy\\n- **Economic Powerhouse**: Île-de-France is the economic center of France, contributing a...\",\"Type: regions\\u003cbr\\u003eText: ## Climate\\n- **Oceanic Climate**: Île-de-France experiences a temperate oceanic climate with mild wi...\",\"Type: regions\\u003cbr\\u003eText: ## Conclusion\\nÎle-de-France is the heart of France, blending rich history, cultural innovation, and ...\",\"Type: regions\\u003cbr\\u003eText: # Overview of Languedoc Region in France\\n\\nLanguedoc is a historic and culturally rich region located...\",\"Type: regions\\u003cbr\\u003eText: ## History\\n- **Roman Influence**: Languedoc has a strong Roman heritage, with many ancient ruins, in...\",\"Type: regions\\u003cbr\\u003eText: ## Culture\\n- **Language**: The Occitan language, historically spoken in the region, was once widely ...\",\"Type: regions\\u003cbr\\u003eText: ## Natural Beauty\\n- **Mediterranean Coast**: The region boasts a stunning coastline along the Medite...\",\"Type: regions\\u003cbr\\u003eText: ## Landmarks and Attractions\\n- **Carcassonne**: A UNESCO World Heritage site, the medieval fortress ...\",\"Type: regions\\u003cbr\\u003eText: ## Economy\\n- **Wine Production**: Languedoc is one of the largest wine-producing regions in France, ...\",\"Type: regions\\u003cbr\\u003eText: ## Climate\\n- **Mediterranean Climate**: Languedoc enjoys a Mediterranean climate, characterized by h...\",\"Type: regions\\u003cbr\\u003eText: ## Conclusion\\nLanguedoc is a region rich in history, culture, and natural beauty. From its Roman her...\",\"Type: regions\\u003cbr\\u003eText: # Overview of Provence Region in France\\n\\nProvence is a stunning region in the southeastern part of F...\",\"Type: regions\\u003cbr\\u003eText: ## History\\n- **Roman Heritage**: Provence has a rich Roman history, with the city of Arles serving a...\",\"Type: regions\\u003cbr\\u003eText: ## Culture\\n- **Language**: The traditional language of Provence is Provençal, a variety of the Occit...\",\"Type: regions\\u003cbr\\u003eText: ## Natural Beauty\\n- **Mediterranean Coast**: Provence boasts a beautiful coastline along the Mediter...\",\"Type: regions\\u003cbr\\u003eText: ## Landmarks and Attractions\\n- **Palace of the Popes (Palais des Papes)**: Located in Avignon, this ...\",\"Type: regions\\u003cbr\\u003eText: ## Economy\\n- **Agriculture**: Provence is known for its agricultural production, including the culti...\",\"Type: regions\\u003cbr\\u003eText: ## Climate\\n- **Mediterranean Climate**: Provence enjoys a Mediterranean climate, characterized by ho...\",\"Type: regions\\u003cbr\\u003eText: ## Notable People\\n- **Paul Cézanne**: A famous Post-Impressionist painter, Cézanne was born in Aix-e...\",\"Type: regions\\u003cbr\\u003eText: ## Conclusion\\nProvence is a region that captivates with its stunning landscapes, rich history, and v...\",\"Type: regions\\u003cbr\\u003eText: # Overview of Bourgogne (Burgundy) Region in France\\n\\nBourgogne, or Burgundy, is a historic and pictu...\",\"Type: regions\\u003cbr\\u003eText: ## History\\n- **Duchy of Burgundy**: Burgundy was once an independent duchy, and during the Middle Ag...\",\"Type: regions\\u003cbr\\u003eText: ## Culture\\n- **Wine Culture**: Burgundy is one of the world’s most famous wine-producing regions, re...\",\"Type: regions\\u003cbr\\u003eText: ## Natural Beauty\\n- **Burgundy Canal**: The Burgundy Canal offers scenic views and is a popular spot...\",\"Type: regions\\u003cbr\\u003eText: ## Landmarks and Attractions\\n- **Dijon**: The capital of Burgundy, known for its well-preserved medi...\",\"Type: regions\\u003cbr\\u003eText: ## Economy\\n- **Wine Industry**: Burgundy’s wine industry is the cornerstone of the region’s economy....\",\"Type: regions\\u003cbr\\u003eText: ## Notable People\\n- **Gustave Eiffel**: Born in Dijon, Eiffel is famous for designing the Eiffel Tow...\",\"Type: mountains\\u003cbr\\u003eText: # Overview of the Ardennes Mountain Range\\n\\n## Location\\n- The Ardennes is a region located in the nor...\",\"Type: mountains\\u003cbr\\u003eText: ## Climate\\n- The Ardennes has a temperate maritime climate, with cool summers and mild winters.\\n- Pr...\",\"Type: mountains\\u003cbr\\u003eText: ## Tourism\\n- Key attractions include the Semois River, the fortress of Bouillon, and the expansive f...\",\"Type: mountains\\u003cbr\\u003eText: # Overview of the Morvan Mountain Range\\n\\n## Location\\n- **Country**: France\\n- **Region**: Burgundy (B...\",\"Type: mountains\\u003cbr\\u003eText: ## Culture and Economy\\n- The Morvan is known for its traditional rural lifestyle and local crafts.\\n-...\",\"Type: mountains\\u003cbr\\u003eText: # Vosges Mountains Overview\\n\\n## Geography\\n- **Location**: Northeastern France, bordering Germany to ...\",\"Type: mountains\\u003cbr\\u003eText: ## Culture and History\\n- **Human Settlement**: Historically inhabited by Celtic tribes, later signif...\",\"Type: mountains\\u003cbr\\u003eText: ## Accessibility\\n- **Transport**: Well-connected by road and rail, making it accessible from major F...\",\"Type: mountains\\u003cbr\\u003eText: # Overview of the Pyrenees Mountain Range\\n\\n## Geographic Location\\n- The Pyrenees mountain range form...\",\"Type: mountains\\u003cbr\\u003eText: ## Climate\\n- The climate varies from oceanic in the west to Mediterranean in the east.\\n- Snowfall is...\",\"Type: mountains\\u003cbr\\u003eText: ## Outdoor Activities\\n- The Pyrenees are a popular destination for various activities including:\\n  -...\",\"Type: mountains\\u003cbr\\u003eText: # Overview of the Jura Mountain Range in France\\n\\n## Location\\n- The Jura Mountains are located along ...\",\"Type: mountains\\u003cbr\\u003eText: ## Climate\\n- The climate in the Jura varies from humid in the west to drier conditions in the east.\\n...\",\"Type: mountains\\u003cbr\\u003eText: ## History\\n- The Jura Mountains have historical significance, having served as a natural barrier and...\",\"Type: mountains\\u003cbr\\u003eText: # Overview of Massif Central\\n\\n## General Information\\n- **Location**: South-central France\\n- **Area**...\",\"Type: mountains\\u003cbr\\u003eText: ## Cultural Significance\\n- **History**: Affected by various historical events and populations, inclu...\",\"Type: mountains\\u003cbr\\u003eText: # Overview of the French Alps\\n\\n## General Information\\n- **Location:** Southeastern France, extending...\",\"Type: mountains\\u003cbr\\u003eText: ## Flora and Fauna\\n- **Biodiversity:** Rich diversity of species; includes both alpine and Mediterra...\",\"Type: mountains\\u003cbr\\u003eText: ## Historical Aspects\\n- **Cultural Heritage:** Influenced by Roman and medieval settlements, with si...\",\"Type: mountains\\u003cbr\\u003eText: # Overview of the Massif Armorican\\n\\n## Location\\n- **Region**: Brittany, France\\n- **Coordinates**: Ap...\",\"Type: mountains\\u003cbr\\u003eText: ## Culture and History\\n- **Historical Significance**: The area is rich in megalithic structures and ...\",\"Type: mountains\\u003cbr\\u003eText: ## Transportation\\n- **Accessibility**: Well-connected by road and rail, making it easily accessible ...\",\"Type: languages\\u003cbr\\u003eText: # Overview of Provençal Language\\n\\n## Definition\\nProvençal is a Romance language that belongs to the ...\",\"Type: languages\\u003cbr\\u003eText: ## Current Status\\n- **Recognition**: Provençal is recognized as a cultural language in France but ha...\",\"Type: languages\\u003cbr\\u003eText: ## Cultural Significance\\n- **Folklore and Traditions**: Provençal is an important part of the cultur...\",\"Type: languages\\u003cbr\\u003eText: # Overview of the Picard Language\\n\\n## General Information\\n- **Language Family**: Romance, specifical...\",\"Type: languages\\u003cbr\\u003eText: ## Current Status\\n- **Speakers**: The number of speakers has declined significantly over the 20th ce...\",\"Type: languages\\u003cbr\\u003eText: ## Legal Status\\n- **Recognition**: Picard has no official status in France, but it is recognized as ...\",\"Type: languages\\u003cbr\\u003eText: # Overview of Alsacien Language\\n\\n## Definition\\nAlsacien, also known as Alsatian or Alsatian German, ...\",\"Type: languages\\u003cbr\\u003eText: ## Characteristics\\n- Strongly influenced by both French and standard German, leading to unique vocab...\",\"Type: languages\\u003cbr\\u003eText: # Overview of the Normand Language\\n\\n## What is Normand?\\nNormand is a regional language of France, pa...\",\"Type: languages\\u003cbr\\u003eText: ## Linguistic Features\\n- Normand retains many archaic French features that have evolved in Standard ...\",\"Type: languages\\u003cbr\\u003eText: ## Cultural Aspects\\n- Normand has a rich oral tradition, with folk tales, songs, and proverbs integr...\",\"Type: languages\\u003cbr\\u003eText: # Overview of the Breton Language\\n\\n## General Information\\n- **Name**: Breton (Brezhoneg)\\n- **Languag...\",\"Type: languages\\u003cbr\\u003eText: ## Current Status\\n- **Speakers**: Approximately 200,000 to 300,000 speakers as of recent estimates.\\n...\",\"Type: languages\\u003cbr\\u003eText: ## Conclusion\\nBreton is a vibrant Celtic language with a rich history and cultural heritage, facing ...\",\"Type: languages\\u003cbr\\u003eText: # Overview of Languedocien Language\\n\\n## General Information\\n- **Language Family**: Occitan\\n- **Regio...\",\"Type: languages\\u003cbr\\u003eText: ## Cultural Context\\n- **Recognition**: While part of the Occitan language family, Languedocien does ...\",\"Type: languages\\u003cbr\\u003eText: ## Conclusion\\nLanguedocien remains an essential part of the cultural heritage of southern France, re...\",\"Type: languages\\u003cbr\\u003eText: # Overview of the Lorrain Language\\n\\n## General Information\\n- **Language Family**: Lorrain is part of...\",\"Type: languages\\u003cbr\\u003eText: ## Linguistic Features\\n- **Phonology**: Lorrain phonetics include distinct sounds that differentiate...\",\"Type: languages\\u003cbr\\u003eText: ## Current Status\\n- **Speaker Population**: The number of active speakers has significantly decrease...\",\"Type: languages\\u003cbr\\u003eText: # Overview of the Gascon Language\\n\\n## General Information\\n- **Language Family**: Occitan branch of t...\",\"Type: languages\\u003cbr\\u003eText: ## Linguistic Features\\n- **Phonetics**: Gascon has unique phonetic characteristics, such as the pres...\",\"Type: languages\\u003cbr\\u003eText: ## Related Languages\\n- **Occitan**: Gascon is one of the major dialects of the Occitan language, whi...\",\"Type: languages\\u003cbr\\u003eText: # Overview of the Bourguignon Language\\n\\n## General Information\\n- **Name**: Bourguignon\\n- **Region**:...\",\"Type: languages\\u003cbr\\u003eText: ## Current Status\\n- **Speaker Population**: The number of speakers has declined over the years, with...\",\"Type: languages\\u003cbr\\u003eText: ## Conclusion\\nBourguignon remains an important part of the cultural identity of the Burgundy region,...\"],\"x\":[-80.44685,-71.33145,-86.63046,68.64763,-80.61909,-101.56237,-75.241974,30.923141,21.740953,-57.195644,-45.85303,78.71026,-29.287588,-28.603668,1.2858049,-24.06391,-38.82099,-7.3705564,67.13174,-29.5227,-45.98177,-1.0776105,-87.31755,29.166418,47.131557,-36.851852,23.841887,51.44674,-55.667778,-11.920018,38.412144,14.38291,-44.06743,-81.4067,29.408907,2.3279345,56.09746,75.26039,94.49354,71.0342,84.66527,91.33248,-28.654194,70.68463,60.548534,85.26075,98.66052,-33.86368,38.93673,-36.94486,-88.397484,80.57157,1.6365249,-23.584442,43.965893,48.17029,42.715176,-77.38851,-76.41304,12.16731,3.6604562,-7.9664416,-43.667313,-17.006933,-8.896011,-88.45599,5.0443754,-23.882288,36.83274,35.70049,23.095264,-1.9046559,-21.230005,97.76701,-31.00824,82.25991,46.743587,-1.5521009,24.485783,16.445143,-12.836403,5.8328876,19.138525,45.257828,23.479208,-17.59042,20.175968,35.680042,24.332808,59.285637,6.2963104,-0.44773474,5.0382977,2.4391458,-26.289038,-44.940277,-106.6428,-91.22685,7.842155,13.650812,-13.2400675,-37.41952,-35.677204,-63.311604,-54.751102,12.810087,-34.87102,49.924828,38.711838,67.114784,-73.32502,-70.28893,-83.2289,-31.479397,-26.670341,-51.70537],\"y\":[-134.87604,71.236595,16.814611,81.327415,20.550592,58.68048,44.650578,64.2037,3.258777,-22.103937,-32.461388,58.67446,99.28348,-12.293888,38.13534,63.54344,29.32458,16.816975,53.098965,41.480057,37.808495,75.04365,118.012,7.3856087,15.884971,45.21398,26.375437,35.61631,44.26842,24.369358,-25.464388,-0.18918492,-48.11004,-46.80453,-4.065555,-39.58899,4.035557,-13.365809,0.035691764,6.031045,32.75388,-32.48568,20.246887,-16.434698,34.382923,32.44687,22.985632,-0.10409885,62.155746,-81.352356,-49.234688,55.70542,57.39762,82.59929,-73.0935,41.800358,68.66496,10.265282,-71.480865,99.7974,81.27486,32.919548,39.436455,57.370235,5.043148,56.02943,-105.927925,6.212905,-1.6158607,23.828993,26.871088,-36.735462,-22.339256,-21.469719,-42.30915,-54.100464,-31.579708,-35.35884,-23.052677,-90.00459,-78.77186,-80.71862,-63.00361,-61.18984,-32.13817,-52.890026,108.10862,-53.6498,-35.859814,-41.988346,-46.849735,-55.965473,-79.368774,61.86519,-78.30001,-95.11379,-33.28797,-38.23757,-10.159807,-29.801422,46.3235,-27.923727,-59.00944,-52.362137,2.6041424,-71.00263,112.03009,-31.396128,-54.359177,-55.746967,-7.076771,-6.9587326,14.130718,-14.183059,-40.154568,-43.50747],\"z\":[-4.64621,14.558291,9.519225,-22.809708,-20.993969,-17.064127,-0.5786591,36.18974,111.58292,-7.3848987,-45.559727,-46.171227,36.47691,2.259269,-4.2307677,2.4685516,-1.7875136,-28.247068,-5.719121,-26.57049,85.49477,7.4617944,-7.6818595,24.942059,71.53979,-78.91942,50.256912,-29.964323,-51.74454,76.806465,24.38626,1.4756029,106.64874,105.721565,-28.935135,4.108763,2.1676793,20.360344,-22.859978,-54.232796,-30.361818,-3.1084738,99.99864,-9.564594,29.735645,56.317337,25.648205,-40.493656,-21.406755,-4.5746574,-39.341854,37.47629,-44.696835,-44.99917,-108.41897,105.95374,-47.13028,-59.906906,-27.141644,-21.103863,-63.97155,30.847818,38.458694,49.123013,-64.30502,49.739803,10.358776,25.45014,-77.66655,-91.27254,-67.73993,-54.04165,-71.617805,54.290955,-24.477978,-45.461792,-99.62505,-111.46953,-120.233185,-52.934353,-48.271717,-27.8875,-79.13185,-9.32768,-78.51862,-97.390465,40.50483,-53.940853,-18.905289,-44.61561,100.13353,73.14045,89.48157,96.05259,41.28637,45.76858,29.272207,10.344136,70.22966,50.07313,-100.41987,88.566124,72.490486,73.118484,-97.384834,37.85416,-18.076931,78.592804,68.19841,61.04692,65.18362,33.00514,47.92098,55.77191,41.188816,32.726906],\"type\":\"scatter3d\"}],                        {\"template\":{\"data\":{\"histogram2dcontour\":[{\"type\":\"histogram2dcontour\",\"colorbar\":{\"outlinewidth\":0,\"ticks\":\"\"},\"colorscale\":[[0.0,\"#0d0887\"],[0.1111111111111111,\"#46039f\"],[0.2222222222222222,\"#7201a8\"],[0.3333333333333333,\"#9c179e\"],[0.4444444444444444,\"#bd3786\"],[0.5555555555555556,\"#d8576b\"],[0.6666666666666666,\"#ed7953\"],[0.7777777777777778,\"#fb9f3a\"],[0.8888888888888888,\"#fdca26\"],[1.0,\"#f0f921\"]]}],\"choropleth\":[{\"type\":\"choropleth\",\"colorbar\":{\"outlinewidth\":0,\"ticks\":\"\"}}],\"histogram2d\":[{\"type\":\"histogram2d\",\"colorbar\":{\"outlinewidth\":0,\"ticks\":\"\"},\"colorscale\":[[0.0,\"#0d0887\"],[0.1111111111111111,\"#46039f\"],[0.2222222222222222,\"#7201a8\"],[0.3333333333333333,\"#9c179e\"],[0.4444444444444444,\"#bd3786\"],[0.5555555555555556,\"#d8576b\"],[0.6666666666666666,\"#ed7953\"],[0.7777777777777778,\"#fb9f3a\"],[0.8888888888888888,\"#fdca26\"],[1.0,\"#f0f921\"]]}],\"heatmap\":[{\"type\":\"heatmap\",\"colorbar\":{\"outlinewidth\":0,\"ticks\":\"\"},\"colorscale\":[[0.0,\"#0d0887\"],[0.1111111111111111,\"#46039f\"],[0.2222222222222222,\"#7201a8\"],[0.3333333333333333,\"#9c179e\"],[0.4444444444444444,\"#bd3786\"],[0.5555555555555556,\"#d8576b\"],[0.6666666666666666,\"#ed7953\"],[0.7777777777777778,\"#fb9f3a\"],[0.8888888888888888,\"#fdca26\"],[1.0,\"#f0f921\"]]}],\"heatmapgl\":[{\"type\":\"heatmapgl\",\"colorbar\":{\"outlinewidth\":0,\"ticks\":\"\"},\"colorscale\":[[0.0,\"#0d0887\"],[0.1111111111111111,\"#46039f\"],[0.2222222222222222,\"#7201a8\"],[0.3333333333333333,\"#9c179e\"],[0.4444444444444444,\"#bd3786\"],[0.5555555555555556,\"#d8576b\"],[0.6666666666666666,\"#ed7953\"],[0.7777777777777778,\"#fb9f3a\"],[0.8888888888888888,\"#fdca26\"],[1.0,\"#f0f921\"]]}],\"contourcarpet\":[{\"type\":\"contourcarpet\",\"colorbar\":{\"outlinewidth\":0,\"ticks\":\"\"}}],\"contour\":[{\"type\":\"contour\",\"colorbar\":{\"outlinewidth\":0,\"ticks\":\"\"},\"colorscale\":[[0.0,\"#0d0887\"],[0.1111111111111111,\"#46039f\"],[0.2222222222222222,\"#7201a8\"],[0.3333333333333333,\"#9c179e\"],[0.4444444444444444,\"#bd3786\"],[0.5555555555555556,\"#d8576b\"],[0.6666666666666666,\"#ed7953\"],[0.7777777777777778,\"#fb9f3a\"],[0.8888888888888888,\"#fdca26\"],[1.0,\"#f0f921\"]]}],\"surface\":[{\"type\":\"surface\",\"colorbar\":{\"outlinewidth\":0,\"ticks\":\"\"},\"colorscale\":[[0.0,\"#0d0887\"],[0.1111111111111111,\"#46039f\"],[0.2222222222222222,\"#7201a8\"],[0.3333333333333333,\"#9c179e\"],[0.4444444444444444,\"#bd3786\"],[0.5555555555555556,\"#d8576b\"],[0.6666666666666666,\"#ed7953\"],[0.7777777777777778,\"#fb9f3a\"],[0.8888888888888888,\"#fdca26\"],[1.0,\"#f0f921\"]]}],\"mesh3d\":[{\"type\":\"mesh3d\",\"colorbar\":{\"outlinewidth\":0,\"ticks\":\"\"}}],\"scatter\":[{\"fillpattern\":{\"fillmode\":\"overlay\",\"size\":10,\"solidity\":0.2},\"type\":\"scatter\"}],\"parcoords\":[{\"type\":\"parcoords\",\"line\":{\"colorbar\":{\"outlinewidth\":0,\"ticks\":\"\"}}}],\"scatterpolargl\":[{\"type\":\"scatterpolargl\",\"marker\":{\"colorbar\":{\"outlinewidth\":0,\"ticks\":\"\"}}}],\"bar\":[{\"error_x\":{\"color\":\"#2a3f5f\"},\"error_y\":{\"color\":\"#2a3f5f\"},\"marker\":{\"line\":{\"color\":\"#E5ECF6\",\"width\":0.5},\"pattern\":{\"fillmode\":\"overlay\",\"size\":10,\"solidity\":0.2}},\"type\":\"bar\"}],\"scattergeo\":[{\"type\":\"scattergeo\",\"marker\":{\"colorbar\":{\"outlinewidth\":0,\"ticks\":\"\"}}}],\"scatterpolar\":[{\"type\":\"scatterpolar\",\"marker\":{\"colorbar\":{\"outlinewidth\":0,\"ticks\":\"\"}}}],\"histogram\":[{\"marker\":{\"pattern\":{\"fillmode\":\"overlay\",\"size\":10,\"solidity\":0.2}},\"type\":\"histogram\"}],\"scattergl\":[{\"type\":\"scattergl\",\"marker\":{\"colorbar\":{\"outlinewidth\":0,\"ticks\":\"\"}}}],\"scatter3d\":[{\"type\":\"scatter3d\",\"line\":{\"colorbar\":{\"outlinewidth\":0,\"ticks\":\"\"}},\"marker\":{\"colorbar\":{\"outlinewidth\":0,\"ticks\":\"\"}}}],\"scattermapbox\":[{\"type\":\"scattermapbox\",\"marker\":{\"colorbar\":{\"outlinewidth\":0,\"ticks\":\"\"}}}],\"scatterternary\":[{\"type\":\"scatterternary\",\"marker\":{\"colorbar\":{\"outlinewidth\":0,\"ticks\":\"\"}}}],\"scattercarpet\":[{\"type\":\"scattercarpet\",\"marker\":{\"colorbar\":{\"outlinewidth\":0,\"ticks\":\"\"}}}],\"carpet\":[{\"aaxis\":{\"endlinecolor\":\"#2a3f5f\",\"gridcolor\":\"white\",\"linecolor\":\"white\",\"minorgridcolor\":\"white\",\"startlinecolor\":\"#2a3f5f\"},\"baxis\":{\"endlinecolor\":\"#2a3f5f\",\"gridcolor\":\"white\",\"linecolor\":\"white\",\"minorgridcolor\":\"white\",\"startlinecolor\":\"#2a3f5f\"},\"type\":\"carpet\"}],\"table\":[{\"cells\":{\"fill\":{\"color\":\"#EBF0F8\"},\"line\":{\"color\":\"white\"}},\"header\":{\"fill\":{\"color\":\"#C8D4E3\"},\"line\":{\"color\":\"white\"}},\"type\":\"table\"}],\"barpolar\":[{\"marker\":{\"line\":{\"color\":\"#E5ECF6\",\"width\":0.5},\"pattern\":{\"fillmode\":\"overlay\",\"size\":10,\"solidity\":0.2}},\"type\":\"barpolar\"}],\"pie\":[{\"automargin\":true,\"type\":\"pie\"}]},\"layout\":{\"autotypenumbers\":\"strict\",\"colorway\":[\"#636efa\",\"#EF553B\",\"#00cc96\",\"#ab63fa\",\"#FFA15A\",\"#19d3f3\",\"#FF6692\",\"#B6E880\",\"#FF97FF\",\"#FECB52\"],\"font\":{\"color\":\"#2a3f5f\"},\"hovermode\":\"closest\",\"hoverlabel\":{\"align\":\"left\"},\"paper_bgcolor\":\"white\",\"plot_bgcolor\":\"#E5ECF6\",\"polar\":{\"bgcolor\":\"#E5ECF6\",\"angularaxis\":{\"gridcolor\":\"white\",\"linecolor\":\"white\",\"ticks\":\"\"},\"radialaxis\":{\"gridcolor\":\"white\",\"linecolor\":\"white\",\"ticks\":\"\"}},\"ternary\":{\"bgcolor\":\"#E5ECF6\",\"aaxis\":{\"gridcolor\":\"white\",\"linecolor\":\"white\",\"ticks\":\"\"},\"baxis\":{\"gridcolor\":\"white\",\"linecolor\":\"white\",\"ticks\":\"\"},\"caxis\":{\"gridcolor\":\"white\",\"linecolor\":\"white\",\"ticks\":\"\"}},\"coloraxis\":{\"colorbar\":{\"outlinewidth\":0,\"ticks\":\"\"}},\"colorscale\":{\"sequential\":[[0.0,\"#0d0887\"],[0.1111111111111111,\"#46039f\"],[0.2222222222222222,\"#7201a8\"],[0.3333333333333333,\"#9c179e\"],[0.4444444444444444,\"#bd3786\"],[0.5555555555555556,\"#d8576b\"],[0.6666666666666666,\"#ed7953\"],[0.7777777777777778,\"#fb9f3a\"],[0.8888888888888888,\"#fdca26\"],[1.0,\"#f0f921\"]],\"sequentialminus\":[[0.0,\"#0d0887\"],[0.1111111111111111,\"#46039f\"],[0.2222222222222222,\"#7201a8\"],[0.3333333333333333,\"#9c179e\"],[0.4444444444444444,\"#bd3786\"],[0.5555555555555556,\"#d8576b\"],[0.6666666666666666,\"#ed7953\"],[0.7777777777777778,\"#fb9f3a\"],[0.8888888888888888,\"#fdca26\"],[1.0,\"#f0f921\"]],\"diverging\":[[0,\"#8e0152\"],[0.1,\"#c51b7d\"],[0.2,\"#de77ae\"],[0.3,\"#f1b6da\"],[0.4,\"#fde0ef\"],[0.5,\"#f7f7f7\"],[0.6,\"#e6f5d0\"],[0.7,\"#b8e186\"],[0.8,\"#7fbc41\"],[0.9,\"#4d9221\"],[1,\"#276419\"]]},\"xaxis\":{\"gridcolor\":\"white\",\"linecolor\":\"white\",\"ticks\":\"\",\"title\":{\"standoff\":15},\"zerolinecolor\":\"white\",\"automargin\":true,\"zerolinewidth\":2},\"yaxis\":{\"gridcolor\":\"white\",\"linecolor\":\"white\",\"ticks\":\"\",\"title\":{\"standoff\":15},\"zerolinecolor\":\"white\",\"automargin\":true,\"zerolinewidth\":2},\"scene\":{\"xaxis\":{\"backgroundcolor\":\"#E5ECF6\",\"gridcolor\":\"white\",\"linecolor\":\"white\",\"showbackground\":true,\"ticks\":\"\",\"zerolinecolor\":\"white\",\"gridwidth\":2},\"yaxis\":{\"backgroundcolor\":\"#E5ECF6\",\"gridcolor\":\"white\",\"linecolor\":\"white\",\"showbackground\":true,\"ticks\":\"\",\"zerolinecolor\":\"white\",\"gridwidth\":2},\"zaxis\":{\"backgroundcolor\":\"#E5ECF6\",\"gridcolor\":\"white\",\"linecolor\":\"white\",\"showbackground\":true,\"ticks\":\"\",\"zerolinecolor\":\"white\",\"gridwidth\":2}},\"shapedefaults\":{\"line\":{\"color\":\"#2a3f5f\"}},\"annotationdefaults\":{\"arrowcolor\":\"#2a3f5f\",\"arrowhead\":0,\"arrowwidth\":1},\"geo\":{\"bgcolor\":\"white\",\"landcolor\":\"#E5ECF6\",\"subunitcolor\":\"white\",\"showland\":true,\"showlakes\":true,\"lakecolor\":\"white\"},\"title\":{\"x\":0.05},\"mapbox\":{\"style\":\"light\"}}},\"margin\":{\"r\":20,\"b\":10,\"l\":10,\"t\":40},\"title\":{\"text\":\"3D Chroma Vector Store Visualization\"},\"scene\":{\"xaxis\":{\"title\":{\"text\":\"x\"}},\"yaxis\":{\"title\":{\"text\":\"y\"}},\"zaxis\":{\"title\":{\"text\":\"z\"}}},\"width\":900,\"height\":700},                        {\"responsive\": true}                    ).then(function(){\n",
              "                            \n",
              "var gd = document.getElementById('ca792fa2-1da8-4828-ab53-5b3b61f589a3');\n",
              "var x = new MutationObserver(function (mutations, observer) {{\n",
              "        var display = window.getComputedStyle(gd).display;\n",
              "        if (!display || display === 'none') {{\n",
              "            console.log([gd, 'removed!']);\n",
              "            Plotly.purge(gd);\n",
              "            observer.disconnect();\n",
              "        }}\n",
              "}});\n",
              "\n",
              "// Listen for the removal of the full notebook cells\n",
              "var notebookContainer = gd.closest('#notebook-container');\n",
              "if (notebookContainer) {{\n",
              "    x.observe(notebookContainer, {childList: true});\n",
              "}}\n",
              "\n",
              "// Listen for the clearing of the current output cell\n",
              "var outputEl = gd.closest('.output');\n",
              "if (outputEl) {{\n",
              "    x.observe(outputEl, {childList: true});\n",
              "}}\n",
              "\n",
              "                        })                };                            </script>        </div>\n",
              "</body>\n",
              "</html>"
            ]
          },
          "metadata": {}
        }
      ]
    }
  ],
  "metadata": {
    "kernelspec": {
      "display_name": "Python 3 (ipykernel)",
      "language": "python",
      "name": "python3"
    },
    "language_info": {
      "codemirror_mode": {
        "name": "ipython",
        "version": 3
      },
      "file_extension": ".py",
      "mimetype": "text/x-python",
      "name": "python",
      "nbconvert_exporter": "python",
      "pygments_lexer": "ipython3",
      "version": "3.11.12"
    },
    "colab": {
      "provenance": [],
      "include_colab_link": true
    }
  },
  "nbformat": 4,
  "nbformat_minor": 5
}
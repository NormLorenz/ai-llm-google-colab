{
  "cells": [
    {
      "cell_type": "markdown",
      "metadata": {
        "id": "view-in-github",
        "colab_type": "text"
      },
      "source": [
        "<a href=\"https://colab.research.google.com/github/NormLorenz/ai-llm-google-colab/blob/main/jupyter-notebooks/text-to-vectors.ipynb\" target=\"_parent\"><img src=\"https://colab.research.google.com/assets/colab-badge.svg\" alt=\"Open In Colab\"/></a>"
      ]
    },
    {
      "cell_type": "markdown",
      "id": "dfe37963-1af6-44fc-a841-8e462443f5e6",
      "metadata": {
        "id": "dfe37963-1af6-44fc-a841-8e462443f5e6"
      },
      "source": [
        "## Expert Knowledge Worker\n",
        "\n",
        "### A question answering agent that is an expert knowledge worker\n",
        "### To be used by employees of Insurellm, an Insurance Tech company\n",
        "### The agent needs to be accurate and the solution should be low cost.\n",
        "\n",
        "This project will use RAG (Retrieval Augmented Generation) to ensure our question/answering assistant has high accuracy."
      ]
    },
    {
      "cell_type": "code",
      "execution_count": null,
      "id": "ba2779af-84ef-4227-9e9e-6eaf0df87e77",
      "metadata": {
        "id": "ba2779af-84ef-4227-9e9e-6eaf0df87e77"
      },
      "outputs": [],
      "source": [
        "# imports\n",
        "\n",
        "import os\n",
        "import glob\n",
        "# from dotenv import load_dotenv\n",
        "import gradio as gr\n",
        "from google.colab import userdata\n",
        "from openai import OpenAI"
      ]
    },
    {
      "cell_type": "code",
      "source": [
        "!pip install langchain-core langchain-text-splitters langchain-openai langchain-chroma langchain-community"
      ],
      "metadata": {
        "id": "wZWhE9vXVO_h"
      },
      "id": "wZWhE9vXVO_h",
      "execution_count": null,
      "outputs": []
    },
    {
      "cell_type": "code",
      "execution_count": null,
      "id": "802137aa-8a74-45e0-a487-d1974927d7ca",
      "metadata": {
        "id": "802137aa-8a74-45e0-a487-d1974927d7ca"
      },
      "outputs": [],
      "source": [
        "# imports for langchain\n",
        "\n",
        "from langchain.document_loaders import DirectoryLoader, TextLoader\n",
        "from langchain.text_splitter import CharacterTextSplitter"
      ]
    },
    {
      "cell_type": "code",
      "execution_count": null,
      "id": "58c85082-e417-4708-9efe-81a5d55d1424",
      "metadata": {
        "id": "58c85082-e417-4708-9efe-81a5d55d1424"
      },
      "outputs": [],
      "source": [
        "# price is a factor for our company, so we're going to use a low cost model\n",
        "\n",
        "MODEL = \"gpt-4o-mini\"\n",
        "db_name = \"vector_db\""
      ]
    },
    {
      "cell_type": "code",
      "execution_count": null,
      "id": "ee78efcb-60fe-449e-a944-40bab26261af",
      "metadata": {
        "id": "ee78efcb-60fe-449e-a944-40bab26261af"
      },
      "outputs": [],
      "source": [
        "# keys\n",
        "\n",
        "openai_api_key = userdata.get(\"OPENAI_API_KEY\")\n",
        "# claude_api_key = userdata.get(\"ANTHROPIC_API_KEY\")\n",
        "# google_api_key = userdata.get(\"GOOGLE_API_KEY\")\n",
        "# hugging_face_token = userdata.get(\"HF_TOKEN\")\n",
        "\n",
        "# load_dotenv(override=True)\n",
        "# os.environ['OPENAI_API_KEY'] = os.getenv('OPENAI_API_KEY', 'your-key-if-not-using-env')"
      ]
    },
    {
      "cell_type": "code",
      "source": [
        "# initialize\n",
        "\n",
        "openai = OpenAI(api_key=openai_api_key)"
      ],
      "metadata": {
        "id": "tSIx2jvRW_eV"
      },
      "id": "tSIx2jvRW_eV",
      "execution_count": null,
      "outputs": []
    },
    {
      "cell_type": "code",
      "execution_count": null,
      "id": "730711a9-6ffe-4eee-8f48-d6cfb7314905",
      "metadata": {
        "id": "730711a9-6ffe-4eee-8f48-d6cfb7314905"
      },
      "outputs": [],
      "source": [
        "# Read in documents using LangChain's loaders\n",
        "# Take everything in all the sub-folders of our knowledgebase\n",
        "# Thank you Mark D. and Zoya H. for fixing a bug here..\n",
        "\n",
        "folders = glob.glob(\"/content/knowledge-base/*\")\n",
        "\n",
        "# With thanks to CG and Jon R, students on the course, for this fix needed for some users\n",
        "text_loader_kwargs = {'encoding': 'utf-8'}\n",
        "# If that doesn't work, some Windows users might need to uncomment the next line instead\n",
        "# text_loader_kwargs={'autodetect_encoding': True}\n",
        "\n",
        "documents = []\n",
        "for folder in folders:\n",
        "    doc_type = os.path.basename(folder)\n",
        "    loader = DirectoryLoader(folder, glob=\"**/*.md\", loader_cls=TextLoader, loader_kwargs=text_loader_kwargs)\n",
        "    folder_docs = loader.load()\n",
        "    for doc in folder_docs:\n",
        "        doc.metadata[\"doc_type\"] = doc_type\n",
        "        documents.append(doc)"
      ]
    },
    {
      "cell_type": "code",
      "execution_count": null,
      "id": "252f17e9-3529-4e81-996c-cfa9f08e75a8",
      "metadata": {
        "colab": {
          "base_uri": "https://localhost:8080/"
        },
        "id": "252f17e9-3529-4e81-996c-cfa9f08e75a8",
        "outputId": "96a60a8e-aec6-4a29-c6f4-64075348acdf"
      },
      "outputs": [
        {
          "output_type": "execute_result",
          "data": {
            "text/plain": [
              "31"
            ]
          },
          "metadata": {},
          "execution_count": 26
        }
      ],
      "source": [
        "len(documents)"
      ]
    },
    {
      "cell_type": "code",
      "execution_count": null,
      "id": "7e8decb0-d9b0-4d51-8402-7a6174d22159",
      "metadata": {
        "id": "7e8decb0-d9b0-4d51-8402-7a6174d22159",
        "outputId": "48219f2a-dad8-41f2-c712-1635d2365ff4",
        "colab": {
          "base_uri": "https://localhost:8080/"
        }
      },
      "outputs": [
        {
          "output_type": "execute_result",
          "data": {
            "text/plain": [
              "Document(metadata={'source': '/content/knowledge-base/employees/Alex Chen.md', 'doc_type': 'employees'}, page_content='# HR Record\\n\\n# Alex Chen\\n\\n## Summary\\n- **Date of Birth:** March 15, 1990  \\n- **Job Title:** Backend Software Engineer  \\n- **Location:** San Francisco, California  \\n\\n## Insurellm Career Progression\\n- **April 2020:** Joined Insurellm as a Junior Backend Developer. Focused on building APIs to enhance customer data security.\\n- **October 2021:** Promoted to Backend Software Engineer. Took on leadership for a key project developing a microservices architecture to support the company\\'s growing platform.\\n- **March 2023:** Awarded the title of Senior Backend Software Engineer due to exemplary performance in scaling backend services, reducing downtime by 30% over six months.\\n\\n## Annual Performance History\\n- **2020:**  \\n  - Completed onboarding successfully.  \\n  - Met expectations in delivering project milestones.  \\n  - Received positive feedback from the team leads.\\n\\n- **2021:**  \\n  - Achieved a 95% success rate in project delivery timelines.  \\n  - Awarded \"Rising Star\" at the annual company gala for outstanding contributions.  \\n\\n- **2022:**  \\n  - Exceeded goals by optimizing existing backend code, improving system performance by 25%.  \\n  - Conducted training sessions for junior developers, fostering knowledge sharing.  \\n\\n- **2023:**  \\n  - Led a major overhaul of the API internal architecture, enhancing security protocols.  \\n  - Contributed to the company’s transition to a cloud-based infrastructure.  \\n  - Received an overall performance rating of 4.8/5.\\n\\n## Compensation History\\n- **2020:** Base Salary: $80,000  \\n- **2021:** Base Salary Increase to $90,000; Received a performance bonus of $5,000.  \\n- **2022:** Base Salary Increase to $100,000; Performance bonus of $7,500 due to exceptional project outcomes.  \\n- **2023:** Base Salary Increase to $115,000; Performance bonus of $10,000 for leading pivotal projects.\\n\\n## Other HR Notes\\n- Participates regularly in Insurellm\\'s Diversity & Inclusion initiatives, championing tech accessibility for underrepresented communities.\\n- Completed several certifications in cloud architecture and DevOps, contributing to professional growth.\\n- Plans for a professional development course in AI and machine learning to further enhance backend capabilities in Insurellm\\'s offerings.\\n- Acknowledged for volunteer efforts in local tech meetups, bringing seasoned engineers to mentor aspiring coders.  \\n\\nAlex Chen continues to be a vital asset at Insurellm, contributing significantly to innovative backend solutions that help shape the future of insurance technology.')"
            ]
          },
          "metadata": {},
          "execution_count": 27
        }
      ],
      "source": [
        "documents[24]"
      ]
    },
    {
      "cell_type": "code",
      "execution_count": null,
      "id": "7310c9c8-03c1-4efc-a104-5e89aec6db1a",
      "metadata": {
        "id": "7310c9c8-03c1-4efc-a104-5e89aec6db1a",
        "outputId": "e4205378-e30d-4d65-b721-0e11684d4c64",
        "colab": {
          "base_uri": "https://localhost:8080/"
        }
      },
      "outputs": [
        {
          "output_type": "stream",
          "name": "stderr",
          "text": [
            "WARNING:langchain_text_splitters.base:Created a chunk of size 1088, which is longer than the specified 1000\n"
          ]
        }
      ],
      "source": [
        "text_splitter = CharacterTextSplitter(chunk_size=1000, chunk_overlap=200)\n",
        "chunks = text_splitter.split_documents(documents)"
      ]
    },
    {
      "cell_type": "code",
      "execution_count": null,
      "id": "cd06e02f-6d9b-44cc-a43d-e1faa8acc7bb",
      "metadata": {
        "id": "cd06e02f-6d9b-44cc-a43d-e1faa8acc7bb",
        "outputId": "d194164d-f380-4d2c-e570-c3da92eddcbd",
        "colab": {
          "base_uri": "https://localhost:8080/"
        }
      },
      "outputs": [
        {
          "output_type": "execute_result",
          "data": {
            "text/plain": [
              "123"
            ]
          },
          "metadata": {},
          "execution_count": 31
        }
      ],
      "source": [
        "len(chunks)"
      ]
    },
    {
      "cell_type": "code",
      "execution_count": null,
      "id": "d2562754-9052-4aae-92c1-37236435ea06",
      "metadata": {
        "id": "d2562754-9052-4aae-92c1-37236435ea06",
        "outputId": "4aad781f-46f3-420c-c8bd-bb8437d84f81",
        "colab": {
          "base_uri": "https://localhost:8080/"
        }
      },
      "outputs": [
        {
          "output_type": "execute_result",
          "data": {
            "text/plain": [
              "Document(metadata={'source': '/content/knowledge-base/contracts/Contract with GreenValley Insurance for Homellm.md', 'doc_type': 'contracts'}, page_content=\"4. **Confidentiality:** Both parties agree to maintain the confidentiality of proprietary information disclosed during the execution of this contract.\\n\\n5. **Liability:** Insurellm's liability under this agreement shall be limited to direct damages and shall not exceed the total fees paid by GreenValley Insurance in the last 12 months prior to the date of the claim.\\n\\n---\\n\\n## Renewal\\n\\nUnless either party provides a written notice of termination at least 30 days prior to the expiration of the contract term, this agreement will automatically renew for an additional one-year term under the same terms and conditions.\\n\\n---\\n\\n## Features\\n\\nGreenValley Insurance will receive the following features with Homellm:\\n\\n1. **AI-Powered Risk Assessment:** Access to advanced AI algorithms for real-time risk evaluations.\\n   \\n2. **Dynamic Pricing Model:** Flexible premium adjustments based on ongoing risk analysis.\")"
            ]
          },
          "metadata": {},
          "execution_count": 35
        }
      ],
      "source": [
        "chunks[6]"
      ]
    },
    {
      "cell_type": "code",
      "execution_count": null,
      "id": "2c54b4b6-06da-463d-bee7-4dd456c2b887",
      "metadata": {
        "id": "2c54b4b6-06da-463d-bee7-4dd456c2b887",
        "outputId": "57f43575-4b8e-4560-f369-4c6a3cb00810",
        "colab": {
          "base_uri": "https://localhost:8080/"
        }
      },
      "outputs": [
        {
          "output_type": "stream",
          "name": "stdout",
          "text": [
            "Document types found: company, employees, products, contracts\n"
          ]
        }
      ],
      "source": [
        "doc_types = set(chunk.metadata['doc_type'] for chunk in chunks)\n",
        "print(f\"Document types found: {', '.join(doc_types)}\")"
      ]
    },
    {
      "cell_type": "code",
      "execution_count": null,
      "id": "128c73f7-f149-4904-a554-8140941fce0c",
      "metadata": {
        "id": "128c73f7-f149-4904-a554-8140941fce0c",
        "outputId": "bd482d2b-13c3-45f3-b552-0d6962d56363",
        "colab": {
          "base_uri": "https://localhost:8080/"
        }
      },
      "outputs": [
        {
          "output_type": "stream",
          "name": "stdout",
          "text": [
            "page_content='# About Insurellm\n",
            "\n",
            "Insurellm was founded by Avery Lancaster in 2015 as an insurance tech startup designed to disrupt an industry in need of innovative products. It's first product was Markellm, the marketplace connecting consumers with insurance providers.\n",
            "It rapidly expanded, adding new products and clients, reaching 200 emmployees by 2024 with 12 offices across the US.' metadata={'source': '/content/knowledge-base/company/about.md', 'doc_type': 'company'}\n",
            "_________\n",
            "page_content='# Avery Lancaster\n",
            "\n",
            "## Summary\n",
            "- **Date of Birth**: March 15, 1985  \n",
            "- **Job Title**: Co-Founder & Chief Executive Officer (CEO)  \n",
            "- **Location**: San Francisco, California  \n",
            "\n",
            "## Insurellm Career Progression\n",
            "- **2015 - Present**: Co-Founder & CEO  \n",
            "  Avery Lancaster co-founded Insurellm in 2015 and has since guided the company to its current position as a leading Insurance Tech provider. Avery is known for her innovative leadership strategies and risk management expertise that have catapulted the company into the mainstream insurance market.  \n",
            "\n",
            "- **2013 - 2015**: Senior Product Manager at Innovate Insurance Solutions  \n",
            "  Before launching Insurellm, Avery was a leading Senior Product Manager at Innovate Insurance Solutions, where she developed groundbreaking insurance products aimed at the tech sector.' metadata={'source': '/content/knowledge-base/employees/Avery Lancaster.md', 'doc_type': 'employees'}\n",
            "_________\n",
            "page_content='## Other HR Notes\n",
            "- **Professional Development**: Avery has actively participated in leadership training programs and industry conferences, representing Insurellm and fostering partnerships.  \n",
            "- **Diversity & Inclusion Initiatives**: Avery has championed a commitment to diversity in hiring practices, seeing visible improvements in team representation since 2021.  \n",
            "- **Work-Life Balance**: Feedback revealed concerns regarding work-life balance, which Avery has approached by implementing flexible working conditions and ensuring regular check-ins with the team.\n",
            "- **Community Engagement**: Avery led community outreach efforts, focusing on financial literacy programs, particularly aimed at underserved populations, improving Insurellm's corporate social responsibility image.  \n",
            "\n",
            "Avery Lancaster has demonstrated resilience and adaptability throughout her career at Insurellm, positioning the company as a key player in the insurance technology landscape.' metadata={'source': '/content/knowledge-base/employees/Avery Lancaster.md', 'doc_type': 'employees'}\n",
            "_________\n"
          ]
        }
      ],
      "source": [
        "for chunk in chunks:\n",
        "    if 'Lancaster' in chunk.page_content:\n",
        "        print(chunk)\n",
        "        print(\"_________\")"
      ]
    }
  ],
  "metadata": {
    "kernelspec": {
      "display_name": "Python 3 (ipykernel)",
      "language": "python",
      "name": "python3"
    },
    "language_info": {
      "codemirror_mode": {
        "name": "ipython",
        "version": 3
      },
      "file_extension": ".py",
      "mimetype": "text/x-python",
      "name": "python",
      "nbconvert_exporter": "python",
      "pygments_lexer": "ipython3",
      "version": "3.11.12"
    },
    "colab": {
      "provenance": [],
      "include_colab_link": true
    }
  },
  "nbformat": 4,
  "nbformat_minor": 5
}
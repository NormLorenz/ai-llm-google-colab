{
  "cells": [
    {
      "cell_type": "markdown",
      "metadata": {
        "id": "view-in-github",
        "colab_type": "text"
      },
      "source": [
        "<a href=\"https://colab.research.google.com/github/NormLorenz/ai-llm-google-colab/blob/main/jupyter-notebooks/fine-tuning.ipynb\" target=\"_parent\"><img src=\"https://colab.research.google.com/assets/colab-badge.svg\" alt=\"Open In Colab\"/></a>"
      ]
    },
    {
      "cell_type": "markdown",
      "id": "28a0673e-96b5-43f2-8a8b-bd033bf851b0",
      "metadata": {
        "id": "28a0673e-96b5-43f2-8a8b-bd033bf851b0"
      },
      "source": [
        "# The Big Project begins!!\n",
        "\n",
        "## The Product Pricer\n",
        "\n",
        "A model that can estimate how much something costs, from its description.\n",
        "\n",
        "## Data Curation Part 1\n",
        "\n",
        "Today we'll begin our scrubbing and curating our dataset by focusing on a subset of the data: Home Appliances.\n",
        "\n",
        "The dataset is here:  \n",
        "https://huggingface.co/datasets/McAuley-Lab/Amazon-Reviews-2023\n",
        "\n",
        "And the folder with all the product datasets is here:  \n",
        "https://huggingface.co/datasets/McAuley-Lab/Amazon-Reviews-2023/tree/main/raw/meta_categories"
      ]
    },
    {
      "cell_type": "code",
      "execution_count": null,
      "id": "67cedf85-8125-4322-998e-9375fe745597",
      "metadata": {
        "id": "67cedf85-8125-4322-998e-9375fe745597"
      },
      "outputs": [],
      "source": [
        "# imports\n",
        "\n",
        "import os\n",
        "from huggingface_hub import login\n",
        "from datasets import load_dataset, Dataset, DatasetDict\n",
        "import matplotlib.pyplot as plt\n",
        "from google.colab import userdata"
      ]
    },
    {
      "cell_type": "code",
      "source": [
        "!pip install items"
      ],
      "metadata": {
        "id": "nidbFZuP3E-e"
      },
      "id": "nidbFZuP3E-e",
      "execution_count": null,
      "outputs": []
    },
    {
      "cell_type": "code",
      "source": [
        "# keys\n",
        "\n",
        "openai_api_key = userdata.get(\"OPENAI_API_KEY\")\n",
        "claude_api_key = userdata.get(\"ANTHROPIC_API_KEY\")\n",
        "hugging_face_token = userdata.get(\"HF_TOKEN\")"
      ],
      "metadata": {
        "id": "Sg3nVOnr3dPY"
      },
      "id": "Sg3nVOnr3dPY",
      "execution_count": null,
      "outputs": []
    },
    {
      "cell_type": "code",
      "source": [
        "# initialize\n",
        "\n",
        "os.environ['OPENAI_API_KEY'] = openai_api_key\n",
        "os.environ['ANTHROPIC_API_KEY'] = claude_api_key\n",
        "os.environ['HF_TOKEN'] = hugging_face_token\n",
        "\n",
        "login(hugging_face_token, add_to_git_credential=True)"
      ],
      "metadata": {
        "id": "i7rAPTa43ha_"
      },
      "id": "i7rAPTa43ha_",
      "execution_count": null,
      "outputs": []
    },
    {
      "cell_type": "markdown",
      "id": "e7cb2e20-7fac-44c1-8a4b-131dd37ee06e",
      "metadata": {
        "id": "e7cb2e20-7fac-44c1-8a4b-131dd37ee06e"
      },
      "source": [
        "## One more import - the Item class\n",
        "\n",
        "If you get an error that you need to agree to Meta's terms when you run this, then follow the link it provides you and follow their instructions. You should get approved by Meta within minutes.\n",
        "\n",
        "See the last cell in [this colab](https://colab.research.google.com/drive/1deJO03YZTXUwcq2vzxWbiBhrRuI29Vo8?usp=sharing#scrollTo=FqyF5jZQkIl_) for steps to take if Meta doesn't approve.\n",
        "\n",
        "Any problems - message me or email me!  \n",
        "\n",
        "With thanks to student Dr John S. for pointing out that this import needs to come after signing in to HF"
      ]
    },
    {
      "cell_type": "code",
      "execution_count": null,
      "id": "b5521526-0da9-42d7-99e3-f950fab71662",
      "metadata": {
        "id": "b5521526-0da9-42d7-99e3-f950fab71662"
      },
      "outputs": [],
      "source": [
        "from items import Item"
      ]
    },
    {
      "cell_type": "code",
      "execution_count": null,
      "id": "1adcf323-de9d-4c24-a9c3-d7ae554d06ca",
      "metadata": {
        "id": "1adcf323-de9d-4c24-a9c3-d7ae554d06ca"
      },
      "outputs": [],
      "source": [
        "%matplotlib inline"
      ]
    },
    {
      "cell_type": "markdown",
      "id": "cd6d801e-d195-45fe-898e-495dbcb19d7d",
      "metadata": {
        "id": "cd6d801e-d195-45fe-898e-495dbcb19d7d"
      },
      "source": [
        "## Load our dataset\n",
        "\n",
        "In the next cell, we load in the dataset from huggingface.\n",
        "\n",
        "If this gives you an error like \"trust_remote_code is no longer supported\", then please run this command in a new cell: `!pip install datasets==3.6.0` and then restart the Kernel, and try again."
      ]
    },
    {
      "cell_type": "code",
      "execution_count": null,
      "id": "049885d4-fdfa-4ff0-a932-4a2ed73928e2",
      "metadata": {
        "id": "049885d4-fdfa-4ff0-a932-4a2ed73928e2",
        "outputId": "480f25ba-9299-4ad9-81a0-608330c980ea",
        "colab": {
          "base_uri": "https://localhost:8080/",
          "height": 472,
          "referenced_widgets": [
            "567fde369be64e948dfa115068a29e14",
            "89476368cadf454ea92e976bafe7057e",
            "fac080e5603a4eb9a58d72a981247ea1",
            "c8c791b95b634c39a6a93cb2aced8c12",
            "12635f2494d14d0f875092d6cb3335b5",
            "16c42200cd554073a78446d9752e60cf",
            "1b7de5cc3d5944b8bccff5d407fa57cb",
            "553351493eb94d8194c76e37c1f014dc",
            "1c78638c87cc4678b11c2b4086a2ff98",
            "ee6e204af29a491ea7e8d21da8fd2592",
            "22b25007526940adacc6a2a1961d6b1f",
            "969518b12fdd4397aaf39ec7ebec31fc",
            "aa601af8ef1b4a5dab6ff5c2d6ff49bf",
            "8d4b76e127194759ab56f62e297dae3c",
            "f8eb8d83f5f7461081dc304e86a4a39b",
            "2ec9431eb52f4c56983b694d815758ad",
            "b8b56eca33ab485492a19f9736d61a5c",
            "439a70c6d64e4fc28a340a7749ba957f",
            "10eb39c0e0764b0f8160fc393fc81d27",
            "78a9ff2a8686464cb66c7fbae12b3354",
            "f9fcafb5b7744bf097cdd4ae632ff935",
            "517f42b9e3064fea89398c291fce67dc"
          ]
        }
      },
      "outputs": [
        {
          "output_type": "stream",
          "name": "stderr",
          "text": [
            "`trust_remote_code` is not supported anymore.\n",
            "Please check that the Hugging Face dataset 'McAuley-Lab/Amazon-Reviews-2023' isn't based on a loading script and remove `trust_remote_code`.\n",
            "If the dataset is based on a loading script, please ask the dataset author to remove it and convert it to a standard format like Parquet.\n",
            "ERROR:datasets.load:`trust_remote_code` is not supported anymore.\n",
            "Please check that the Hugging Face dataset 'McAuley-Lab/Amazon-Reviews-2023' isn't based on a loading script and remove `trust_remote_code`.\n",
            "If the dataset is based on a loading script, please ask the dataset author to remove it and convert it to a standard format like Parquet.\n"
          ]
        },
        {
          "output_type": "display_data",
          "data": {
            "text/plain": [
              "README.md: 0.00B [00:00, ?B/s]"
            ],
            "application/vnd.jupyter.widget-view+json": {
              "version_major": 2,
              "version_minor": 0,
              "model_id": "567fde369be64e948dfa115068a29e14"
            }
          },
          "metadata": {}
        },
        {
          "output_type": "display_data",
          "data": {
            "text/plain": [
              "Amazon-Reviews-2023.py: 0.00B [00:00, ?B/s]"
            ],
            "application/vnd.jupyter.widget-view+json": {
              "version_major": 2,
              "version_minor": 0,
              "model_id": "969518b12fdd4397aaf39ec7ebec31fc"
            }
          },
          "metadata": {}
        },
        {
          "output_type": "error",
          "ename": "RuntimeError",
          "evalue": "Dataset scripts are no longer supported, but found Amazon-Reviews-2023.py",
          "traceback": [
            "\u001b[0;31m---------------------------------------------------------------------------\u001b[0m",
            "\u001b[0;31mRuntimeError\u001b[0m                              Traceback (most recent call last)",
            "\u001b[0;32m/tmp/ipython-input-1262536802.py\u001b[0m in \u001b[0;36m<cell line: 0>\u001b[0;34m()\u001b[0m\n\u001b[0;32m----> 1\u001b[0;31m \u001b[0mdataset\u001b[0m \u001b[0;34m=\u001b[0m \u001b[0mload_dataset\u001b[0m\u001b[0;34m(\u001b[0m\u001b[0;34m\"McAuley-Lab/Amazon-Reviews-2023\"\u001b[0m\u001b[0;34m,\u001b[0m \u001b[0;34mf\"raw_meta_Appliances\"\u001b[0m\u001b[0;34m,\u001b[0m \u001b[0msplit\u001b[0m\u001b[0;34m=\u001b[0m\u001b[0;34m\"full\"\u001b[0m\u001b[0;34m,\u001b[0m \u001b[0mtrust_remote_code\u001b[0m\u001b[0;34m=\u001b[0m\u001b[0;32mTrue\u001b[0m\u001b[0;34m)\u001b[0m\u001b[0;34m\u001b[0m\u001b[0;34m\u001b[0m\u001b[0m\n\u001b[0m",
            "\u001b[0;32m/usr/local/lib/python3.12/dist-packages/datasets/load.py\u001b[0m in \u001b[0;36mload_dataset\u001b[0;34m(path, name, data_dir, data_files, split, cache_dir, features, download_config, download_mode, verification_mode, keep_in_memory, save_infos, revision, token, streaming, num_proc, storage_options, **config_kwargs)\u001b[0m\n\u001b[1;32m   1390\u001b[0m \u001b[0;34m\u001b[0m\u001b[0m\n\u001b[1;32m   1391\u001b[0m     \u001b[0;31m# Create a dataset builder\u001b[0m\u001b[0;34m\u001b[0m\u001b[0;34m\u001b[0m\u001b[0m\n\u001b[0;32m-> 1392\u001b[0;31m     builder_instance = load_dataset_builder(\n\u001b[0m\u001b[1;32m   1393\u001b[0m         \u001b[0mpath\u001b[0m\u001b[0;34m=\u001b[0m\u001b[0mpath\u001b[0m\u001b[0;34m,\u001b[0m\u001b[0;34m\u001b[0m\u001b[0;34m\u001b[0m\u001b[0m\n\u001b[1;32m   1394\u001b[0m         \u001b[0mname\u001b[0m\u001b[0;34m=\u001b[0m\u001b[0mname\u001b[0m\u001b[0;34m,\u001b[0m\u001b[0;34m\u001b[0m\u001b[0;34m\u001b[0m\u001b[0m\n",
            "\u001b[0;32m/usr/local/lib/python3.12/dist-packages/datasets/load.py\u001b[0m in \u001b[0;36mload_dataset_builder\u001b[0;34m(path, name, data_dir, data_files, cache_dir, features, download_config, download_mode, revision, token, storage_options, **config_kwargs)\u001b[0m\n\u001b[1;32m   1130\u001b[0m     \u001b[0;32mif\u001b[0m \u001b[0mfeatures\u001b[0m \u001b[0;32mis\u001b[0m \u001b[0;32mnot\u001b[0m \u001b[0;32mNone\u001b[0m\u001b[0;34m:\u001b[0m\u001b[0;34m\u001b[0m\u001b[0;34m\u001b[0m\u001b[0m\n\u001b[1;32m   1131\u001b[0m         \u001b[0mfeatures\u001b[0m \u001b[0;34m=\u001b[0m \u001b[0m_fix_for_backward_compatible_features\u001b[0m\u001b[0;34m(\u001b[0m\u001b[0mfeatures\u001b[0m\u001b[0;34m)\u001b[0m\u001b[0;34m\u001b[0m\u001b[0;34m\u001b[0m\u001b[0m\n\u001b[0;32m-> 1132\u001b[0;31m     dataset_module = dataset_module_factory(\n\u001b[0m\u001b[1;32m   1133\u001b[0m         \u001b[0mpath\u001b[0m\u001b[0;34m,\u001b[0m\u001b[0;34m\u001b[0m\u001b[0;34m\u001b[0m\u001b[0m\n\u001b[1;32m   1134\u001b[0m         \u001b[0mrevision\u001b[0m\u001b[0;34m=\u001b[0m\u001b[0mrevision\u001b[0m\u001b[0;34m,\u001b[0m\u001b[0;34m\u001b[0m\u001b[0;34m\u001b[0m\u001b[0m\n",
            "\u001b[0;32m/usr/local/lib/python3.12/dist-packages/datasets/load.py\u001b[0m in \u001b[0;36mdataset_module_factory\u001b[0;34m(path, revision, download_config, download_mode, data_dir, data_files, cache_dir, **download_kwargs)\u001b[0m\n\u001b[1;32m   1029\u001b[0m                         \u001b[0;34mf\"Couldn't find '{path}' on the Hugging Face Hub either: {type(e1).__name__}: {e1}\"\u001b[0m\u001b[0;34m\u001b[0m\u001b[0;34m\u001b[0m\u001b[0m\n\u001b[1;32m   1030\u001b[0m                     ) from None\n\u001b[0;32m-> 1031\u001b[0;31m                 \u001b[0;32mraise\u001b[0m \u001b[0me1\u001b[0m \u001b[0;32mfrom\u001b[0m \u001b[0;32mNone\u001b[0m\u001b[0;34m\u001b[0m\u001b[0;34m\u001b[0m\u001b[0m\n\u001b[0m\u001b[1;32m   1032\u001b[0m     \u001b[0;32melse\u001b[0m\u001b[0;34m:\u001b[0m\u001b[0;34m\u001b[0m\u001b[0;34m\u001b[0m\u001b[0m\n\u001b[1;32m   1033\u001b[0m         \u001b[0;32mraise\u001b[0m \u001b[0mFileNotFoundError\u001b[0m\u001b[0;34m(\u001b[0m\u001b[0;34mf\"Couldn't find any data file at {relative_to_absolute_path(path)}.\"\u001b[0m\u001b[0;34m)\u001b[0m\u001b[0;34m\u001b[0m\u001b[0;34m\u001b[0m\u001b[0m\n",
            "\u001b[0;32m/usr/local/lib/python3.12/dist-packages/datasets/load.py\u001b[0m in \u001b[0;36mdataset_module_factory\u001b[0;34m(path, revision, download_config, download_mode, data_dir, data_files, cache_dir, **download_kwargs)\u001b[0m\n\u001b[1;32m    987\u001b[0m                     \u001b[0mproxies\u001b[0m\u001b[0;34m=\u001b[0m\u001b[0mdownload_config\u001b[0m\u001b[0;34m.\u001b[0m\u001b[0mproxies\u001b[0m\u001b[0;34m,\u001b[0m\u001b[0;34m\u001b[0m\u001b[0;34m\u001b[0m\u001b[0m\n\u001b[1;32m    988\u001b[0m                 )\n\u001b[0;32m--> 989\u001b[0;31m                 \u001b[0;32mraise\u001b[0m \u001b[0mRuntimeError\u001b[0m\u001b[0;34m(\u001b[0m\u001b[0;34mf\"Dataset scripts are no longer supported, but found {filename}\"\u001b[0m\u001b[0;34m)\u001b[0m\u001b[0;34m\u001b[0m\u001b[0;34m\u001b[0m\u001b[0m\n\u001b[0m\u001b[1;32m    990\u001b[0m             \u001b[0;32mexcept\u001b[0m \u001b[0mEntryNotFoundError\u001b[0m\u001b[0;34m:\u001b[0m\u001b[0;34m\u001b[0m\u001b[0;34m\u001b[0m\u001b[0m\n\u001b[1;32m    991\u001b[0m                 \u001b[0;31m# Use the infos from the parquet export except in some cases:\u001b[0m\u001b[0;34m\u001b[0m\u001b[0;34m\u001b[0m\u001b[0m\n",
            "\u001b[0;31mRuntimeError\u001b[0m: Dataset scripts are no longer supported, but found Amazon-Reviews-2023.py"
          ]
        }
      ],
      "source": [
        "dataset = load_dataset(\"McAuley-Lab/Amazon-Reviews-2023\", f\"raw_meta_Appliances\", split=\"full\", trust_remote_code=True)"
      ]
    },
    {
      "cell_type": "code",
      "execution_count": null,
      "id": "cde08860-b393-49b8-a620-06a8c0990a64",
      "metadata": {
        "id": "cde08860-b393-49b8-a620-06a8c0990a64"
      },
      "outputs": [],
      "source": [
        "print(f\"Number of Appliances: {len(dataset):,}\")"
      ]
    },
    {
      "cell_type": "code",
      "execution_count": null,
      "id": "3e29a5ab-ca61-41cc-9b33-22d374681b85",
      "metadata": {
        "id": "3e29a5ab-ca61-41cc-9b33-22d374681b85"
      },
      "outputs": [],
      "source": [
        "# Investigate a particular datapoint\n",
        "datapoint = dataset[2]\n"
      ]
    },
    {
      "cell_type": "code",
      "execution_count": null,
      "id": "40a4e10f-6710-4780-a95e-6c0030c3fb87",
      "metadata": {
        "id": "40a4e10f-6710-4780-a95e-6c0030c3fb87"
      },
      "outputs": [],
      "source": [
        "# Investigate\n",
        "\n",
        "print(datapoint[\"title\"])\n",
        "print(datapoint[\"description\"])\n",
        "print(datapoint[\"features\"])\n",
        "print(datapoint[\"details\"])\n",
        "print(datapoint[\"price\"])"
      ]
    },
    {
      "cell_type": "code",
      "execution_count": null,
      "id": "9d356c6f-b6e8-4e01-98cd-c562d132aafa",
      "metadata": {
        "id": "9d356c6f-b6e8-4e01-98cd-c562d132aafa"
      },
      "outputs": [],
      "source": [
        "# How many have prices?\n",
        "\n",
        "prices = 0\n",
        "for datapoint in dataset:\n",
        "    try:\n",
        "        price = float(datapoint[\"price\"])\n",
        "        if price > 0:\n",
        "            prices += 1\n",
        "    except ValueError as e:\n",
        "        pass\n",
        "\n",
        "print(f\"There are {prices:,} with prices which is {prices/len(dataset)*100:,.1f}%\")"
      ]
    },
    {
      "cell_type": "code",
      "execution_count": null,
      "id": "bd890259-aa25-4097-9524-f91c2bdd719b",
      "metadata": {
        "id": "bd890259-aa25-4097-9524-f91c2bdd719b"
      },
      "outputs": [],
      "source": [
        "# For those with prices, gather the price and the length\n",
        "\n",
        "prices = []\n",
        "lengths = []\n",
        "for datapoint in dataset:\n",
        "    try:\n",
        "        price = float(datapoint[\"price\"])\n",
        "        if price > 0:\n",
        "            prices.append(price)\n",
        "            contents = datapoint[\"title\"] + str(datapoint[\"description\"]) + str(datapoint[\"features\"]) + str(datapoint[\"details\"])\n",
        "            lengths.append(len(contents))\n",
        "    except ValueError as e:\n",
        "        pass"
      ]
    },
    {
      "cell_type": "code",
      "execution_count": null,
      "id": "89078cb1-9679-4eb0-b295-599b8586bcd1",
      "metadata": {
        "id": "89078cb1-9679-4eb0-b295-599b8586bcd1"
      },
      "outputs": [],
      "source": [
        "# Plot the distribution of lengths\n",
        "\n",
        "plt.figure(figsize=(15, 6))\n",
        "plt.title(f\"Lengths: Avg {sum(lengths)/len(lengths):,.0f} and highest {max(lengths):,}\\n\")\n",
        "plt.xlabel('Length (chars)')\n",
        "plt.ylabel('Count')\n",
        "plt.hist(lengths, rwidth=0.7, color=\"lightblue\", bins=range(0, 6000, 100))\n",
        "plt.show()"
      ]
    },
    {
      "cell_type": "code",
      "execution_count": null,
      "id": "c38e0c43-9f7a-450e-a911-c94d37d9b9c3",
      "metadata": {
        "id": "c38e0c43-9f7a-450e-a911-c94d37d9b9c3"
      },
      "outputs": [],
      "source": [
        "# Plot the distribution of prices\n",
        "\n",
        "plt.figure(figsize=(15, 6))\n",
        "plt.title(f\"Prices: Avg {sum(prices)/len(prices):,.2f} and highest {max(prices):,}\\n\")\n",
        "plt.xlabel('Price ($)')\n",
        "plt.ylabel('Count')\n",
        "plt.hist(prices, rwidth=0.7, color=\"orange\", bins=range(0, 1000, 10))\n",
        "plt.show()"
      ]
    },
    {
      "cell_type": "code",
      "execution_count": null,
      "id": "eabc7c61-0cd2-41f4-baa1-b85400bbf87f",
      "metadata": {
        "id": "eabc7c61-0cd2-41f4-baa1-b85400bbf87f"
      },
      "outputs": [],
      "source": [
        "# So what is this item??\n",
        "\n",
        "for datapoint in dataset:\n",
        "    try:\n",
        "        price = float(datapoint[\"price\"])\n",
        "        if price > 21000:\n",
        "            print(datapoint['title'])\n",
        "    except ValueError as e:\n",
        "        pass"
      ]
    },
    {
      "cell_type": "markdown",
      "id": "3668ae25-3461-4e6e-9ccb-221c1925a497",
      "metadata": {
        "id": "3668ae25-3461-4e6e-9ccb-221c1925a497"
      },
      "source": [
        "This is the closest I can find - looks like it's going at a bargain price!!\n",
        "\n",
        "https://www.amazon.com/TurboChef-Electric-Countertop-Microwave-Convection/dp/B01D05U9NO/"
      ]
    },
    {
      "cell_type": "markdown",
      "id": "a0d02f58-23f6-4f81-a779-7c0555afd13d",
      "metadata": {
        "id": "a0d02f58-23f6-4f81-a779-7c0555afd13d"
      },
      "source": [
        "## Now it's time to curate our dataset\n",
        "\n",
        "We select items that cost between 1 and 999 USD\n",
        "\n",
        "We will be create Item instances, which truncate the text to fit within 180 tokens using the right Tokenizer\n",
        "\n",
        "And will create a prompt to be used during Training.\n",
        "\n",
        "Items will be rejected if they don't have sufficient characters.\n",
        "\n",
        "## But why 180 tokens??\n",
        "\n",
        "A student asked me a great question - why are we truncating to 180 tokens? How did we determine that number? (Thank you Moataz A. for the excellent question).\n",
        "\n",
        "The answer: this is an example of a \"hyper-parameter\". In other words, it's basically trial and error! We want a sufficiently large number of tokens so that we have enough useful information to gauge the price. But we also want to keep the number low so that we can train efficiently. You'll see this in action in Week 7.\n",
        "\n",
        "I started with a number that seemed reasonable, and experimented with a few variations before settling on 180. If you have time, you should do the same! You might find that you can beat my results by finding a better balance. This kind of trial-and-error might sound a bit unsatisfactory, but it's a crucial part of the data science R&D process.\n",
        "\n",
        "There's another interesting reason why we might favor a lower number of tokens in the training data. When we eventually get to use our model at inference time, we'll want to provide new products and have it estimate a price. And we'll be using short descriptions of products - like 1-2 sentences. For best performance, we should size our training data to be similar to the inputs we will provide at inference time.\n",
        "\n",
        "## But I see in items.py it constrains inputs to 160 tokens?\n",
        "\n",
        "Another great question from Moataz A.! The description of the products is limited to 160 tokens because we add some more text before and after the description to turn it into a prompt. That brings it to around 180 tokens in total.\n",
        "\n"
      ]
    },
    {
      "cell_type": "code",
      "execution_count": null,
      "id": "430b432f-b769-41da-9506-a238cb5cf1b6",
      "metadata": {
        "id": "430b432f-b769-41da-9506-a238cb5cf1b6"
      },
      "outputs": [],
      "source": [
        "# Create an Item object for each with a price\n",
        "\n",
        "items = []\n",
        "for datapoint in dataset:\n",
        "    try:\n",
        "        price = float(datapoint[\"price\"])\n",
        "        if price > 0:\n",
        "            item = Item(datapoint, price)\n",
        "            if item.include:\n",
        "                items.append(item)\n",
        "    except ValueError as e:\n",
        "        pass\n",
        "\n",
        "print(f\"There are {len(items):,} items\")"
      ]
    },
    {
      "cell_type": "code",
      "execution_count": null,
      "id": "0d570794-6f1d-462e-b567-a46bae3556a1",
      "metadata": {
        "id": "0d570794-6f1d-462e-b567-a46bae3556a1"
      },
      "outputs": [],
      "source": [
        "# Look at the first item\n",
        "\n",
        "items[1]"
      ]
    },
    {
      "cell_type": "code",
      "execution_count": null,
      "id": "70219e99-22cc-4e08-9121-51f9707caef0",
      "metadata": {
        "id": "70219e99-22cc-4e08-9121-51f9707caef0"
      },
      "outputs": [],
      "source": [
        "# Investigate the prompt that will be used during training - the model learns to complete this\n",
        "\n",
        "print(items[100].prompt)"
      ]
    },
    {
      "cell_type": "code",
      "execution_count": null,
      "id": "d9998b8d-d746-4541-9ac2-701108e0e8fb",
      "metadata": {
        "id": "d9998b8d-d746-4541-9ac2-701108e0e8fb"
      },
      "outputs": [],
      "source": [
        "# Investigate the prompt that will be used during testing - the model has to complete this\n",
        "\n",
        "print(items[100].test_prompt())"
      ]
    },
    {
      "cell_type": "code",
      "execution_count": null,
      "id": "7a116369-335a-412b-b70c-2add6675c2e3",
      "metadata": {
        "id": "7a116369-335a-412b-b70c-2add6675c2e3"
      },
      "outputs": [],
      "source": [
        "# Plot the distribution of token counts\n",
        "\n",
        "tokens = [item.token_count for item in items]\n",
        "plt.figure(figsize=(15, 6))\n",
        "plt.title(f\"Token counts: Avg {sum(tokens)/len(tokens):,.1f} and highest {max(tokens):,}\\n\")\n",
        "plt.xlabel('Length (tokens)')\n",
        "plt.ylabel('Count')\n",
        "plt.hist(tokens, rwidth=0.7, color=\"green\", bins=range(0, 300, 10))\n",
        "plt.show()"
      ]
    },
    {
      "cell_type": "code",
      "execution_count": null,
      "id": "8d1744aa-71e7-435e-876e-91f06583211a",
      "metadata": {
        "id": "8d1744aa-71e7-435e-876e-91f06583211a"
      },
      "outputs": [],
      "source": [
        "# Plot the distribution of prices\n",
        "\n",
        "prices = [item.price for item in items]\n",
        "plt.figure(figsize=(15, 6))\n",
        "plt.title(f\"Prices: Avg {sum(prices)/len(prices):,.1f} and highest {max(prices):,}\\n\")\n",
        "plt.xlabel('Price ($)')\n",
        "plt.ylabel('Count')\n",
        "plt.hist(prices, rwidth=0.7, color=\"purple\", bins=range(0, 300, 10))\n",
        "plt.show()"
      ]
    },
    {
      "cell_type": "markdown",
      "id": "2b58dc61-747f-46f7-b9e0-c205db4f3e5e",
      "metadata": {
        "id": "2b58dc61-747f-46f7-b9e0-c205db4f3e5e"
      },
      "source": [
        "## Sidenote\n",
        "\n",
        "If you like the variety of colors that matplotlib can use in its charts, you should bookmark this:\n",
        "\n",
        "https://matplotlib.org/stable/gallery/color/named_colors.html\n",
        "\n",
        "## Todos for you:\n",
        "\n",
        "- Review the Item class and check you're comfortable with it\n",
        "- Examine some Item objects, look at the training prompt with `item.prompt` and test prompt with `item.test_prompt()`\n",
        "- Make some more histograms to better understand the data\n",
        "\n",
        "## Next time we will combine with many other types of product\n",
        "\n",
        "Like Electronics and Automotive. This will give us a massive dataset, and we can then be picky about choosing a subset that will be most suitable for training."
      ]
    },
    {
      "cell_type": "code",
      "execution_count": null,
      "id": "01401283-d111-40a7-96e5-0ca05bb20857",
      "metadata": {
        "id": "01401283-d111-40a7-96e5-0ca05bb20857"
      },
      "outputs": [],
      "source": []
    }
  ],
  "metadata": {
    "kernelspec": {
      "display_name": "Python 3 (ipykernel)",
      "language": "python",
      "name": "python3"
    },
    "language_info": {
      "codemirror_mode": {
        "name": "ipython",
        "version": 3
      },
      "file_extension": ".py",
      "mimetype": "text/x-python",
      "name": "python",
      "nbconvert_exporter": "python",
      "pygments_lexer": "ipython3",
      "version": "3.11.13"
    },
    "colab": {
      "provenance": [],
      "include_colab_link": true
    },
    "widgets": {
      "application/vnd.jupyter.widget-state+json": {
        "567fde369be64e948dfa115068a29e14": {
          "model_module": "@jupyter-widgets/controls",
          "model_name": "HBoxModel",
          "model_module_version": "1.5.0",
          "state": {
            "_dom_classes": [],
            "_model_module": "@jupyter-widgets/controls",
            "_model_module_version": "1.5.0",
            "_model_name": "HBoxModel",
            "_view_count": null,
            "_view_module": "@jupyter-widgets/controls",
            "_view_module_version": "1.5.0",
            "_view_name": "HBoxView",
            "box_style": "",
            "children": [
              "IPY_MODEL_89476368cadf454ea92e976bafe7057e",
              "IPY_MODEL_fac080e5603a4eb9a58d72a981247ea1",
              "IPY_MODEL_c8c791b95b634c39a6a93cb2aced8c12"
            ],
            "layout": "IPY_MODEL_12635f2494d14d0f875092d6cb3335b5"
          }
        },
        "89476368cadf454ea92e976bafe7057e": {
          "model_module": "@jupyter-widgets/controls",
          "model_name": "HTMLModel",
          "model_module_version": "1.5.0",
          "state": {
            "_dom_classes": [],
            "_model_module": "@jupyter-widgets/controls",
            "_model_module_version": "1.5.0",
            "_model_name": "HTMLModel",
            "_view_count": null,
            "_view_module": "@jupyter-widgets/controls",
            "_view_module_version": "1.5.0",
            "_view_name": "HTMLView",
            "description": "",
            "description_tooltip": null,
            "layout": "IPY_MODEL_16c42200cd554073a78446d9752e60cf",
            "placeholder": "​",
            "style": "IPY_MODEL_1b7de5cc3d5944b8bccff5d407fa57cb",
            "value": "README.md: "
          }
        },
        "fac080e5603a4eb9a58d72a981247ea1": {
          "model_module": "@jupyter-widgets/controls",
          "model_name": "FloatProgressModel",
          "model_module_version": "1.5.0",
          "state": {
            "_dom_classes": [],
            "_model_module": "@jupyter-widgets/controls",
            "_model_module_version": "1.5.0",
            "_model_name": "FloatProgressModel",
            "_view_count": null,
            "_view_module": "@jupyter-widgets/controls",
            "_view_module_version": "1.5.0",
            "_view_name": "ProgressView",
            "bar_style": "success",
            "description": "",
            "description_tooltip": null,
            "layout": "IPY_MODEL_553351493eb94d8194c76e37c1f014dc",
            "max": 1,
            "min": 0,
            "orientation": "horizontal",
            "style": "IPY_MODEL_1c78638c87cc4678b11c2b4086a2ff98",
            "value": 1
          }
        },
        "c8c791b95b634c39a6a93cb2aced8c12": {
          "model_module": "@jupyter-widgets/controls",
          "model_name": "HTMLModel",
          "model_module_version": "1.5.0",
          "state": {
            "_dom_classes": [],
            "_model_module": "@jupyter-widgets/controls",
            "_model_module_version": "1.5.0",
            "_model_name": "HTMLModel",
            "_view_count": null,
            "_view_module": "@jupyter-widgets/controls",
            "_view_module_version": "1.5.0",
            "_view_name": "HTMLView",
            "description": "",
            "description_tooltip": null,
            "layout": "IPY_MODEL_ee6e204af29a491ea7e8d21da8fd2592",
            "placeholder": "​",
            "style": "IPY_MODEL_22b25007526940adacc6a2a1961d6b1f",
            "value": " 30.3k/? [00:00&lt;00:00, 2.08MB/s]"
          }
        },
        "12635f2494d14d0f875092d6cb3335b5": {
          "model_module": "@jupyter-widgets/base",
          "model_name": "LayoutModel",
          "model_module_version": "1.2.0",
          "state": {
            "_model_module": "@jupyter-widgets/base",
            "_model_module_version": "1.2.0",
            "_model_name": "LayoutModel",
            "_view_count": null,
            "_view_module": "@jupyter-widgets/base",
            "_view_module_version": "1.2.0",
            "_view_name": "LayoutView",
            "align_content": null,
            "align_items": null,
            "align_self": null,
            "border": null,
            "bottom": null,
            "display": null,
            "flex": null,
            "flex_flow": null,
            "grid_area": null,
            "grid_auto_columns": null,
            "grid_auto_flow": null,
            "grid_auto_rows": null,
            "grid_column": null,
            "grid_gap": null,
            "grid_row": null,
            "grid_template_areas": null,
            "grid_template_columns": null,
            "grid_template_rows": null,
            "height": null,
            "justify_content": null,
            "justify_items": null,
            "left": null,
            "margin": null,
            "max_height": null,
            "max_width": null,
            "min_height": null,
            "min_width": null,
            "object_fit": null,
            "object_position": null,
            "order": null,
            "overflow": null,
            "overflow_x": null,
            "overflow_y": null,
            "padding": null,
            "right": null,
            "top": null,
            "visibility": null,
            "width": null
          }
        },
        "16c42200cd554073a78446d9752e60cf": {
          "model_module": "@jupyter-widgets/base",
          "model_name": "LayoutModel",
          "model_module_version": "1.2.0",
          "state": {
            "_model_module": "@jupyter-widgets/base",
            "_model_module_version": "1.2.0",
            "_model_name": "LayoutModel",
            "_view_count": null,
            "_view_module": "@jupyter-widgets/base",
            "_view_module_version": "1.2.0",
            "_view_name": "LayoutView",
            "align_content": null,
            "align_items": null,
            "align_self": null,
            "border": null,
            "bottom": null,
            "display": null,
            "flex": null,
            "flex_flow": null,
            "grid_area": null,
            "grid_auto_columns": null,
            "grid_auto_flow": null,
            "grid_auto_rows": null,
            "grid_column": null,
            "grid_gap": null,
            "grid_row": null,
            "grid_template_areas": null,
            "grid_template_columns": null,
            "grid_template_rows": null,
            "height": null,
            "justify_content": null,
            "justify_items": null,
            "left": null,
            "margin": null,
            "max_height": null,
            "max_width": null,
            "min_height": null,
            "min_width": null,
            "object_fit": null,
            "object_position": null,
            "order": null,
            "overflow": null,
            "overflow_x": null,
            "overflow_y": null,
            "padding": null,
            "right": null,
            "top": null,
            "visibility": null,
            "width": null
          }
        },
        "1b7de5cc3d5944b8bccff5d407fa57cb": {
          "model_module": "@jupyter-widgets/controls",
          "model_name": "DescriptionStyleModel",
          "model_module_version": "1.5.0",
          "state": {
            "_model_module": "@jupyter-widgets/controls",
            "_model_module_version": "1.5.0",
            "_model_name": "DescriptionStyleModel",
            "_view_count": null,
            "_view_module": "@jupyter-widgets/base",
            "_view_module_version": "1.2.0",
            "_view_name": "StyleView",
            "description_width": ""
          }
        },
        "553351493eb94d8194c76e37c1f014dc": {
          "model_module": "@jupyter-widgets/base",
          "model_name": "LayoutModel",
          "model_module_version": "1.2.0",
          "state": {
            "_model_module": "@jupyter-widgets/base",
            "_model_module_version": "1.2.0",
            "_model_name": "LayoutModel",
            "_view_count": null,
            "_view_module": "@jupyter-widgets/base",
            "_view_module_version": "1.2.0",
            "_view_name": "LayoutView",
            "align_content": null,
            "align_items": null,
            "align_self": null,
            "border": null,
            "bottom": null,
            "display": null,
            "flex": null,
            "flex_flow": null,
            "grid_area": null,
            "grid_auto_columns": null,
            "grid_auto_flow": null,
            "grid_auto_rows": null,
            "grid_column": null,
            "grid_gap": null,
            "grid_row": null,
            "grid_template_areas": null,
            "grid_template_columns": null,
            "grid_template_rows": null,
            "height": null,
            "justify_content": null,
            "justify_items": null,
            "left": null,
            "margin": null,
            "max_height": null,
            "max_width": null,
            "min_height": null,
            "min_width": null,
            "object_fit": null,
            "object_position": null,
            "order": null,
            "overflow": null,
            "overflow_x": null,
            "overflow_y": null,
            "padding": null,
            "right": null,
            "top": null,
            "visibility": null,
            "width": "20px"
          }
        },
        "1c78638c87cc4678b11c2b4086a2ff98": {
          "model_module": "@jupyter-widgets/controls",
          "model_name": "ProgressStyleModel",
          "model_module_version": "1.5.0",
          "state": {
            "_model_module": "@jupyter-widgets/controls",
            "_model_module_version": "1.5.0",
            "_model_name": "ProgressStyleModel",
            "_view_count": null,
            "_view_module": "@jupyter-widgets/base",
            "_view_module_version": "1.2.0",
            "_view_name": "StyleView",
            "bar_color": null,
            "description_width": ""
          }
        },
        "ee6e204af29a491ea7e8d21da8fd2592": {
          "model_module": "@jupyter-widgets/base",
          "model_name": "LayoutModel",
          "model_module_version": "1.2.0",
          "state": {
            "_model_module": "@jupyter-widgets/base",
            "_model_module_version": "1.2.0",
            "_model_name": "LayoutModel",
            "_view_count": null,
            "_view_module": "@jupyter-widgets/base",
            "_view_module_version": "1.2.0",
            "_view_name": "LayoutView",
            "align_content": null,
            "align_items": null,
            "align_self": null,
            "border": null,
            "bottom": null,
            "display": null,
            "flex": null,
            "flex_flow": null,
            "grid_area": null,
            "grid_auto_columns": null,
            "grid_auto_flow": null,
            "grid_auto_rows": null,
            "grid_column": null,
            "grid_gap": null,
            "grid_row": null,
            "grid_template_areas": null,
            "grid_template_columns": null,
            "grid_template_rows": null,
            "height": null,
            "justify_content": null,
            "justify_items": null,
            "left": null,
            "margin": null,
            "max_height": null,
            "max_width": null,
            "min_height": null,
            "min_width": null,
            "object_fit": null,
            "object_position": null,
            "order": null,
            "overflow": null,
            "overflow_x": null,
            "overflow_y": null,
            "padding": null,
            "right": null,
            "top": null,
            "visibility": null,
            "width": null
          }
        },
        "22b25007526940adacc6a2a1961d6b1f": {
          "model_module": "@jupyter-widgets/controls",
          "model_name": "DescriptionStyleModel",
          "model_module_version": "1.5.0",
          "state": {
            "_model_module": "@jupyter-widgets/controls",
            "_model_module_version": "1.5.0",
            "_model_name": "DescriptionStyleModel",
            "_view_count": null,
            "_view_module": "@jupyter-widgets/base",
            "_view_module_version": "1.2.0",
            "_view_name": "StyleView",
            "description_width": ""
          }
        },
        "969518b12fdd4397aaf39ec7ebec31fc": {
          "model_module": "@jupyter-widgets/controls",
          "model_name": "HBoxModel",
          "model_module_version": "1.5.0",
          "state": {
            "_dom_classes": [],
            "_model_module": "@jupyter-widgets/controls",
            "_model_module_version": "1.5.0",
            "_model_name": "HBoxModel",
            "_view_count": null,
            "_view_module": "@jupyter-widgets/controls",
            "_view_module_version": "1.5.0",
            "_view_name": "HBoxView",
            "box_style": "",
            "children": [
              "IPY_MODEL_aa601af8ef1b4a5dab6ff5c2d6ff49bf",
              "IPY_MODEL_8d4b76e127194759ab56f62e297dae3c",
              "IPY_MODEL_f8eb8d83f5f7461081dc304e86a4a39b"
            ],
            "layout": "IPY_MODEL_2ec9431eb52f4c56983b694d815758ad"
          }
        },
        "aa601af8ef1b4a5dab6ff5c2d6ff49bf": {
          "model_module": "@jupyter-widgets/controls",
          "model_name": "HTMLModel",
          "model_module_version": "1.5.0",
          "state": {
            "_dom_classes": [],
            "_model_module": "@jupyter-widgets/controls",
            "_model_module_version": "1.5.0",
            "_model_name": "HTMLModel",
            "_view_count": null,
            "_view_module": "@jupyter-widgets/controls",
            "_view_module_version": "1.5.0",
            "_view_name": "HTMLView",
            "description": "",
            "description_tooltip": null,
            "layout": "IPY_MODEL_b8b56eca33ab485492a19f9736d61a5c",
            "placeholder": "​",
            "style": "IPY_MODEL_439a70c6d64e4fc28a340a7749ba957f",
            "value": "Amazon-Reviews-2023.py: "
          }
        },
        "8d4b76e127194759ab56f62e297dae3c": {
          "model_module": "@jupyter-widgets/controls",
          "model_name": "FloatProgressModel",
          "model_module_version": "1.5.0",
          "state": {
            "_dom_classes": [],
            "_model_module": "@jupyter-widgets/controls",
            "_model_module_version": "1.5.0",
            "_model_name": "FloatProgressModel",
            "_view_count": null,
            "_view_module": "@jupyter-widgets/controls",
            "_view_module_version": "1.5.0",
            "_view_name": "ProgressView",
            "bar_style": "success",
            "description": "",
            "description_tooltip": null,
            "layout": "IPY_MODEL_10eb39c0e0764b0f8160fc393fc81d27",
            "max": 1,
            "min": 0,
            "orientation": "horizontal",
            "style": "IPY_MODEL_78a9ff2a8686464cb66c7fbae12b3354",
            "value": 1
          }
        },
        "f8eb8d83f5f7461081dc304e86a4a39b": {
          "model_module": "@jupyter-widgets/controls",
          "model_name": "HTMLModel",
          "model_module_version": "1.5.0",
          "state": {
            "_dom_classes": [],
            "_model_module": "@jupyter-widgets/controls",
            "_model_module_version": "1.5.0",
            "_model_name": "HTMLModel",
            "_view_count": null,
            "_view_module": "@jupyter-widgets/controls",
            "_view_module_version": "1.5.0",
            "_view_name": "HTMLView",
            "description": "",
            "description_tooltip": null,
            "layout": "IPY_MODEL_f9fcafb5b7744bf097cdd4ae632ff935",
            "placeholder": "​",
            "style": "IPY_MODEL_517f42b9e3064fea89398c291fce67dc",
            "value": " 39.6k/? [00:00&lt;00:00, 3.68MB/s]"
          }
        },
        "2ec9431eb52f4c56983b694d815758ad": {
          "model_module": "@jupyter-widgets/base",
          "model_name": "LayoutModel",
          "model_module_version": "1.2.0",
          "state": {
            "_model_module": "@jupyter-widgets/base",
            "_model_module_version": "1.2.0",
            "_model_name": "LayoutModel",
            "_view_count": null,
            "_view_module": "@jupyter-widgets/base",
            "_view_module_version": "1.2.0",
            "_view_name": "LayoutView",
            "align_content": null,
            "align_items": null,
            "align_self": null,
            "border": null,
            "bottom": null,
            "display": null,
            "flex": null,
            "flex_flow": null,
            "grid_area": null,
            "grid_auto_columns": null,
            "grid_auto_flow": null,
            "grid_auto_rows": null,
            "grid_column": null,
            "grid_gap": null,
            "grid_row": null,
            "grid_template_areas": null,
            "grid_template_columns": null,
            "grid_template_rows": null,
            "height": null,
            "justify_content": null,
            "justify_items": null,
            "left": null,
            "margin": null,
            "max_height": null,
            "max_width": null,
            "min_height": null,
            "min_width": null,
            "object_fit": null,
            "object_position": null,
            "order": null,
            "overflow": null,
            "overflow_x": null,
            "overflow_y": null,
            "padding": null,
            "right": null,
            "top": null,
            "visibility": null,
            "width": null
          }
        },
        "b8b56eca33ab485492a19f9736d61a5c": {
          "model_module": "@jupyter-widgets/base",
          "model_name": "LayoutModel",
          "model_module_version": "1.2.0",
          "state": {
            "_model_module": "@jupyter-widgets/base",
            "_model_module_version": "1.2.0",
            "_model_name": "LayoutModel",
            "_view_count": null,
            "_view_module": "@jupyter-widgets/base",
            "_view_module_version": "1.2.0",
            "_view_name": "LayoutView",
            "align_content": null,
            "align_items": null,
            "align_self": null,
            "border": null,
            "bottom": null,
            "display": null,
            "flex": null,
            "flex_flow": null,
            "grid_area": null,
            "grid_auto_columns": null,
            "grid_auto_flow": null,
            "grid_auto_rows": null,
            "grid_column": null,
            "grid_gap": null,
            "grid_row": null,
            "grid_template_areas": null,
            "grid_template_columns": null,
            "grid_template_rows": null,
            "height": null,
            "justify_content": null,
            "justify_items": null,
            "left": null,
            "margin": null,
            "max_height": null,
            "max_width": null,
            "min_height": null,
            "min_width": null,
            "object_fit": null,
            "object_position": null,
            "order": null,
            "overflow": null,
            "overflow_x": null,
            "overflow_y": null,
            "padding": null,
            "right": null,
            "top": null,
            "visibility": null,
            "width": null
          }
        },
        "439a70c6d64e4fc28a340a7749ba957f": {
          "model_module": "@jupyter-widgets/controls",
          "model_name": "DescriptionStyleModel",
          "model_module_version": "1.5.0",
          "state": {
            "_model_module": "@jupyter-widgets/controls",
            "_model_module_version": "1.5.0",
            "_model_name": "DescriptionStyleModel",
            "_view_count": null,
            "_view_module": "@jupyter-widgets/base",
            "_view_module_version": "1.2.0",
            "_view_name": "StyleView",
            "description_width": ""
          }
        },
        "10eb39c0e0764b0f8160fc393fc81d27": {
          "model_module": "@jupyter-widgets/base",
          "model_name": "LayoutModel",
          "model_module_version": "1.2.0",
          "state": {
            "_model_module": "@jupyter-widgets/base",
            "_model_module_version": "1.2.0",
            "_model_name": "LayoutModel",
            "_view_count": null,
            "_view_module": "@jupyter-widgets/base",
            "_view_module_version": "1.2.0",
            "_view_name": "LayoutView",
            "align_content": null,
            "align_items": null,
            "align_self": null,
            "border": null,
            "bottom": null,
            "display": null,
            "flex": null,
            "flex_flow": null,
            "grid_area": null,
            "grid_auto_columns": null,
            "grid_auto_flow": null,
            "grid_auto_rows": null,
            "grid_column": null,
            "grid_gap": null,
            "grid_row": null,
            "grid_template_areas": null,
            "grid_template_columns": null,
            "grid_template_rows": null,
            "height": null,
            "justify_content": null,
            "justify_items": null,
            "left": null,
            "margin": null,
            "max_height": null,
            "max_width": null,
            "min_height": null,
            "min_width": null,
            "object_fit": null,
            "object_position": null,
            "order": null,
            "overflow": null,
            "overflow_x": null,
            "overflow_y": null,
            "padding": null,
            "right": null,
            "top": null,
            "visibility": null,
            "width": "20px"
          }
        },
        "78a9ff2a8686464cb66c7fbae12b3354": {
          "model_module": "@jupyter-widgets/controls",
          "model_name": "ProgressStyleModel",
          "model_module_version": "1.5.0",
          "state": {
            "_model_module": "@jupyter-widgets/controls",
            "_model_module_version": "1.5.0",
            "_model_name": "ProgressStyleModel",
            "_view_count": null,
            "_view_module": "@jupyter-widgets/base",
            "_view_module_version": "1.2.0",
            "_view_name": "StyleView",
            "bar_color": null,
            "description_width": ""
          }
        },
        "f9fcafb5b7744bf097cdd4ae632ff935": {
          "model_module": "@jupyter-widgets/base",
          "model_name": "LayoutModel",
          "model_module_version": "1.2.0",
          "state": {
            "_model_module": "@jupyter-widgets/base",
            "_model_module_version": "1.2.0",
            "_model_name": "LayoutModel",
            "_view_count": null,
            "_view_module": "@jupyter-widgets/base",
            "_view_module_version": "1.2.0",
            "_view_name": "LayoutView",
            "align_content": null,
            "align_items": null,
            "align_self": null,
            "border": null,
            "bottom": null,
            "display": null,
            "flex": null,
            "flex_flow": null,
            "grid_area": null,
            "grid_auto_columns": null,
            "grid_auto_flow": null,
            "grid_auto_rows": null,
            "grid_column": null,
            "grid_gap": null,
            "grid_row": null,
            "grid_template_areas": null,
            "grid_template_columns": null,
            "grid_template_rows": null,
            "height": null,
            "justify_content": null,
            "justify_items": null,
            "left": null,
            "margin": null,
            "max_height": null,
            "max_width": null,
            "min_height": null,
            "min_width": null,
            "object_fit": null,
            "object_position": null,
            "order": null,
            "overflow": null,
            "overflow_x": null,
            "overflow_y": null,
            "padding": null,
            "right": null,
            "top": null,
            "visibility": null,
            "width": null
          }
        },
        "517f42b9e3064fea89398c291fce67dc": {
          "model_module": "@jupyter-widgets/controls",
          "model_name": "DescriptionStyleModel",
          "model_module_version": "1.5.0",
          "state": {
            "_model_module": "@jupyter-widgets/controls",
            "_model_module_version": "1.5.0",
            "_model_name": "DescriptionStyleModel",
            "_view_count": null,
            "_view_module": "@jupyter-widgets/base",
            "_view_module_version": "1.2.0",
            "_view_name": "StyleView",
            "description_width": ""
          }
        }
      }
    }
  },
  "nbformat": 4,
  "nbformat_minor": 5
}
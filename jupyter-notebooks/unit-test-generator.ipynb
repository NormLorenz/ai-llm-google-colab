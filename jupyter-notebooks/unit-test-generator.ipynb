{
  "cells": [
    {
      "cell_type": "markdown",
      "id": "65b3aadc-c540-4cb2-a338-d523d3f22e5b",
      "metadata": {
        "id": "65b3aadc-c540-4cb2-a338-d523d3f22e5b"
      },
      "source": [
        "Unit test generator using GPT, Claude and Gemini.\n",
        "This will create unit test code from python and also run the code and provide the result (including any errors)\n",
        "Note:\n",
        "When I tried to use claude-sonnet-4-20250514 the results were too big and the python was cut-off (no matter how big I made the max tokens).  This seemed to be the case for both examples.  I've changed it to claude-3-5-sonnet-20240620 and it seems to be run better."
      ]
    },
    {
      "cell_type": "code",
      "execution_count": 2,
      "id": "fEgvz2AL4SDb",
      "metadata": {
        "id": "fEgvz2AL4SDb",
        "outputId": "4b7d14af-64c5-499d-a5f6-3d02e30c201c",
        "colab": {
          "base_uri": "https://localhost:8080/"
        }
      },
      "outputs": [
        {
          "output_type": "stream",
          "name": "stdout",
          "text": [
            "Requirement already satisfied: openai in /usr/local/lib/python3.12/dist-packages (1.109.1)\n",
            "Requirement already satisfied: python-dotenv in /usr/local/lib/python3.12/dist-packages (1.1.1)\n",
            "Requirement already satisfied: google-generativeai in /usr/local/lib/python3.12/dist-packages (0.8.5)\n",
            "Requirement already satisfied: anthropic in /usr/local/lib/python3.12/dist-packages (0.69.0)\n",
            "Requirement already satisfied: gradio in /usr/local/lib/python3.12/dist-packages (5.47.2)\n",
            "Requirement already satisfied: anyio<5,>=3.5.0 in /usr/local/lib/python3.12/dist-packages (from openai) (4.11.0)\n",
            "Requirement already satisfied: distro<2,>=1.7.0 in /usr/local/lib/python3.12/dist-packages (from openai) (1.9.0)\n",
            "Requirement already satisfied: httpx<1,>=0.23.0 in /usr/local/lib/python3.12/dist-packages (from openai) (0.28.1)\n",
            "Requirement already satisfied: jiter<1,>=0.4.0 in /usr/local/lib/python3.12/dist-packages (from openai) (0.11.0)\n",
            "Requirement already satisfied: pydantic<3,>=1.9.0 in /usr/local/lib/python3.12/dist-packages (from openai) (2.11.9)\n",
            "Requirement already satisfied: sniffio in /usr/local/lib/python3.12/dist-packages (from openai) (1.3.1)\n",
            "Requirement already satisfied: tqdm>4 in /usr/local/lib/python3.12/dist-packages (from openai) (4.67.1)\n",
            "Requirement already satisfied: typing-extensions<5,>=4.11 in /usr/local/lib/python3.12/dist-packages (from openai) (4.15.0)\n",
            "Requirement already satisfied: google-ai-generativelanguage==0.6.15 in /usr/local/lib/python3.12/dist-packages (from google-generativeai) (0.6.15)\n",
            "Requirement already satisfied: google-api-core in /usr/local/lib/python3.12/dist-packages (from google-generativeai) (2.25.1)\n",
            "Requirement already satisfied: google-api-python-client in /usr/local/lib/python3.12/dist-packages (from google-generativeai) (2.183.0)\n",
            "Requirement already satisfied: google-auth>=2.15.0 in /usr/local/lib/python3.12/dist-packages (from google-generativeai) (2.38.0)\n",
            "Requirement already satisfied: protobuf in /usr/local/lib/python3.12/dist-packages (from google-generativeai) (5.29.5)\n",
            "Requirement already satisfied: proto-plus<2.0.0dev,>=1.22.3 in /usr/local/lib/python3.12/dist-packages (from google-ai-generativelanguage==0.6.15->google-generativeai) (1.26.1)\n",
            "Requirement already satisfied: docstring-parser<1,>=0.15 in /usr/local/lib/python3.12/dist-packages (from anthropic) (0.17.0)\n",
            "Requirement already satisfied: aiofiles<25.0,>=22.0 in /usr/local/lib/python3.12/dist-packages (from gradio) (24.1.0)\n",
            "Requirement already satisfied: brotli>=1.1.0 in /usr/local/lib/python3.12/dist-packages (from gradio) (1.1.0)\n",
            "Requirement already satisfied: fastapi<1.0,>=0.115.2 in /usr/local/lib/python3.12/dist-packages (from gradio) (0.118.0)\n",
            "Requirement already satisfied: ffmpy in /usr/local/lib/python3.12/dist-packages (from gradio) (0.6.1)\n",
            "Requirement already satisfied: gradio-client==1.13.3 in /usr/local/lib/python3.12/dist-packages (from gradio) (1.13.3)\n",
            "Requirement already satisfied: groovy~=0.1 in /usr/local/lib/python3.12/dist-packages (from gradio) (0.1.2)\n",
            "Requirement already satisfied: huggingface-hub<2.0,>=0.33.5 in /usr/local/lib/python3.12/dist-packages (from gradio) (0.35.3)\n",
            "Requirement already satisfied: jinja2<4.0 in /usr/local/lib/python3.12/dist-packages (from gradio) (3.1.6)\n",
            "Requirement already satisfied: markupsafe<4.0,>=2.0 in /usr/local/lib/python3.12/dist-packages (from gradio) (3.0.3)\n",
            "Requirement already satisfied: numpy<3.0,>=1.0 in /usr/local/lib/python3.12/dist-packages (from gradio) (2.0.2)\n",
            "Requirement already satisfied: orjson~=3.0 in /usr/local/lib/python3.12/dist-packages (from gradio) (3.11.3)\n",
            "Requirement already satisfied: packaging in /usr/local/lib/python3.12/dist-packages (from gradio) (25.0)\n",
            "Requirement already satisfied: pandas<3.0,>=1.0 in /usr/local/lib/python3.12/dist-packages (from gradio) (2.2.2)\n",
            "Requirement already satisfied: pillow<12.0,>=8.0 in /usr/local/lib/python3.12/dist-packages (from gradio) (11.3.0)\n",
            "Requirement already satisfied: pydub in /usr/local/lib/python3.12/dist-packages (from gradio) (0.25.1)\n",
            "Requirement already satisfied: python-multipart>=0.0.18 in /usr/local/lib/python3.12/dist-packages (from gradio) (0.0.20)\n",
            "Requirement already satisfied: pyyaml<7.0,>=5.0 in /usr/local/lib/python3.12/dist-packages (from gradio) (6.0.3)\n",
            "Requirement already satisfied: ruff>=0.9.3 in /usr/local/lib/python3.12/dist-packages (from gradio) (0.13.2)\n",
            "Requirement already satisfied: safehttpx<0.2.0,>=0.1.6 in /usr/local/lib/python3.12/dist-packages (from gradio) (0.1.6)\n",
            "Requirement already satisfied: semantic-version~=2.0 in /usr/local/lib/python3.12/dist-packages (from gradio) (2.10.0)\n",
            "Requirement already satisfied: starlette<1.0,>=0.40.0 in /usr/local/lib/python3.12/dist-packages (from gradio) (0.48.0)\n",
            "Requirement already satisfied: tomlkit<0.14.0,>=0.12.0 in /usr/local/lib/python3.12/dist-packages (from gradio) (0.13.3)\n",
            "Requirement already satisfied: typer<1.0,>=0.12 in /usr/local/lib/python3.12/dist-packages (from gradio) (0.19.2)\n",
            "Requirement already satisfied: uvicorn>=0.14.0 in /usr/local/lib/python3.12/dist-packages (from gradio) (0.37.0)\n",
            "Requirement already satisfied: fsspec in /usr/local/lib/python3.12/dist-packages (from gradio-client==1.13.3->gradio) (2025.3.0)\n",
            "Requirement already satisfied: websockets<16.0,>=13.0 in /usr/local/lib/python3.12/dist-packages (from gradio-client==1.13.3->gradio) (15.0.1)\n",
            "Requirement already satisfied: idna>=2.8 in /usr/local/lib/python3.12/dist-packages (from anyio<5,>=3.5.0->openai) (3.10)\n",
            "Requirement already satisfied: googleapis-common-protos<2.0.0,>=1.56.2 in /usr/local/lib/python3.12/dist-packages (from google-api-core->google-generativeai) (1.70.0)\n",
            "Requirement already satisfied: requests<3.0.0,>=2.18.0 in /usr/local/lib/python3.12/dist-packages (from google-api-core->google-generativeai) (2.32.4)\n",
            "Requirement already satisfied: cachetools<6.0,>=2.0.0 in /usr/local/lib/python3.12/dist-packages (from google-auth>=2.15.0->google-generativeai) (5.5.2)\n",
            "Requirement already satisfied: pyasn1-modules>=0.2.1 in /usr/local/lib/python3.12/dist-packages (from google-auth>=2.15.0->google-generativeai) (0.4.2)\n",
            "Requirement already satisfied: rsa<5,>=3.1.4 in /usr/local/lib/python3.12/dist-packages (from google-auth>=2.15.0->google-generativeai) (4.9.1)\n",
            "Requirement already satisfied: certifi in /usr/local/lib/python3.12/dist-packages (from httpx<1,>=0.23.0->openai) (2025.8.3)\n",
            "Requirement already satisfied: httpcore==1.* in /usr/local/lib/python3.12/dist-packages (from httpx<1,>=0.23.0->openai) (1.0.9)\n",
            "Requirement already satisfied: h11>=0.16 in /usr/local/lib/python3.12/dist-packages (from httpcore==1.*->httpx<1,>=0.23.0->openai) (0.16.0)\n",
            "Requirement already satisfied: filelock in /usr/local/lib/python3.12/dist-packages (from huggingface-hub<2.0,>=0.33.5->gradio) (3.19.1)\n",
            "Requirement already satisfied: hf-xet<2.0.0,>=1.1.3 in /usr/local/lib/python3.12/dist-packages (from huggingface-hub<2.0,>=0.33.5->gradio) (1.1.10)\n",
            "Requirement already satisfied: python-dateutil>=2.8.2 in /usr/local/lib/python3.12/dist-packages (from pandas<3.0,>=1.0->gradio) (2.9.0.post0)\n",
            "Requirement already satisfied: pytz>=2020.1 in /usr/local/lib/python3.12/dist-packages (from pandas<3.0,>=1.0->gradio) (2025.2)\n",
            "Requirement already satisfied: tzdata>=2022.7 in /usr/local/lib/python3.12/dist-packages (from pandas<3.0,>=1.0->gradio) (2025.2)\n",
            "Requirement already satisfied: annotated-types>=0.6.0 in /usr/local/lib/python3.12/dist-packages (from pydantic<3,>=1.9.0->openai) (0.7.0)\n",
            "Requirement already satisfied: pydantic-core==2.33.2 in /usr/local/lib/python3.12/dist-packages (from pydantic<3,>=1.9.0->openai) (2.33.2)\n",
            "Requirement already satisfied: typing-inspection>=0.4.0 in /usr/local/lib/python3.12/dist-packages (from pydantic<3,>=1.9.0->openai) (0.4.2)\n",
            "Requirement already satisfied: click>=8.0.0 in /usr/local/lib/python3.12/dist-packages (from typer<1.0,>=0.12->gradio) (8.3.0)\n",
            "Requirement already satisfied: shellingham>=1.3.0 in /usr/local/lib/python3.12/dist-packages (from typer<1.0,>=0.12->gradio) (1.5.4)\n",
            "Requirement already satisfied: rich>=10.11.0 in /usr/local/lib/python3.12/dist-packages (from typer<1.0,>=0.12->gradio) (13.9.4)\n",
            "Requirement already satisfied: httplib2<1.0.0,>=0.19.0 in /usr/local/lib/python3.12/dist-packages (from google-api-python-client->google-generativeai) (0.31.0)\n",
            "Requirement already satisfied: google-auth-httplib2<1.0.0,>=0.2.0 in /usr/local/lib/python3.12/dist-packages (from google-api-python-client->google-generativeai) (0.2.0)\n",
            "Requirement already satisfied: uritemplate<5,>=3.0.1 in /usr/local/lib/python3.12/dist-packages (from google-api-python-client->google-generativeai) (4.2.0)\n",
            "Requirement already satisfied: grpcio<2.0.0,>=1.33.2 in /usr/local/lib/python3.12/dist-packages (from google-api-core[grpc]!=2.0.*,!=2.1.*,!=2.10.*,!=2.2.*,!=2.3.*,!=2.4.*,!=2.5.*,!=2.6.*,!=2.7.*,!=2.8.*,!=2.9.*,<3.0.0dev,>=1.34.1->google-ai-generativelanguage==0.6.15->google-generativeai) (1.75.1)\n",
            "Requirement already satisfied: grpcio-status<2.0.0,>=1.33.2 in /usr/local/lib/python3.12/dist-packages (from google-api-core[grpc]!=2.0.*,!=2.1.*,!=2.10.*,!=2.2.*,!=2.3.*,!=2.4.*,!=2.5.*,!=2.6.*,!=2.7.*,!=2.8.*,!=2.9.*,<3.0.0dev,>=1.34.1->google-ai-generativelanguage==0.6.15->google-generativeai) (1.71.2)\n",
            "Requirement already satisfied: pyparsing<4,>=3.0.4 in /usr/local/lib/python3.12/dist-packages (from httplib2<1.0.0,>=0.19.0->google-api-python-client->google-generativeai) (3.2.5)\n",
            "Requirement already satisfied: pyasn1<0.7.0,>=0.6.1 in /usr/local/lib/python3.12/dist-packages (from pyasn1-modules>=0.2.1->google-auth>=2.15.0->google-generativeai) (0.6.1)\n",
            "Requirement already satisfied: six>=1.5 in /usr/local/lib/python3.12/dist-packages (from python-dateutil>=2.8.2->pandas<3.0,>=1.0->gradio) (1.17.0)\n",
            "Requirement already satisfied: charset_normalizer<4,>=2 in /usr/local/lib/python3.12/dist-packages (from requests<3.0.0,>=2.18.0->google-api-core->google-generativeai) (3.4.3)\n",
            "Requirement already satisfied: urllib3<3,>=1.21.1 in /usr/local/lib/python3.12/dist-packages (from requests<3.0.0,>=2.18.0->google-api-core->google-generativeai) (2.5.0)\n",
            "Requirement already satisfied: markdown-it-py>=2.2.0 in /usr/local/lib/python3.12/dist-packages (from rich>=10.11.0->typer<1.0,>=0.12->gradio) (4.0.0)\n",
            "Requirement already satisfied: pygments<3.0.0,>=2.13.0 in /usr/local/lib/python3.12/dist-packages (from rich>=10.11.0->typer<1.0,>=0.12->gradio) (2.19.2)\n",
            "Requirement already satisfied: mdurl~=0.1 in /usr/local/lib/python3.12/dist-packages (from markdown-it-py>=2.2.0->rich>=10.11.0->typer<1.0,>=0.12->gradio) (0.1.2)\n"
          ]
        }
      ],
      "source": [
        "!pip install openai python-dotenv google-generativeai anthropic gradio"
      ]
    },
    {
      "cell_type": "code",
      "execution_count": 3,
      "id": "e610bf56-a46e-4aff-8de1-ab49d62b1ad3",
      "metadata": {
        "id": "e610bf56-a46e-4aff-8de1-ab49d62b1ad3"
      },
      "outputs": [],
      "source": [
        "# imports\n",
        "\n",
        "import os\n",
        "import requests\n",
        "from openai import OpenAI\n",
        "import google.generativeai\n",
        "import anthropic\n",
        "from IPython.display import Markdown, display, update_display\n",
        "import gradio as gr\n",
        "import sys\n",
        "import io\n",
        "import traceback\n",
        "import unittest\n",
        "import subprocess\n",
        "import tempfile\n",
        "from google.colab import userdata"
      ]
    },
    {
      "cell_type": "code",
      "execution_count": 4,
      "id": "4f672e1c-87e9-4865-b760-370fa605e614",
      "metadata": {
        "colab": {
          "base_uri": "https://localhost:8080/"
        },
        "id": "4f672e1c-87e9-4865-b760-370fa605e614",
        "outputId": "6a1d7d08-7818-4848-c23e-0c2e0c8197b0"
      },
      "outputs": [
        {
          "output_type": "stream",
          "name": "stdout",
          "text": [
            "All good\n",
            "All good\n",
            "All good\n",
            "All good\n"
          ]
        }
      ],
      "source": [
        "# keys\n",
        "\n",
        "openai_api_key = userdata.get(\"OPENAI_API_KEY\")\n",
        "\n",
        "if openai_api_key:\n",
        "    print(\"All good\")\n",
        "else:\n",
        "    print(\"OpenAI key issue\")\n",
        "\n",
        "claude_api_key = userdata.get(\"ANTHROPIC_API_KEY\")\n",
        "\n",
        "if claude_api_key:\n",
        "    print(\"All good\")\n",
        "else:\n",
        "    print(\"Claude key issue\")\n",
        "\n",
        "google_api_key = userdata.get(\"GOOGLE_API_KEY\")\n",
        "\n",
        "if google_api_key:\n",
        "    print(\"All good\")\n",
        "else:\n",
        "    print(\"Google key issue\")\n",
        "\n",
        "hugging_face_token = userdata.get(\"HF_TOKEN\")\n",
        "\n",
        "if hugging_face_token:\n",
        "    print(\"All good\")\n",
        "else:\n",
        "    print(\"Huffing Face token issue\")"
      ]
    },
    {
      "cell_type": "code",
      "execution_count": 5,
      "id": "8aa149ed-9298-4d69-8fe2-8f5de0f667da",
      "metadata": {
        "id": "8aa149ed-9298-4d69-8fe2-8f5de0f667da"
      },
      "outputs": [],
      "source": [
        "# initialise\n",
        "\n",
        "openai = OpenAI(api_key=openai_api_key)\n",
        "claude = anthropic.Anthropic()\n",
        "google.generativeai.configure()\n",
        "\n",
        "OPENAI_MODEL = \"gpt-4o\"\n",
        "CLAUDE_MODEL = \"claude-3-5-sonnet-20240620\" #\"claude-sonnet-4-20250514\"\n",
        "GOOGLE_MODEL = \"gemini-2.0-flash\"\n",
        "\n",
        "max_tok = 5000"
      ]
    },
    {
      "cell_type": "code",
      "execution_count": 6,
      "id": "6896636f-923e-4a2c-9d6c-fac07828a201",
      "metadata": {
        "id": "6896636f-923e-4a2c-9d6c-fac07828a201"
      },
      "outputs": [],
      "source": [
        "system_message = \"You are an engineer with responsibility for unit testing python code.\"\n",
        "system_message += \"You review base python code and develop unit tests, also in python, which validate each unit of code.\"\n",
        "system_message += \"\"\" The output must be in Python with both the unit tests and comments explaining the purpose of each test.\n",
        "The output should not include any additional text at the start or end including \"```\".  It should be possible to run the code without any updates including an execution statement.\n",
        "Include the base / original python code in the response.\"\"\""
      ]
    },
    {
      "cell_type": "code",
      "execution_count": 7,
      "id": "8e7b3546-57aa-4c29-bc5d-f211970d04eb",
      "metadata": {
        "id": "8e7b3546-57aa-4c29-bc5d-f211970d04eb"
      },
      "outputs": [],
      "source": [
        "def user_prompt_for(python):\n",
        "    user_prompt = \"Review the Python code provided and develop unit tests which can be run in a jupyter lab.\"\n",
        "    user_prompt += \"\"\" The output must be in Python with both the unit tests and comments explaining the purpose of each test.\n",
        "The output should not include any additional text at the start or end including \"```\".  It should be possible to run the code without any updates (include an execution statement).\n",
        "Include the base / original python code in the response.\"\"\"\n",
        "    user_prompt += python\n",
        "    return user_prompt"
      ]
    },
    {
      "cell_type": "code",
      "execution_count": 8,
      "id": "c6190659-f54c-4951-bef4-4960f8e51cc4",
      "metadata": {
        "id": "c6190659-f54c-4951-bef4-4960f8e51cc4"
      },
      "outputs": [],
      "source": [
        "def messages_for(python):\n",
        "    return [\n",
        "        {\"role\": \"system\", \"content\": system_message},\n",
        "        {\"role\": \"user\", \"content\": user_prompt_for(python)}\n",
        "    ]"
      ]
    },
    {
      "cell_type": "code",
      "execution_count": 9,
      "id": "0b327aa3-3277-44e1-972f-aa7158147ddd",
      "metadata": {
        "id": "0b327aa3-3277-44e1-972f-aa7158147ddd"
      },
      "outputs": [],
      "source": [
        "# python example\n",
        "example = \"\"\"class BookNotAvailableError(Exception):\n",
        "    pass\n",
        "\n",
        "class Library:\n",
        "    def __init__(self):\n",
        "        self.inventory = {}  # book title -> quantity\n",
        "        self.borrowed = {}   # user -> list of borrowed book titles\n",
        "\n",
        "    def add_book(self, title, quantity=1):\n",
        "        if quantity <= 0:\n",
        "            raise ValueError(\"Quantity must be positive\")\n",
        "        self.inventory[title] = self.inventory.get(title, 0) + quantity\n",
        "\n",
        "    def borrow_book(self, user, title):\n",
        "        if self.inventory.get(title, 0) < 1:\n",
        "            raise BookNotAvailableError(f\"'{title}' is not available\")\n",
        "        self.inventory[title] -= 1\n",
        "        self.borrowed.setdefault(user, []).append(title)\n",
        "\n",
        "    def return_book(self, user, title):\n",
        "        if user not in self.borrowed or title not in self.borrowed[user]:\n",
        "            raise ValueError(f\"User '{user}' did not borrow '{title}'\")\n",
        "        self.borrowed[user].remove(title)\n",
        "        self.inventory[title] = self.inventory.get(title, 0) + 1\n",
        "\n",
        "    def get_available_books(self):\n",
        "        return {title: qty for title, qty in self.inventory.items() if qty > 0}\n",
        "\n",
        "    def get_borrowed_books(self, user):\n",
        "        return self.borrowed.get(user, [])\"\"\""
      ]
    },
    {
      "cell_type": "code",
      "execution_count": 10,
      "id": "ed6e624e-88a5-4f10-8ab5-f071f0ca3041",
      "metadata": {
        "id": "ed6e624e-88a5-4f10-8ab5-f071f0ca3041"
      },
      "outputs": [],
      "source": [
        "# python example2\n",
        "example2 = \"\"\"class Calculator:\n",
        "    def add(self, a, b):\n",
        "        return a + b\n",
        "\n",
        "    def subtract(self, a, b):\n",
        "        return a - b\n",
        "\n",
        "    def divide(self, a, b):\n",
        "        if b == 0:\n",
        "            raise ValueError(\"Cannot divide by zero\")\n",
        "        return a / b\n",
        "\n",
        "    def multiply(self, a, b):\n",
        "        return a * b\n",
        "\n",
        "\n",
        "def is_prime(n):\n",
        "    if n <= 1:\n",
        "        return False\n",
        "    if n <= 3:\n",
        "        return True\n",
        "    if n % 2 == 0 or n % 3 == 0:\n",
        "        return False\n",
        "    i = 5\n",
        "    while i * i <= n:\n",
        "        if n % i == 0 or n % (i + 2) == 0:\n",
        "            return False\n",
        "        i += 6\n",
        "    return True\n",
        "    \"\"\""
      ]
    },
    {
      "cell_type": "code",
      "execution_count": 11,
      "id": "e7d2fea8-74c6-4421-8f1e-0e76d5b201b9",
      "metadata": {
        "id": "e7d2fea8-74c6-4421-8f1e-0e76d5b201b9"
      },
      "outputs": [],
      "source": [
        "def unit_test_gpt(python):\n",
        "    stream = openai.chat.completions.create(model=OPENAI_MODEL, messages=messages_for(python), stream=True)\n",
        "    reply = \"\"\n",
        "    for chunk in stream:\n",
        "        fragment = chunk.choices[0].delta.content or \"\"\n",
        "        reply += fragment\n",
        "        yield reply"
      ]
    },
    {
      "cell_type": "code",
      "execution_count": 12,
      "id": "7cd84ad8-d55c-4fe0-9eeb-1895c95c4a9d",
      "metadata": {
        "id": "7cd84ad8-d55c-4fe0-9eeb-1895c95c4a9d"
      },
      "outputs": [],
      "source": [
        "def unit_test_claude(python):\n",
        "    result = claude.messages.stream(\n",
        "        model=CLAUDE_MODEL,\n",
        "        max_tokens=max_tok,\n",
        "        system=system_message,\n",
        "        messages=[{\"role\": \"user\", \"content\": user_prompt_for(python)}],\n",
        "    )\n",
        "    reply = \"\"\n",
        "    with result as stream:\n",
        "        for text in stream.text_stream:\n",
        "            reply += text\n",
        "            yield reply"
      ]
    },
    {
      "cell_type": "code",
      "execution_count": 13,
      "id": "ad86f652-879a-489f-9891-bdc2d97c33b0",
      "metadata": {
        "id": "ad86f652-879a-489f-9891-bdc2d97c33b0"
      },
      "outputs": [],
      "source": [
        "def unit_test_google(python):\n",
        "    model = google.generativeai.GenerativeModel(\n",
        "        model_name=GOOGLE_MODEL,\n",
        "        system_instruction=system_message\n",
        "    )\n",
        "    stream = model.generate_content(contents=user_prompt_for(python),stream=True)\n",
        "    reply = \"\"\n",
        "    for chunk in stream:\n",
        "        reply += chunk.text or \"\"\n",
        "        yield reply.replace(\"```python\\n\", \"\").replace(\"```\", \"\")"
      ]
    },
    {
      "cell_type": "code",
      "execution_count": null,
      "id": "105db6f9-343c-491d-8e44-3a5328b81719",
      "metadata": {
        "id": "105db6f9-343c-491d-8e44-3a5328b81719"
      },
      "outputs": [],
      "source": [
        "#unit_test_gpt(example)\n",
        "#unit_test_claude(example)\n",
        "#unit_test_google(example)"
      ]
    },
    {
      "cell_type": "code",
      "execution_count": 14,
      "id": "2f1ae8f5-16c8-40a0-aa18-63b617df078d",
      "metadata": {
        "id": "2f1ae8f5-16c8-40a0-aa18-63b617df078d"
      },
      "outputs": [],
      "source": [
        "def select_model(python, model):\n",
        "    if model==\"GPT\":\n",
        "        result = unit_test_gpt(python)\n",
        "    elif model==\"Claude\":\n",
        "        result = unit_test_claude(python)\n",
        "    elif model==\"Google\":\n",
        "        result = unit_test_google(python)\n",
        "    else:\n",
        "        raise ValueError(\"Unknown model\")\n",
        "    for stream_so_far in result:\n",
        "        yield stream_so_far"
      ]
    },
    {
      "cell_type": "code",
      "execution_count": null,
      "id": "f1ddb38e-6b0a-4c37-baa4-ace0b7de887a",
      "metadata": {
        "id": "f1ddb38e-6b0a-4c37-baa4-ace0b7de887a"
      },
      "outputs": [],
      "source": [
        "# with gr.Blocks() as ui:\n",
        "#     with gr.Row():\n",
        "#         python = gr.Textbox(label=\"Python code:\", lines=10, value=example)\n",
        "#         test = gr.Textbox(label=\"Unit tests\", lines=10)\n",
        "#     with gr.Row():\n",
        "#         model = gr.Dropdown([\"GPT\", \"Claude\",\"Google\"], label=\"Select model\", value=\"GPT\")\n",
        "#         generate = gr.Button(\"Generate unit tests\")\n",
        "\n",
        "#     generate.click(select_model, inputs=[python, model], outputs=[test])\n",
        "\n",
        "# ui.launch()"
      ]
    },
    {
      "cell_type": "code",
      "execution_count": 15,
      "id": "389ae411-a4f6-44f2-8b26-d46a971687a7",
      "metadata": {
        "id": "389ae411-a4f6-44f2-8b26-d46a971687a7"
      },
      "outputs": [],
      "source": [
        "def execute_python(code):\n",
        "    # Capture stdout and stderr\n",
        "    output = io.StringIO()\n",
        "    sys_stdout = sys.stdout\n",
        "    sys_stderr = sys.stderr\n",
        "    sys.stdout = output\n",
        "    sys.stderr = output\n",
        "\n",
        "    try:\n",
        "        # Compile the code first\n",
        "        compiled_code = compile(code, '<string>', 'exec')\n",
        "\n",
        "        # Prepare a namespace dict for exec environment\n",
        "        # Include __builtins__ so imports like 'import unittest' work\n",
        "        namespace = {\"__builtins__\": __builtins__}\n",
        "\n",
        "        # Run the user's code, but expect tests will be defined here\n",
        "        exec(compiled_code, namespace)\n",
        "\n",
        "        # Look for unittest.TestCase subclasses in the namespace\n",
        "        loader = unittest.TestLoader()\n",
        "        suite = unittest.TestSuite()\n",
        "\n",
        "        for obj in namespace.values():\n",
        "            if isinstance(obj, type) and issubclass(obj, unittest.TestCase):\n",
        "                tests = loader.loadTestsFromTestCase(obj)\n",
        "                suite.addTests(tests)\n",
        "\n",
        "        # Run the tests\n",
        "        runner = unittest.TextTestRunner(stream=output, verbosity=2)\n",
        "        result = runner.run(suite)\n",
        "\n",
        "    except SystemExit as e:\n",
        "        # Catch sys.exit calls from unittest.main()\n",
        "        output.write(f\"\\nSystemExit called with code {e.code}\\n\")\n",
        "    except Exception as e:\n",
        "        # Catch other errors\n",
        "        output.write(f\"\\nException: {e}\\n\")\n",
        "    finally:\n",
        "        sys.stdout = sys_stdout\n",
        "        sys.stderr = sys_stderr\n",
        "\n",
        "    return output.getvalue()"
      ]
    },
    {
      "cell_type": "code",
      "execution_count": 16,
      "id": "eca98de3-9e2f-4c23-8bb4-dbb2787a15a4",
      "metadata": {
        "colab": {
          "base_uri": "https://localhost:8080/",
          "height": 646
        },
        "id": "eca98de3-9e2f-4c23-8bb4-dbb2787a15a4",
        "outputId": "70de28b7-5dc3-4d05-9fc8-e4f4c1aad27f"
      },
      "outputs": [
        {
          "output_type": "stream",
          "name": "stdout",
          "text": [
            "It looks like you are running Gradio on a hosted Jupyter notebook, which requires `share=True`. Automatically setting `share=True` (you can turn this off by setting `share=False` in `launch()` explicitly).\n",
            "\n",
            "Colab notebook detected. To show errors in colab notebook, set debug=True in launch()\n",
            "* Running on public URL: https://9adbd4502ded8de5fb.gradio.live\n",
            "\n",
            "This share link expires in 1 week. For free permanent hosting and GPU upgrades, run `gradio deploy` from the terminal in the working directory to deploy to Hugging Face Spaces (https://huggingface.co/spaces)\n"
          ]
        },
        {
          "output_type": "display_data",
          "data": {
            "text/plain": [
              "<IPython.core.display.HTML object>"
            ],
            "text/html": [
              "<div><iframe src=\"https://9adbd4502ded8de5fb.gradio.live\" width=\"100%\" height=\"500\" allow=\"autoplay; camera; microphone; clipboard-read; clipboard-write;\" frameborder=\"0\" allowfullscreen></iframe></div>"
            ]
          },
          "metadata": {}
        },
        {
          "output_type": "execute_result",
          "data": {
            "text/plain": []
          },
          "metadata": {},
          "execution_count": 16
        }
      ],
      "source": [
        "with gr.Blocks() as ui:\n",
        "    with gr.Row():\n",
        "        python = gr.Textbox(label=\"Python code:\", lines=10, value=example2)\n",
        "        test = gr.Textbox(label=\"Unit tests\", lines=10)\n",
        "        test_run = gr.Textbox(label=\"Test results\", lines=10)\n",
        "    with gr.Row():\n",
        "        model = gr.Dropdown([\"GPT\", \"Claude\",\"Google\"], label=\"Select model\", value=\"GPT\")\n",
        "        generate = gr.Button(\"Generate unit tests\")\n",
        "        run = gr.Button(\"Run unit tests\")\n",
        "\n",
        "    generate.click(select_model, inputs=[python, model], outputs=[test])\n",
        "    run.click(execute_python, inputs=[test],outputs=[test_run])\n",
        "\n",
        "ui.launch()"
      ]
    }
  ],
  "metadata": {
    "colab": {
      "provenance": [],
      "toc_visible": true
    },
    "kernelspec": {
      "display_name": "Python 3 (ipykernel)",
      "language": "python",
      "name": "python3"
    },
    "language_info": {
      "codemirror_mode": {
        "name": "ipython",
        "version": 3
      },
      "file_extension": ".py",
      "mimetype": "text/x-python",
      "name": "python",
      "nbconvert_exporter": "python",
      "pygments_lexer": "ipython3",
      "version": "3.11.13"
    }
  },
  "nbformat": 4,
  "nbformat_minor": 5
}